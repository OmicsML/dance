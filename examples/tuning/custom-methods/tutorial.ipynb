{
 "cells": [
  {
   "cell_type": "markdown",
   "metadata": {},
   "source": [
    "# Tutorial: Adding and Using a Custom Algorithm in the Auto-Search Framework\n",
    "\n",
    "In this notebook, we'll walk through how to integrate a new algorithm (specifically an SVM classifier) into the auto-search framework outlined in your documentation. We will:\n",
    "\n",
    "1. Inherit from the **BaseClassificationMethod** (or another suitable base) to define our custom method. Implement the required interfaces (`fit`, `predict`, and optionally `preprocessing_pipeline`).  \n",
    "2. Show how to run the hyperparameter search using the integrated method.  \n",
    "3. Provide an example `main.py`-like script that demonstrates how the auto-search process is orchestrated.\n",
    "\n",
    "## 1. Folder Structure & Requirements\n",
    "\n",
    "Before diving in, ensure you have the following directory structure (at least conceptually; your actual project structure can be more extensive):"
   ]
  },
  {
   "cell_type": "markdown",
   "metadata": {},
   "source": [
    "```\n",
    "examples/tuning/\n",
    "└── classification_svm/\n",
    "    ├── main.py\n",
    "    ├── tutorial.ipynb  \n",
    "    └── dataset_name/\n",
    "        ├── pipeline_params_tuning_config.yaml\n",
    "        └── config_yamls/\n",
    "            ├── 0_test_acc_params_tuning_config.yaml\n",
    "            ├── 1_test_acc_params_tuning_config.yaml\n",
    "            └── 2_test_acc_params_tuning_config.yaml\n",
    "```"
   ]
  },
  {
   "cell_type": "markdown",
   "metadata": {},
   "source": [
    "Where `cta_svm` is the directory we created for our new algorithm. The same pattern can apply for other methods, such as `clustering_kmeans`, `regression_linreg`, etc.\n",
    "\n",
    "We'll focus on the **SVM** example below.\n",
    "\n",
    "---"
   ]
  },
  {
   "cell_type": "markdown",
   "metadata": {},
   "source": [
    "## 2. Defining Our SVM Classifier\n",
    "\n",
    "Suppose we want to define a custom SVM method for classification.\n",
    "We'll inherit from BaseClassificationMethod and implement the required methods."
   ]
  },
  {
   "cell_type": "code",
   "execution_count": 1,
   "metadata": {},
   "outputs": [
    {
     "name": "stderr",
     "output_type": "stream",
     "text": [
      "/home/zyxing/dance/dance/utils/matrix.py:178: NumbaExperimentalFeatureWarning: First-class function type feature is experimental\n",
      "  for j in numba.prange(n):\n",
      "/home/zyxing/anaconda3/envs/dance/lib/python3.11/site-packages/numba/np/ufunc/parallel.py:371: NumbaWarning: The TBB threading layer requires TBB version 2021 update 6 or later i.e., TBB_INTERFACE_VERSION >= 12060. Found TBB_INTERFACE_VERSION = 12050. The TBB threading layer is disabled.\n",
      "  warnings.warn(problem)\n"
     ]
    }
   ],
   "source": [
    "from typing import Optional\n",
    "from dance.modules.base import BaseClassificationMethod\n",
    "from sklearn.svm import SVC\n",
    "import numpy as np\n",
    "\n",
    "from dance.transforms.cell_feature import WeightedFeaturePCA\n",
    "from dance.transforms.misc import Compose, SetConfig\n",
    "from dance.typing import LogLevel\n",
    "\n",
    "class SVM(BaseClassificationMethod):\n",
    "    \"\"\"The SVM cell-type classification model.\n",
    "\n",
    "    Parameters\n",
    "    ----------\n",
    "    args : argparse.Namespace\n",
    "        A Namespace contains arguments of SVM. See parser help document for more info.\n",
    "    prj_path: str\n",
    "        project path\n",
    "\n",
    "    \"\"\"\n",
    "\n",
    "    def __init__(self, args, prj_path=\"./\", random_state: Optional[int] = None):\n",
    "        self.args = args\n",
    "        self.random_state = random_state\n",
    "        self._mdl = SVC(random_state=random_state, probability=True)\n",
    "\n",
    "    @staticmethod\n",
    "    def preprocessing_pipeline(n_components: int = 400, log_level: LogLevel = \"INFO\"):\n",
    "        return Compose(\n",
    "            WeightedFeaturePCA(n_components=n_components, split_name=\"train\"),\n",
    "            SetConfig({\n",
    "                \"feature_channel\": \"WeightedFeaturePCA\",\n",
    "                \"label_channel\": \"cell_type\"\n",
    "            }),\n",
    "            log_level=log_level,\n",
    "        )\n",
    "\n",
    "    def fit(self, x: np.ndarray, y: np.ndarray):\n",
    "        \"\"\"Train the classifier.\n",
    "\n",
    "        Parameters\n",
    "        ----------\n",
    "        x\n",
    "            Training cell features.\n",
    "        y\n",
    "            Training labels.\n",
    "\n",
    "        \"\"\"\n",
    "        self._mdl.fit(x, y)\n",
    "\n",
    "    def predict(self, x: np.ndarray):\n",
    "        \"\"\"Predict cell labels.\n",
    "\n",
    "        Parameters\n",
    "        ----------\n",
    "        x\n",
    "            Samples to be predicted (samplex x features).\n",
    "\n",
    "        Returns\n",
    "        -------\n",
    "        y\n",
    "            Predicted labels of the input samples.\n",
    "\n",
    "        \"\"\"\n",
    "        return self._mdl.predict(x)\n"
   ]
  },
  {
   "cell_type": "markdown",
   "metadata": {},
   "source": [
    "## 3. Example `main.py` File\n",
    "\n",
    "Below is an example of how your `main.py` might look if you're adding SVM as one of the classification methods. This file orchestrates the entire pipeline:\n",
    "\n",
    "1. **Register** preprocessing functions through annotations (optional)\n",
    "2. **Parsing Arguments** and configuring hyperparameters.  \n",
    "3. **Defining** an evaluation function that:  \n",
    "   - Loads and preprocesses the data.  \n",
    "   - Initializes your model (the new SVM class).  \n",
    "   - Trains and scores the model.  \n",
    "   - Logs results to Weights & Biases (wandb).  \n",
    "4. **Running** the hyperparameter sweep agent (e.g., via `wandb_sweep_agent`).  \n",
    "5. **Saving** results and optionally generating a second-stage tuning config file.\n",
    "\n",
    "> **Note**: For demonstration, only relevant code is shown. Adjust as needed for your exact pipeline or data."
   ]
  },
  {
   "cell_type": "code",
   "execution_count": 2,
   "metadata": {},
   "outputs": [],
   "source": [
    "\"\"\" \n",
    "Step 1: preprocessing functions can be registered using register_preprocessor. \n",
    "In this example, the GaussRandProjFeature preprocessing function is registered within the feature.cell pipeline. \n",
    "This registered function can later be specified in the configuration file.\n",
    "\"\"\"\n",
    "from sklearn.random_projection import GaussianRandomProjection\n",
    "from dance.registry import register_preprocessor\n",
    "from dance.transforms.base import BaseTransform\n",
    "\n",
    "\n",
    "@register_preprocessor(\"feature\", \"cell\",overwrite=True)  # NOTE: register any custom preprocessing function to be used for tuning\n",
    "class GaussRandProjFeature(BaseTransform):\n",
    "    \"\"\"Custom preprocessing to extract cell feature via Gaussian random projection.\"\"\"\n",
    "\n",
    "    _DISPLAY_ATTRS = (\"n_components\", \"eps\")\n",
    "\n",
    "    def __init__(self, n_components: int = 400, eps: float = 0.1, **kwargs):\n",
    "        super().__init__(**kwargs)\n",
    "        self.n_components = n_components\n",
    "        self.eps = eps\n",
    "\n",
    "    def __call__(self, data):\n",
    "        feat = data.get_feature(return_type=\"numpy\")\n",
    "        grp = GaussianRandomProjection(n_components=self.n_components, eps=self.eps)\n",
    "\n",
    "        self.logger.info(f\"Start generateing cell feature via Gaussian random projection (d={self.n_components}).\")\n",
    "        data.data.obsm[self.out] = grp.fit_transform(feat)\n",
    "\n",
    "        return data\n"
   ]
  },
  {
   "cell_type": "code",
   "execution_count": 3,
   "metadata": {},
   "outputs": [
    {
     "name": "stderr",
     "output_type": "stream",
     "text": [
      "[INFO][2025-08-02 17:05:47,244][dance][main] \n",
      " files is saved in /home/zyxing/dance/examples/tuning/custom-methods/328_138\n",
      "[INFO][2025-08-02 17:05:47,267][dance][config] tune mode is set to pipeline_params, tune_mode will first be converted to pipeline\n",
      "Failed to detect the name of this notebook, you can set it manually with the WANDB_NOTEBOOK_NAME environment variable to enable code saving.\n",
      "[INFO][2025-08-02 17:05:49,186][dance][wandb_sweep] \u001b[94m\n",
      "\n",
      "\t[*] Sweep ID: l3j65jvr\n",
      "\u001b[0m\n",
      "[INFO][2025-08-02 17:05:49,187][dance][wandb_sweep_agent] Spawning agent: sweep_id='l3j65jvr', entity='xzy11632', project='dance-dev', count=2\n"
     ]
    },
    {
     "name": "stdout",
     "output_type": "stream",
     "text": [
      "Create sweep with ID: l3j65jvr\n",
      "Sweep URL: https://wandb.ai/xzy11632/dance-dev/sweeps/l3j65jvr\n"
     ]
    },
    {
     "name": "stderr",
     "output_type": "stream",
     "text": [
      "\u001b[34m\u001b[1mwandb\u001b[0m: Agent Starting Run: pg1eyiyv with config:\n",
      "\u001b[34m\u001b[1mwandb\u001b[0m: \tpipeline.0.filter.gene: FilterGenesPercentile\n",
      "\u001b[34m\u001b[1mwandb\u001b[0m: \tpipeline.1.normalize: Log1P\n",
      "\u001b[34m\u001b[1mwandb\u001b[0m: \tpipeline.2.filter.gene: FilterGenesRegression\n",
      "\u001b[34m\u001b[1mwandb\u001b[0m: \tpipeline.3.feature.cell: CellPCA\n",
      "Failed to detect the name of this notebook, you can set it manually with the WANDB_NOTEBOOK_NAME environment variable to enable code saving.\n",
      "\u001b[34m\u001b[1mwandb\u001b[0m: Currently logged in as: \u001b[33mxzy11632\u001b[0m. Use \u001b[1m`wandb login --relogin`\u001b[0m to force relogin\n"
     ]
    },
    {
     "data": {
      "text/html": [
       "wandb version 0.21.0 is available!  To upgrade, please run:\n",
       " $ pip install wandb --upgrade"
      ],
      "text/plain": [
       "<IPython.core.display.HTML object>"
      ]
     },
     "metadata": {},
     "output_type": "display_data"
    },
    {
     "data": {
      "text/html": [
       "Tracking run with wandb version 0.16.3"
      ],
      "text/plain": [
       "<IPython.core.display.HTML object>"
      ]
     },
     "metadata": {},
     "output_type": "display_data"
    },
    {
     "data": {
      "text/html": [
       "Run data is saved locally in <code>/home/zyxing/dance/examples/tuning/custom-methods/wandb/run-20250802_170552-pg1eyiyv</code>"
      ],
      "text/plain": [
       "<IPython.core.display.HTML object>"
      ]
     },
     "metadata": {},
     "output_type": "display_data"
    },
    {
     "data": {
      "text/html": [
       "Syncing run <strong><a href='https://wandb.ai/xzy11632/dance-dev/runs/pg1eyiyv' target=\"_blank\">swept-sweep-1</a></strong> to <a href='https://wandb.ai/xzy11632/dance-dev' target=\"_blank\">Weights & Biases</a> (<a href='https://wandb.me/run' target=\"_blank\">docs</a>)<br/>Sweep page: <a href='https://wandb.ai/xzy11632/dance-dev/sweeps/l3j65jvr' target=\"_blank\">https://wandb.ai/xzy11632/dance-dev/sweeps/l3j65jvr</a>"
      ],
      "text/plain": [
       "<IPython.core.display.HTML object>"
      ]
     },
     "metadata": {},
     "output_type": "display_data"
    },
    {
     "data": {
      "text/html": [
       " View project at <a href='https://wandb.ai/xzy11632/dance-dev' target=\"_blank\">https://wandb.ai/xzy11632/dance-dev</a>"
      ],
      "text/plain": [
       "<IPython.core.display.HTML object>"
      ]
     },
     "metadata": {},
     "output_type": "display_data"
    },
    {
     "data": {
      "text/html": [
       " View sweep at <a href='https://wandb.ai/xzy11632/dance-dev/sweeps/l3j65jvr' target=\"_blank\">https://wandb.ai/xzy11632/dance-dev/sweeps/l3j65jvr</a>"
      ],
      "text/plain": [
       "<IPython.core.display.HTML object>"
      ]
     },
     "metadata": {},
     "output_type": "display_data"
    },
    {
     "data": {
      "text/html": [
       " View run at <a href='https://wandb.ai/xzy11632/dance-dev/runs/pg1eyiyv' target=\"_blank\">https://wandb.ai/xzy11632/dance-dev/runs/pg1eyiyv</a>"
      ],
      "text/plain": [
       "<IPython.core.display.HTML object>"
      ]
     },
     "metadata": {},
     "output_type": "display_data"
    },
    {
     "name": "stderr",
     "output_type": "stream",
     "text": [
      "[INFO][2025-08-02 17:06:04,521][dance][set_seed] Setting global random seed to 10\n",
      "[INFO][2025-08-02 17:06:04,523][dance][_load_dfs] Loading data from ../temp_data/train/human/human_Brain328_data.csv\n",
      "[INFO][2025-08-02 17:06:04,853][dance][_load_dfs] Loading data from ../temp_data/test/human/human_Brain138_data.csv\n",
      "[INFO][2025-08-02 17:06:04,973][dance][_load_dfs] Loading data from ../temp_data/train/human/human_Brain328_celltype.csv\n",
      "[INFO][2025-08-02 17:06:04,976][dance][_load_dfs] Loading data from ../temp_data/test/human/human_Brain138_celltype.csv\n",
      "/home/zyxing/anaconda3/envs/dance/lib/python3.11/site-packages/anndata/_core/anndata.py:430: FutureWarning: The dtype argument is deprecated and will be removed in late 2024.\n",
      "  warnings.warn(\n",
      "[INFO][2025-08-02 17:06:05,204][dance][_load_raw_data] Loaded expression data: AnnData object with n_obs × n_vars = 466 × 22088\n",
      "[INFO][2025-08-02 17:06:05,206][dance][_load_raw_data] Number of training samples: 262\n",
      "[INFO][2025-08-02 17:06:05,206][dance][_load_raw_data] Number of valid samples: 66\n",
      "[INFO][2025-08-02 17:06:05,207][dance][_load_raw_data] Number of testing samples: 138\n",
      "[INFO][2025-08-02 17:06:05,208][dance][_load_raw_data] Cell-types (n=9):\n",
      "['OPC',\n",
      " 'astrocytes',\n",
      " 'endothelial',\n",
      " 'fetal_quiescent',\n",
      " 'fetal_replicating',\n",
      " 'hybrid',\n",
      " 'microglia',\n",
      " 'neurons',\n",
      " 'oligodendrocytes']\n",
      "[INFO][2025-08-02 17:06:05,210][dance][load_data] Raw data loaded:\n",
      "Data object that wraps (.data):\n",
      "AnnData object with n_obs × n_vars = 466 × 22088\n",
      "    uns: 'dance_config'\n",
      "    obsm: 'cell_type'\n",
      "[INFO][2025-08-02 17:06:05,211][dance][wrapped_func] Took 0:00:00.688356 to load and process data.\n",
      "[INFO][2025-08-02 17:06:05,212][dance][generate_config] The content in pipeline_params will be converted to pipeline\n",
      "[INFO][2025-08-02 17:06:05,214][dance][_sanitize_pipeline] Pipeline plan:\n",
      "\u001b[92m['FilterGenesPercentile', 'Log1P', 'FilterGenesRegression', 'CellPCA', None]\u001b[0m\n",
      "[WARNING][2025-08-02 17:06:05,219][dance.FilterGenesPercentile][__call__] n_counts will be added to the var of data\n",
      "[WARNING][2025-08-02 17:06:05,224][dance.FilterGenesPercentile][__call__] n_cells will be added to the var of data\n",
      "/home/zyxing/dance/dance/transforms/filter.py:801: UserWarning: Expecting count data as input, but the input feature matrix does not appear to be count.Please make sure the input is indeed a count matrix.\n",
      "  warnings.warn(\"Expecting count data as input, but the input feature matrix does not appear to be count.\"\n",
      "[INFO][2025-08-02 17:06:05,409][dance][_filter_enclasc] Start generating cell features using EnClaSC\n",
      "[WARNING][2025-08-02 17:06:05,430][dance.CellPCA][__call__] n_components=400 must be between 0 and min(n_samples, n_features)=100 with svd_solver='auto'\n",
      "[INFO][2025-08-02 17:06:05,439][dance.CellPCA][__call__] Generating cell PCA features (466, 100) (k=100)\n",
      "[INFO][2025-08-02 17:06:05,440][dance.CellPCA][__call__] Top 10 explained variances: [0.23916744 0.05842363 0.04683256 0.03281356 0.02914845 0.02579421\n",
      " 0.02171307 0.01991559 0.01872415 0.01706835]\n",
      "[INFO][2025-08-02 17:06:05,442][dance.CellPCA][__call__] Total explained variance: 100.00%\n",
      "[INFO][2025-08-02 17:06:05,444][dance][set_config_from_dict] Setting config 'feature_channel' to 'feature.cell'\n",
      "[INFO][2025-08-02 17:06:05,445][dance][set_config_from_dict] Setting config 'label_channel' to 'cell_type'\n"
     ]
    },
    {
     "data": {
      "application/vnd.jupyter.widget-view+json": {
       "model_id": "54e45b52722a4335acc9fd2211b06714",
       "version_major": 2,
       "version_minor": 0
      },
      "text/plain": [
       "VBox(children=(Label(value='0.011 MB of 0.011 MB uploaded\\r'), FloatProgress(value=1.0, max=1.0)))"
      ]
     },
     "metadata": {},
     "output_type": "display_data"
    },
    {
     "data": {
      "text/html": [
       "<style>\n",
       "    table.wandb td:nth-child(1) { padding: 0 10px; text-align: left ; width: auto;} td:nth-child(2) {text-align: left ; width: 100%}\n",
       "    .wandb-row { display: flex; flex-direction: row; flex-wrap: wrap; justify-content: flex-start; width: 100% }\n",
       "    .wandb-col { display: flex; flex-direction: column; flex-basis: 100%; flex: 1; padding: 10px; }\n",
       "    </style>\n",
       "<div class=\"wandb-row\"><div class=\"wandb-col\"><h3>Run history:</h3><br/><table class=\"wandb\"><tr><td>acc</td><td>▁</td></tr><tr><td>test_acc</td><td>▁</td></tr><tr><td>train_acc</td><td>▁</td></tr></table><br/></div><div class=\"wandb-col\"><h3>Run summary:</h3><br/><table class=\"wandb\"><tr><td>acc</td><td>0.65152</td></tr><tr><td>test_acc</td><td>0.22464</td></tr><tr><td>train_acc</td><td>0.81298</td></tr></table><br/></div></div>"
      ],
      "text/plain": [
       "<IPython.core.display.HTML object>"
      ]
     },
     "metadata": {},
     "output_type": "display_data"
    },
    {
     "data": {
      "text/html": [
       " View run <strong style=\"color:#cdcd00\">swept-sweep-1</strong> at: <a href='https://wandb.ai/xzy11632/dance-dev/runs/pg1eyiyv' target=\"_blank\">https://wandb.ai/xzy11632/dance-dev/runs/pg1eyiyv</a><br/>Synced 6 W&B file(s), 0 media file(s), 0 artifact file(s) and 0 other file(s)"
      ],
      "text/plain": [
       "<IPython.core.display.HTML object>"
      ]
     },
     "metadata": {},
     "output_type": "display_data"
    },
    {
     "data": {
      "text/html": [
       "Find logs at: <code>./wandb/run-20250802_170552-pg1eyiyv/logs</code>"
      ],
      "text/plain": [
       "<IPython.core.display.HTML object>"
      ]
     },
     "metadata": {},
     "output_type": "display_data"
    },
    {
     "name": "stderr",
     "output_type": "stream",
     "text": [
      "\u001b[34m\u001b[1mwandb\u001b[0m: Agent Starting Run: z8pa2v0y with config:\n",
      "\u001b[34m\u001b[1mwandb\u001b[0m: \tpipeline.0.filter.gene: FilterGenesPercentile\n",
      "\u001b[34m\u001b[1mwandb\u001b[0m: \tpipeline.1.normalize: Log1P\n",
      "\u001b[34m\u001b[1mwandb\u001b[0m: \tpipeline.2.filter.gene: FilterGenesRegression\n",
      "\u001b[34m\u001b[1mwandb\u001b[0m: \tpipeline.3.feature.cell: CellSVD\n",
      "Failed to detect the name of this notebook, you can set it manually with the WANDB_NOTEBOOK_NAME environment variable to enable code saving.\n"
     ]
    },
    {
     "data": {
      "application/vnd.jupyter.widget-view+json": {
       "model_id": "62500a232e3f4cfc94b2e052ac7b8860",
       "version_major": 2,
       "version_minor": 0
      },
      "text/plain": [
       "VBox(children=(Label(value='Waiting for wandb.init()...\\r'), FloatProgress(value=0.011112895504468017, max=1.0…"
      ]
     },
     "metadata": {},
     "output_type": "display_data"
    },
    {
     "data": {
      "text/html": [
       "wandb version 0.21.0 is available!  To upgrade, please run:\n",
       " $ pip install wandb --upgrade"
      ],
      "text/plain": [
       "<IPython.core.display.HTML object>"
      ]
     },
     "metadata": {},
     "output_type": "display_data"
    },
    {
     "data": {
      "text/html": [
       "Tracking run with wandb version 0.16.3"
      ],
      "text/plain": [
       "<IPython.core.display.HTML object>"
      ]
     },
     "metadata": {},
     "output_type": "display_data"
    },
    {
     "data": {
      "text/html": [
       "Run data is saved locally in <code>/home/zyxing/dance/examples/tuning/custom-methods/wandb/run-20250802_170619-z8pa2v0y</code>"
      ],
      "text/plain": [
       "<IPython.core.display.HTML object>"
      ]
     },
     "metadata": {},
     "output_type": "display_data"
    },
    {
     "data": {
      "text/html": [
       "Syncing run <strong><a href='https://wandb.ai/xzy11632/dance-dev/runs/z8pa2v0y' target=\"_blank\">sweet-sweep-2</a></strong> to <a href='https://wandb.ai/xzy11632/dance-dev' target=\"_blank\">Weights & Biases</a> (<a href='https://wandb.me/run' target=\"_blank\">docs</a>)<br/>Sweep page: <a href='https://wandb.ai/xzy11632/dance-dev/sweeps/l3j65jvr' target=\"_blank\">https://wandb.ai/xzy11632/dance-dev/sweeps/l3j65jvr</a>"
      ],
      "text/plain": [
       "<IPython.core.display.HTML object>"
      ]
     },
     "metadata": {},
     "output_type": "display_data"
    },
    {
     "data": {
      "text/html": [
       " View project at <a href='https://wandb.ai/xzy11632/dance-dev' target=\"_blank\">https://wandb.ai/xzy11632/dance-dev</a>"
      ],
      "text/plain": [
       "<IPython.core.display.HTML object>"
      ]
     },
     "metadata": {},
     "output_type": "display_data"
    },
    {
     "data": {
      "text/html": [
       " View sweep at <a href='https://wandb.ai/xzy11632/dance-dev/sweeps/l3j65jvr' target=\"_blank\">https://wandb.ai/xzy11632/dance-dev/sweeps/l3j65jvr</a>"
      ],
      "text/plain": [
       "<IPython.core.display.HTML object>"
      ]
     },
     "metadata": {},
     "output_type": "display_data"
    },
    {
     "data": {
      "text/html": [
       " View run at <a href='https://wandb.ai/xzy11632/dance-dev/runs/z8pa2v0y' target=\"_blank\">https://wandb.ai/xzy11632/dance-dev/runs/z8pa2v0y</a>"
      ],
      "text/plain": [
       "<IPython.core.display.HTML object>"
      ]
     },
     "metadata": {},
     "output_type": "display_data"
    },
    {
     "name": "stderr",
     "output_type": "stream",
     "text": [
      "[INFO][2025-08-02 17:06:31,481][dance][set_seed] Setting global random seed to 10\n",
      "[INFO][2025-08-02 17:06:31,484][dance][_load_dfs] Loading data from ../temp_data/train/human/human_Brain328_data.csv\n",
      "[INFO][2025-08-02 17:06:31,819][dance][_load_dfs] Loading data from ../temp_data/test/human/human_Brain138_data.csv\n",
      "[INFO][2025-08-02 17:06:31,947][dance][_load_dfs] Loading data from ../temp_data/train/human/human_Brain328_celltype.csv\n",
      "[INFO][2025-08-02 17:06:31,952][dance][_load_dfs] Loading data from ../temp_data/test/human/human_Brain138_celltype.csv\n",
      "/home/zyxing/anaconda3/envs/dance/lib/python3.11/site-packages/anndata/_core/anndata.py:430: FutureWarning: The dtype argument is deprecated and will be removed in late 2024.\n",
      "  warnings.warn(\n",
      "[INFO][2025-08-02 17:06:32,112][dance][_load_raw_data] Loaded expression data: AnnData object with n_obs × n_vars = 466 × 22088\n",
      "[INFO][2025-08-02 17:06:32,113][dance][_load_raw_data] Number of training samples: 262\n",
      "[INFO][2025-08-02 17:06:32,114][dance][_load_raw_data] Number of valid samples: 66\n",
      "[INFO][2025-08-02 17:06:32,114][dance][_load_raw_data] Number of testing samples: 138\n",
      "[INFO][2025-08-02 17:06:32,115][dance][_load_raw_data] Cell-types (n=9):\n",
      "['OPC',\n",
      " 'astrocytes',\n",
      " 'endothelial',\n",
      " 'fetal_quiescent',\n",
      " 'fetal_replicating',\n",
      " 'hybrid',\n",
      " 'microglia',\n",
      " 'neurons',\n",
      " 'oligodendrocytes']\n",
      "[INFO][2025-08-02 17:06:32,117][dance][load_data] Raw data loaded:\n",
      "Data object that wraps (.data):\n",
      "AnnData object with n_obs × n_vars = 466 × 22088\n",
      "    uns: 'dance_config'\n",
      "    obsm: 'cell_type'\n",
      "[INFO][2025-08-02 17:06:32,118][dance][wrapped_func] Took 0:00:00.634973 to load and process data.\n",
      "[INFO][2025-08-02 17:06:32,119][dance][generate_config] The content in pipeline_params will be converted to pipeline\n",
      "[INFO][2025-08-02 17:06:32,120][dance][_sanitize_pipeline] Pipeline plan:\n",
      "\u001b[92m['FilterGenesPercentile', 'Log1P', 'FilterGenesRegression', 'CellSVD', None]\u001b[0m\n",
      "[WARNING][2025-08-02 17:06:32,126][dance.FilterGenesPercentile][__call__] n_counts will be added to the var of data\n",
      "[WARNING][2025-08-02 17:06:32,131][dance.FilterGenesPercentile][__call__] n_cells will be added to the var of data\n",
      "/home/zyxing/dance/dance/transforms/filter.py:801: UserWarning: Expecting count data as input, but the input feature matrix does not appear to be count.Please make sure the input is indeed a count matrix.\n",
      "  warnings.warn(\"Expecting count data as input, but the input feature matrix does not appear to be count.\"\n",
      "[INFO][2025-08-02 17:06:32,299][dance][_filter_enclasc] Start generating cell features using EnClaSC\n",
      "[WARNING][2025-08-02 17:06:32,318][dance.CellSVD][__call__] n_components=400 must be between 0 and min(n_samples, n_features)=100 with svd_solver='full'\n",
      "[INFO][2025-08-02 17:06:32,601][dance.CellSVD][__call__] Generating cell SVD features (466, 100) (k=100)\n",
      "[INFO][2025-08-02 17:06:32,602][dance.CellSVD][__call__] Top 10 explained variances: [0.2317797  0.04843297 0.04686335 0.04153511 0.03247556 0.02656599\n",
      " 0.0237303  0.019987   0.01875298 0.01815676]\n",
      "[INFO][2025-08-02 17:06:32,602][dance.CellSVD][__call__] Total explained variance: 100.00%\n",
      "[INFO][2025-08-02 17:06:32,604][dance][set_config_from_dict] Setting config 'feature_channel' to 'feature.cell'\n",
      "[INFO][2025-08-02 17:06:32,604][dance][set_config_from_dict] Setting config 'label_channel' to 'cell_type'\n"
     ]
    },
    {
     "data": {
      "application/vnd.jupyter.widget-view+json": {
       "model_id": "67e40458a41743d28f5813e13b0c8fde",
       "version_major": 2,
       "version_minor": 0
      },
      "text/plain": [
       "VBox(children=(Label(value='0.011 MB of 0.011 MB uploaded\\r'), FloatProgress(value=1.0, max=1.0)))"
      ]
     },
     "metadata": {},
     "output_type": "display_data"
    },
    {
     "data": {
      "text/html": [
       "<style>\n",
       "    table.wandb td:nth-child(1) { padding: 0 10px; text-align: left ; width: auto;} td:nth-child(2) {text-align: left ; width: 100%}\n",
       "    .wandb-row { display: flex; flex-direction: row; flex-wrap: wrap; justify-content: flex-start; width: 100% }\n",
       "    .wandb-col { display: flex; flex-direction: column; flex-basis: 100%; flex: 1; padding: 10px; }\n",
       "    </style>\n",
       "<div class=\"wandb-row\"><div class=\"wandb-col\"><h3>Run history:</h3><br/><table class=\"wandb\"><tr><td>acc</td><td>▁</td></tr><tr><td>test_acc</td><td>▁</td></tr><tr><td>train_acc</td><td>▁</td></tr></table><br/></div><div class=\"wandb-col\"><h3>Run summary:</h3><br/><table class=\"wandb\"><tr><td>acc</td><td>0.65152</td></tr><tr><td>test_acc</td><td>0.22464</td></tr><tr><td>train_acc</td><td>0.80916</td></tr></table><br/></div></div>"
      ],
      "text/plain": [
       "<IPython.core.display.HTML object>"
      ]
     },
     "metadata": {},
     "output_type": "display_data"
    },
    {
     "data": {
      "text/html": [
       " View run <strong style=\"color:#cdcd00\">sweet-sweep-2</strong> at: <a href='https://wandb.ai/xzy11632/dance-dev/runs/z8pa2v0y' target=\"_blank\">https://wandb.ai/xzy11632/dance-dev/runs/z8pa2v0y</a><br/>Synced 6 W&B file(s), 0 media file(s), 0 artifact file(s) and 0 other file(s)"
      ],
      "text/plain": [
       "<IPython.core.display.HTML object>"
      ]
     },
     "metadata": {},
     "output_type": "display_data"
    },
    {
     "data": {
      "text/html": [
       "Find logs at: <code>./wandb/run-20250802_170619-z8pa2v0y/logs</code>"
      ],
      "text/plain": [
       "<IPython.core.display.HTML object>"
      ]
     },
     "metadata": {},
     "output_type": "display_data"
    },
    {
     "name": "stderr",
     "output_type": "stream",
     "text": [
      "[INFO][2025-08-02 17:06:43,240][dance][wandb_sweep] \u001b[94m\n",
      "\n",
      "\t[*] Sweep ID: oi0wgxt9\n",
      "\u001b[0m\n",
      "[INFO][2025-08-02 17:06:43,241][dance][wandb_sweep_agent] Spawning agent: sweep_id='oi0wgxt9', entity='xzy11632', project='dance-dev', count=2\n"
     ]
    },
    {
     "name": "stdout",
     "output_type": "stream",
     "text": [
      "Create sweep with ID: oi0wgxt9\n",
      "Sweep URL: https://wandb.ai/xzy11632/dance-dev/sweeps/oi0wgxt9\n"
     ]
    },
    {
     "name": "stderr",
     "output_type": "stream",
     "text": [
      "\u001b[34m\u001b[1mwandb\u001b[0m: Agent Starting Run: ddqktqto with config:\n",
      "\u001b[34m\u001b[1mwandb\u001b[0m: \tparams.0.FilterGenesPercentile.max_val: 95\n",
      "\u001b[34m\u001b[1mwandb\u001b[0m: \tparams.0.FilterGenesPercentile.min_val: 4\n",
      "\u001b[34m\u001b[1mwandb\u001b[0m: \tparams.0.FilterGenesPercentile.mode: sum\n",
      "\u001b[34m\u001b[1mwandb\u001b[0m: \tparams.1.Log1P.base: 9.911407484249043\n",
      "\u001b[34m\u001b[1mwandb\u001b[0m: \tparams.2.FilterGenesRegression.method: enclasc\n",
      "\u001b[34m\u001b[1mwandb\u001b[0m: \tparams.2.FilterGenesRegression.num_genes: 9886\n",
      "\u001b[34m\u001b[1mwandb\u001b[0m: \tparams.3.CellSVD.algorithm: arpack\n",
      "\u001b[34m\u001b[1mwandb\u001b[0m: \tparams.3.CellSVD.n_components: 214\n",
      "Failed to detect the name of this notebook, you can set it manually with the WANDB_NOTEBOOK_NAME environment variable to enable code saving.\n"
     ]
    },
    {
     "data": {
      "text/html": [
       "wandb version 0.21.0 is available!  To upgrade, please run:\n",
       " $ pip install wandb --upgrade"
      ],
      "text/plain": [
       "<IPython.core.display.HTML object>"
      ]
     },
     "metadata": {},
     "output_type": "display_data"
    },
    {
     "data": {
      "text/html": [
       "Tracking run with wandb version 0.16.3"
      ],
      "text/plain": [
       "<IPython.core.display.HTML object>"
      ]
     },
     "metadata": {},
     "output_type": "display_data"
    },
    {
     "data": {
      "text/html": [
       "Run data is saved locally in <code>/home/zyxing/dance/examples/tuning/custom-methods/wandb/run-20250802_170646-ddqktqto</code>"
      ],
      "text/plain": [
       "<IPython.core.display.HTML object>"
      ]
     },
     "metadata": {},
     "output_type": "display_data"
    },
    {
     "data": {
      "text/html": [
       "Syncing run <strong><a href='https://wandb.ai/xzy11632/dance-dev/runs/ddqktqto' target=\"_blank\">glorious-sweep-1</a></strong> to <a href='https://wandb.ai/xzy11632/dance-dev' target=\"_blank\">Weights & Biases</a> (<a href='https://wandb.me/run' target=\"_blank\">docs</a>)<br/>Sweep page: <a href='https://wandb.ai/xzy11632/dance-dev/sweeps/oi0wgxt9' target=\"_blank\">https://wandb.ai/xzy11632/dance-dev/sweeps/oi0wgxt9</a>"
      ],
      "text/plain": [
       "<IPython.core.display.HTML object>"
      ]
     },
     "metadata": {},
     "output_type": "display_data"
    },
    {
     "data": {
      "text/html": [
       " View project at <a href='https://wandb.ai/xzy11632/dance-dev' target=\"_blank\">https://wandb.ai/xzy11632/dance-dev</a>"
      ],
      "text/plain": [
       "<IPython.core.display.HTML object>"
      ]
     },
     "metadata": {},
     "output_type": "display_data"
    },
    {
     "data": {
      "text/html": [
       " View sweep at <a href='https://wandb.ai/xzy11632/dance-dev/sweeps/oi0wgxt9' target=\"_blank\">https://wandb.ai/xzy11632/dance-dev/sweeps/oi0wgxt9</a>"
      ],
      "text/plain": [
       "<IPython.core.display.HTML object>"
      ]
     },
     "metadata": {},
     "output_type": "display_data"
    },
    {
     "data": {
      "text/html": [
       " View run at <a href='https://wandb.ai/xzy11632/dance-dev/runs/ddqktqto' target=\"_blank\">https://wandb.ai/xzy11632/dance-dev/runs/ddqktqto</a>"
      ],
      "text/plain": [
       "<IPython.core.display.HTML object>"
      ]
     },
     "metadata": {},
     "output_type": "display_data"
    },
    {
     "name": "stderr",
     "output_type": "stream",
     "text": [
      "[INFO][2025-08-02 17:06:58,248][dance][set_seed] Setting global random seed to 10\n",
      "[INFO][2025-08-02 17:06:58,257][dance][_load_dfs] Loading data from ../temp_data/train/human/human_Brain328_data.csv\n",
      "[INFO][2025-08-02 17:06:58,666][dance][_load_dfs] Loading data from ../temp_data/test/human/human_Brain138_data.csv\n",
      "[INFO][2025-08-02 17:06:58,793][dance][_load_dfs] Loading data from ../temp_data/train/human/human_Brain328_celltype.csv\n",
      "[INFO][2025-08-02 17:06:58,796][dance][_load_dfs] Loading data from ../temp_data/test/human/human_Brain138_celltype.csv\n",
      "/home/zyxing/anaconda3/envs/dance/lib/python3.11/site-packages/anndata/_core/anndata.py:430: FutureWarning: The dtype argument is deprecated and will be removed in late 2024.\n",
      "  warnings.warn(\n",
      "[INFO][2025-08-02 17:06:58,961][dance][_load_raw_data] Loaded expression data: AnnData object with n_obs × n_vars = 466 × 22088\n",
      "[INFO][2025-08-02 17:06:58,962][dance][_load_raw_data] Number of training samples: 262\n",
      "[INFO][2025-08-02 17:06:58,963][dance][_load_raw_data] Number of valid samples: 66\n",
      "[INFO][2025-08-02 17:06:58,964][dance][_load_raw_data] Number of testing samples: 138\n",
      "[INFO][2025-08-02 17:06:58,965][dance][_load_raw_data] Cell-types (n=9):\n",
      "['OPC',\n",
      " 'astrocytes',\n",
      " 'endothelial',\n",
      " 'fetal_quiescent',\n",
      " 'fetal_replicating',\n",
      " 'hybrid',\n",
      " 'microglia',\n",
      " 'neurons',\n",
      " 'oligodendrocytes']\n",
      "[INFO][2025-08-02 17:06:58,966][dance][load_data] Raw data loaded:\n",
      "Data object that wraps (.data):\n",
      "AnnData object with n_obs × n_vars = 466 × 22088\n",
      "    uns: 'dance_config'\n",
      "    obsm: 'cell_type'\n",
      "[INFO][2025-08-02 17:06:58,967][dance][wrapped_func] Took 0:00:00.710948 to load and process data.\n",
      "[INFO][2025-08-02 17:06:58,969][dance][_sanitize_params] Params plan:\n",
      "\u001b[92m[{'max_val': 95, 'min_val': 4, 'mode': 'sum'},\n",
      " {'base': 9.911407484249043},\n",
      " {'method': 'enclasc', 'num_genes': 9886},\n",
      " {'algorithm': 'arpack', 'n_components': 214},\n",
      " None]\u001b[0m\n",
      "[WARNING][2025-08-02 17:06:58,977][dance.FilterGenesPercentile][__call__] n_counts will be added to the var of data\n",
      "[WARNING][2025-08-02 17:06:58,983][dance.FilterGenesPercentile][__call__] n_cells will be added to the var of data\n",
      "/home/zyxing/dance/dance/transforms/filter.py:801: UserWarning: Expecting count data as input, but the input feature matrix does not appear to be count.Please make sure the input is indeed a count matrix.\n",
      "  warnings.warn(\"Expecting count data as input, but the input feature matrix does not appear to be count.\"\n",
      "[INFO][2025-08-02 17:06:59,144][dance][_filter_enclasc] Start generating cell features using EnClaSC\n",
      "[INFO][2025-08-02 17:07:00,002][dance.CellSVD][__call__] Generating cell SVD features (466, 9886) (k=214)\n",
      "[INFO][2025-08-02 17:07:00,004][dance.CellSVD][__call__] Top 10 explained variances: [0.03629109 0.03641604 0.02666014 0.02162129 0.0153416  0.01326984\n",
      " 0.01049376 0.00895147 0.00877829 0.00733771]\n",
      "[INFO][2025-08-02 17:07:00,005][dance.CellSVD][__call__] Total explained variance: 74.87%\n",
      "[INFO][2025-08-02 17:07:00,007][dance][set_config_from_dict] Setting config 'feature_channel' to 'feature.cell'\n",
      "[INFO][2025-08-02 17:07:00,008][dance][set_config_from_dict] Setting config 'label_channel' to 'cell_type'\n"
     ]
    },
    {
     "data": {
      "application/vnd.jupyter.widget-view+json": {
       "model_id": "1c82817ec3d04a6aad5cb7d2847e8e30",
       "version_major": 2,
       "version_minor": 0
      },
      "text/plain": [
       "VBox(children=(Label(value='0.011 MB of 0.011 MB uploaded\\r'), FloatProgress(value=1.0, max=1.0)))"
      ]
     },
     "metadata": {},
     "output_type": "display_data"
    },
    {
     "data": {
      "text/html": [
       "<style>\n",
       "    table.wandb td:nth-child(1) { padding: 0 10px; text-align: left ; width: auto;} td:nth-child(2) {text-align: left ; width: 100%}\n",
       "    .wandb-row { display: flex; flex-direction: row; flex-wrap: wrap; justify-content: flex-start; width: 100% }\n",
       "    .wandb-col { display: flex; flex-direction: column; flex-basis: 100%; flex: 1; padding: 10px; }\n",
       "    </style>\n",
       "<div class=\"wandb-row\"><div class=\"wandb-col\"><h3>Run history:</h3><br/><table class=\"wandb\"><tr><td>acc</td><td>▁</td></tr><tr><td>test_acc</td><td>▁</td></tr><tr><td>train_acc</td><td>▁</td></tr></table><br/></div><div class=\"wandb-col\"><h3>Run summary:</h3><br/><table class=\"wandb\"><tr><td>acc</td><td>0.75758</td></tr><tr><td>test_acc</td><td>0.71739</td></tr><tr><td>train_acc</td><td>0.96565</td></tr></table><br/></div></div>"
      ],
      "text/plain": [
       "<IPython.core.display.HTML object>"
      ]
     },
     "metadata": {},
     "output_type": "display_data"
    },
    {
     "data": {
      "text/html": [
       " View run <strong style=\"color:#cdcd00\">glorious-sweep-1</strong> at: <a href='https://wandb.ai/xzy11632/dance-dev/runs/ddqktqto' target=\"_blank\">https://wandb.ai/xzy11632/dance-dev/runs/ddqktqto</a><br/>Synced 6 W&B file(s), 0 media file(s), 0 artifact file(s) and 0 other file(s)"
      ],
      "text/plain": [
       "<IPython.core.display.HTML object>"
      ]
     },
     "metadata": {},
     "output_type": "display_data"
    },
    {
     "data": {
      "text/html": [
       "Find logs at: <code>./wandb/run-20250802_170646-ddqktqto/logs</code>"
      ],
      "text/plain": [
       "<IPython.core.display.HTML object>"
      ]
     },
     "metadata": {},
     "output_type": "display_data"
    },
    {
     "name": "stderr",
     "output_type": "stream",
     "text": [
      "\u001b[34m\u001b[1mwandb\u001b[0m: Agent Starting Run: 7jv36906 with config:\n",
      "\u001b[34m\u001b[1mwandb\u001b[0m: \tparams.0.FilterGenesPercentile.max_val: 97\n",
      "\u001b[34m\u001b[1mwandb\u001b[0m: \tparams.0.FilterGenesPercentile.min_val: 7\n",
      "\u001b[34m\u001b[1mwandb\u001b[0m: \tparams.0.FilterGenesPercentile.mode: var\n",
      "\u001b[34m\u001b[1mwandb\u001b[0m: \tparams.1.Log1P.base: 1.937795425949926\n",
      "\u001b[34m\u001b[1mwandb\u001b[0m: \tparams.2.FilterGenesRegression.method: seurat3\n",
      "\u001b[34m\u001b[1mwandb\u001b[0m: \tparams.2.FilterGenesRegression.num_genes: 122\n",
      "\u001b[34m\u001b[1mwandb\u001b[0m: \tparams.3.CellSVD.algorithm: arpack\n",
      "\u001b[34m\u001b[1mwandb\u001b[0m: \tparams.3.CellSVD.n_components: 613\n",
      "Failed to detect the name of this notebook, you can set it manually with the WANDB_NOTEBOOK_NAME environment variable to enable code saving.\n"
     ]
    },
    {
     "data": {
      "text/html": [
       "wandb version 0.21.0 is available!  To upgrade, please run:\n",
       " $ pip install wandb --upgrade"
      ],
      "text/plain": [
       "<IPython.core.display.HTML object>"
      ]
     },
     "metadata": {},
     "output_type": "display_data"
    },
    {
     "data": {
      "text/html": [
       "Tracking run with wandb version 0.16.3"
      ],
      "text/plain": [
       "<IPython.core.display.HTML object>"
      ]
     },
     "metadata": {},
     "output_type": "display_data"
    },
    {
     "data": {
      "text/html": [
       "Run data is saved locally in <code>/home/zyxing/dance/examples/tuning/custom-methods/wandb/run-20250802_170714-7jv36906</code>"
      ],
      "text/plain": [
       "<IPython.core.display.HTML object>"
      ]
     },
     "metadata": {},
     "output_type": "display_data"
    },
    {
     "data": {
      "text/html": [
       "Syncing run <strong><a href='https://wandb.ai/xzy11632/dance-dev/runs/7jv36906' target=\"_blank\">comic-sweep-2</a></strong> to <a href='https://wandb.ai/xzy11632/dance-dev' target=\"_blank\">Weights & Biases</a> (<a href='https://wandb.me/run' target=\"_blank\">docs</a>)<br/>Sweep page: <a href='https://wandb.ai/xzy11632/dance-dev/sweeps/oi0wgxt9' target=\"_blank\">https://wandb.ai/xzy11632/dance-dev/sweeps/oi0wgxt9</a>"
      ],
      "text/plain": [
       "<IPython.core.display.HTML object>"
      ]
     },
     "metadata": {},
     "output_type": "display_data"
    },
    {
     "data": {
      "text/html": [
       " View project at <a href='https://wandb.ai/xzy11632/dance-dev' target=\"_blank\">https://wandb.ai/xzy11632/dance-dev</a>"
      ],
      "text/plain": [
       "<IPython.core.display.HTML object>"
      ]
     },
     "metadata": {},
     "output_type": "display_data"
    },
    {
     "data": {
      "text/html": [
       " View sweep at <a href='https://wandb.ai/xzy11632/dance-dev/sweeps/oi0wgxt9' target=\"_blank\">https://wandb.ai/xzy11632/dance-dev/sweeps/oi0wgxt9</a>"
      ],
      "text/plain": [
       "<IPython.core.display.HTML object>"
      ]
     },
     "metadata": {},
     "output_type": "display_data"
    },
    {
     "data": {
      "text/html": [
       " View run at <a href='https://wandb.ai/xzy11632/dance-dev/runs/7jv36906' target=\"_blank\">https://wandb.ai/xzy11632/dance-dev/runs/7jv36906</a>"
      ],
      "text/plain": [
       "<IPython.core.display.HTML object>"
      ]
     },
     "metadata": {},
     "output_type": "display_data"
    },
    {
     "name": "stderr",
     "output_type": "stream",
     "text": [
      "[INFO][2025-08-02 17:07:25,797][dance][set_seed] Setting global random seed to 10\n",
      "[INFO][2025-08-02 17:07:25,804][dance][_load_dfs] Loading data from ../temp_data/train/human/human_Brain328_data.csv\n",
      "[INFO][2025-08-02 17:07:26,090][dance][_load_dfs] Loading data from ../temp_data/test/human/human_Brain138_data.csv\n",
      "[INFO][2025-08-02 17:07:26,211][dance][_load_dfs] Loading data from ../temp_data/train/human/human_Brain328_celltype.csv\n",
      "[INFO][2025-08-02 17:07:26,214][dance][_load_dfs] Loading data from ../temp_data/test/human/human_Brain138_celltype.csv\n",
      "/home/zyxing/anaconda3/envs/dance/lib/python3.11/site-packages/anndata/_core/anndata.py:430: FutureWarning: The dtype argument is deprecated and will be removed in late 2024.\n",
      "  warnings.warn(\n",
      "[INFO][2025-08-02 17:07:26,363][dance][_load_raw_data] Loaded expression data: AnnData object with n_obs × n_vars = 466 × 22088\n",
      "[INFO][2025-08-02 17:07:26,364][dance][_load_raw_data] Number of training samples: 262\n",
      "[INFO][2025-08-02 17:07:26,365][dance][_load_raw_data] Number of valid samples: 66\n",
      "[INFO][2025-08-02 17:07:26,366][dance][_load_raw_data] Number of testing samples: 138\n",
      "[INFO][2025-08-02 17:07:26,367][dance][_load_raw_data] Cell-types (n=9):\n",
      "['OPC',\n",
      " 'astrocytes',\n",
      " 'endothelial',\n",
      " 'fetal_quiescent',\n",
      " 'fetal_replicating',\n",
      " 'hybrid',\n",
      " 'microglia',\n",
      " 'neurons',\n",
      " 'oligodendrocytes']\n",
      "[INFO][2025-08-02 17:07:26,369][dance][load_data] Raw data loaded:\n",
      "Data object that wraps (.data):\n",
      "AnnData object with n_obs × n_vars = 466 × 22088\n",
      "    uns: 'dance_config'\n",
      "    obsm: 'cell_type'\n",
      "[INFO][2025-08-02 17:07:26,370][dance][wrapped_func] Took 0:00:00.566299 to load and process data.\n",
      "[INFO][2025-08-02 17:07:26,371][dance][_sanitize_params] Params plan:\n",
      "\u001b[92m[{'max_val': 97, 'min_val': 7, 'mode': 'var'},\n",
      " {'base': 1.937795425949926},\n",
      " {'method': 'seurat3', 'num_genes': 122},\n",
      " {'algorithm': 'arpack', 'n_components': 613},\n",
      " None]\u001b[0m\n",
      "[WARNING][2025-08-02 17:07:26,379][dance.FilterGenesPercentile][__call__] n_counts will be added to the var of data\n",
      "[WARNING][2025-08-02 17:07:26,383][dance.FilterGenesPercentile][__call__] n_cells will be added to the var of data\n",
      "/home/zyxing/dance/dance/transforms/filter.py:801: UserWarning: Expecting count data as input, but the input feature matrix does not appear to be count.Please make sure the input is indeed a count matrix.\n",
      "  warnings.warn(\"Expecting count data as input, but the input feature matrix does not appear to be count.\"\n",
      "[INFO][2025-08-02 17:07:26,571][dance][_filter_seurat3] Start generating cell features using Seurat v3.0\n",
      "[WARNING][2025-08-02 17:07:26,598][dance.CellSVD][__call__] n_components=613 must be between 0 and min(n_samples, n_features)=122 with svd_solver='full'\n"
     ]
    },
    {
     "data": {
      "application/vnd.jupyter.widget-view+json": {
       "model_id": "69b5271f416e4d00914715c0b760603f",
       "version_major": 2,
       "version_minor": 0
      },
      "text/plain": [
       "VBox(children=(Label(value='0.011 MB of 0.011 MB uploaded\\r'), FloatProgress(value=1.0, max=1.0)))"
      ]
     },
     "metadata": {},
     "output_type": "display_data"
    },
    {
     "data": {
      "text/html": [
       " View run <strong style=\"color:#cdcd00\">comic-sweep-2</strong> at: <a href='https://wandb.ai/xzy11632/dance-dev/runs/7jv36906' target=\"_blank\">https://wandb.ai/xzy11632/dance-dev/runs/7jv36906</a><br/>Synced 6 W&B file(s), 0 media file(s), 0 artifact file(s) and 0 other file(s)"
      ],
      "text/plain": [
       "<IPython.core.display.HTML object>"
      ]
     },
     "metadata": {},
     "output_type": "display_data"
    },
    {
     "data": {
      "text/html": [
       "Find logs at: <code>./wandb/run-20250802_170714-7jv36906/logs</code>"
      ],
      "text/plain": [
       "<IPython.core.display.HTML object>"
      ]
     },
     "metadata": {},
     "output_type": "display_data"
    },
    {
     "name": "stderr",
     "output_type": "stream",
     "text": [
      "Run 7jv36906 errored:\n",
      "Traceback (most recent call last):\n",
      "  File \"/home/zyxing/anaconda3/envs/dance/lib/python3.11/site-packages/wandb/agents/pyagent.py\", line 308, in _run_job\n",
      "    self._function()\n",
      "  File \"/tmp/ipykernel_1447800/855003277.py\", line 89, in evaluate_pipeline\n",
      "    preprocessing_pipeline(data)\n",
      "  File \"/home/zyxing/dance/dance/pipeline.py\", line 128, in __call__\n",
      "    return self.functional(*args, **kwargs)\n",
      "           ^^^^^^^^^^^^^^^^^^^^^^^^^^^^^^^^\n",
      "  File \"/home/zyxing/dance/dance/pipeline.py\", line 247, in bounded_functional\n",
      "    a(*args, **kwargs)\n",
      "  File \"/home/zyxing/dance/dance/pipeline.py\", line 128, in __call__\n",
      "    return self.functional(*args, **kwargs)\n",
      "           ^^^^^^^^^^^^^^^^^^^^^^^^^^^^^^^^\n",
      "  File \"/home/zyxing/dance/dance/utils/wrappers.py\", line 128, in new_call\n",
      "    return original_call(self, data, *args, **kwargs)\n",
      "           ^^^^^^^^^^^^^^^^^^^^^^^^^^^^^^^^^^^^^^^^^^\n",
      "  File \"/home/zyxing/dance/dance/transforms/cell_feature.py\", line 275, in __call__\n",
      "    cell_feat = svd.fit_transform(feat)\n",
      "                ^^^^^^^^^^^^^^^^^^^^^^^\n",
      "  File \"/home/zyxing/anaconda3/envs/dance/lib/python3.11/site-packages/sklearn/utils/_set_output.py\", line 157, in wrapped\n",
      "    data_to_wrap = f(self, X, *args, **kwargs)\n",
      "                   ^^^^^^^^^^^^^^^^^^^^^^^^^^^\n",
      "  File \"/home/zyxing/anaconda3/envs/dance/lib/python3.11/site-packages/sklearn/base.py\", line 1152, in wrapper\n",
      "    return fit_method(estimator, *args, **kwargs)\n",
      "           ^^^^^^^^^^^^^^^^^^^^^^^^^^^^^^^^^^^^^^\n",
      "  File \"/home/zyxing/anaconda3/envs/dance/lib/python3.11/site-packages/sklearn/decomposition/_truncated_svd.py\", line 234, in fit_transform\n",
      "    U, Sigma, VT = svds(X, k=self.n_components, tol=self.tol, v0=v0)\n",
      "                   ^^^^^^^^^^^^^^^^^^^^^^^^^^^^^^^^^^^^^^^^^^^^^^^^^\n",
      "  File \"/home/zyxing/anaconda3/envs/dance/lib/python3.11/site-packages/scipy/sparse/linalg/_eigen/_svds.py\", line 438, in svds\n",
      "    args = _iv(A, k, ncv, tol, which, v0, maxiter, return_singular_vectors,\n",
      "           ^^^^^^^^^^^^^^^^^^^^^^^^^^^^^^^^^^^^^^^^^^^^^^^^^^^^^^^^^^^^^^^^\n",
      "  File \"/home/zyxing/anaconda3/envs/dance/lib/python3.11/site-packages/scipy/sparse/linalg/_eigen/_svds.py\", line 44, in _iv\n",
      "    raise ValueError(message)\n",
      "ValueError: `k` must be an integer satisfying `0 < k < min(A.shape)`.\n",
      "\n",
      "\u001b[34m\u001b[1mwandb\u001b[0m: \u001b[32m\u001b[41mERROR\u001b[0m Run 7jv36906 errored:\n",
      "\u001b[34m\u001b[1mwandb\u001b[0m: \u001b[32m\u001b[41mERROR\u001b[0m Traceback (most recent call last):\n",
      "\u001b[34m\u001b[1mwandb\u001b[0m: \u001b[32m\u001b[41mERROR\u001b[0m   File \"/home/zyxing/anaconda3/envs/dance/lib/python3.11/site-packages/wandb/agents/pyagent.py\", line 308, in _run_job\n",
      "\u001b[34m\u001b[1mwandb\u001b[0m: \u001b[32m\u001b[41mERROR\u001b[0m     self._function()\n",
      "\u001b[34m\u001b[1mwandb\u001b[0m: \u001b[32m\u001b[41mERROR\u001b[0m   File \"/tmp/ipykernel_1447800/855003277.py\", line 89, in evaluate_pipeline\n",
      "\u001b[34m\u001b[1mwandb\u001b[0m: \u001b[32m\u001b[41mERROR\u001b[0m     preprocessing_pipeline(data)\n",
      "\u001b[34m\u001b[1mwandb\u001b[0m: \u001b[32m\u001b[41mERROR\u001b[0m   File \"/home/zyxing/dance/dance/pipeline.py\", line 128, in __call__\n",
      "\u001b[34m\u001b[1mwandb\u001b[0m: \u001b[32m\u001b[41mERROR\u001b[0m     return self.functional(*args, **kwargs)\n",
      "\u001b[34m\u001b[1mwandb\u001b[0m: \u001b[32m\u001b[41mERROR\u001b[0m            ^^^^^^^^^^^^^^^^^^^^^^^^^^^^^^^^\n",
      "\u001b[34m\u001b[1mwandb\u001b[0m: \u001b[32m\u001b[41mERROR\u001b[0m   File \"/home/zyxing/dance/dance/pipeline.py\", line 247, in bounded_functional\n",
      "\u001b[34m\u001b[1mwandb\u001b[0m: \u001b[32m\u001b[41mERROR\u001b[0m     a(*args, **kwargs)\n",
      "\u001b[34m\u001b[1mwandb\u001b[0m: \u001b[32m\u001b[41mERROR\u001b[0m   File \"/home/zyxing/dance/dance/pipeline.py\", line 128, in __call__\n",
      "\u001b[34m\u001b[1mwandb\u001b[0m: \u001b[32m\u001b[41mERROR\u001b[0m     return self.functional(*args, **kwargs)\n",
      "\u001b[34m\u001b[1mwandb\u001b[0m: \u001b[32m\u001b[41mERROR\u001b[0m            ^^^^^^^^^^^^^^^^^^^^^^^^^^^^^^^^\n",
      "\u001b[34m\u001b[1mwandb\u001b[0m: \u001b[32m\u001b[41mERROR\u001b[0m   File \"/home/zyxing/dance/dance/utils/wrappers.py\", line 128, in new_call\n",
      "\u001b[34m\u001b[1mwandb\u001b[0m: \u001b[32m\u001b[41mERROR\u001b[0m     return original_call(self, data, *args, **kwargs)\n",
      "\u001b[34m\u001b[1mwandb\u001b[0m: \u001b[32m\u001b[41mERROR\u001b[0m            ^^^^^^^^^^^^^^^^^^^^^^^^^^^^^^^^^^^^^^^^^^\n",
      "\u001b[34m\u001b[1mwandb\u001b[0m: \u001b[32m\u001b[41mERROR\u001b[0m   File \"/home/zyxing/dance/dance/transforms/cell_feature.py\", line 275, in __call__\n",
      "\u001b[34m\u001b[1mwandb\u001b[0m: \u001b[32m\u001b[41mERROR\u001b[0m     cell_feat = svd.fit_transform(feat)\n",
      "\u001b[34m\u001b[1mwandb\u001b[0m: \u001b[32m\u001b[41mERROR\u001b[0m                 ^^^^^^^^^^^^^^^^^^^^^^^\n",
      "\u001b[34m\u001b[1mwandb\u001b[0m: \u001b[32m\u001b[41mERROR\u001b[0m   File \"/home/zyxing/anaconda3/envs/dance/lib/python3.11/site-packages/sklearn/utils/_set_output.py\", line 157, in wrapped\n",
      "\u001b[34m\u001b[1mwandb\u001b[0m: \u001b[32m\u001b[41mERROR\u001b[0m     data_to_wrap = f(self, X, *args, **kwargs)\n",
      "\u001b[34m\u001b[1mwandb\u001b[0m: \u001b[32m\u001b[41mERROR\u001b[0m                    ^^^^^^^^^^^^^^^^^^^^^^^^^^^\n",
      "\u001b[34m\u001b[1mwandb\u001b[0m: \u001b[32m\u001b[41mERROR\u001b[0m   File \"/home/zyxing/anaconda3/envs/dance/lib/python3.11/site-packages/sklearn/base.py\", line 1152, in wrapper\n",
      "\u001b[34m\u001b[1mwandb\u001b[0m: \u001b[32m\u001b[41mERROR\u001b[0m     return fit_method(estimator, *args, **kwargs)\n",
      "\u001b[34m\u001b[1mwandb\u001b[0m: \u001b[32m\u001b[41mERROR\u001b[0m            ^^^^^^^^^^^^^^^^^^^^^^^^^^^^^^^^^^^^^^\n",
      "\u001b[34m\u001b[1mwandb\u001b[0m: \u001b[32m\u001b[41mERROR\u001b[0m   File \"/home/zyxing/anaconda3/envs/dance/lib/python3.11/site-packages/sklearn/decomposition/_truncated_svd.py\", line 234, in fit_transform\n",
      "\u001b[34m\u001b[1mwandb\u001b[0m: \u001b[32m\u001b[41mERROR\u001b[0m     U, Sigma, VT = svds(X, k=self.n_components, tol=self.tol, v0=v0)\n",
      "\u001b[34m\u001b[1mwandb\u001b[0m: \u001b[32m\u001b[41mERROR\u001b[0m                    ^^^^^^^^^^^^^^^^^^^^^^^^^^^^^^^^^^^^^^^^^^^^^^^^^\n",
      "\u001b[34m\u001b[1mwandb\u001b[0m: \u001b[32m\u001b[41mERROR\u001b[0m   File \"/home/zyxing/anaconda3/envs/dance/lib/python3.11/site-packages/scipy/sparse/linalg/_eigen/_svds.py\", line 438, in svds\n",
      "\u001b[34m\u001b[1mwandb\u001b[0m: \u001b[32m\u001b[41mERROR\u001b[0m     args = _iv(A, k, ncv, tol, which, v0, maxiter, return_singular_vectors,\n",
      "\u001b[34m\u001b[1mwandb\u001b[0m: \u001b[32m\u001b[41mERROR\u001b[0m            ^^^^^^^^^^^^^^^^^^^^^^^^^^^^^^^^^^^^^^^^^^^^^^^^^^^^^^^^^^^^^^^^\n",
      "\u001b[34m\u001b[1mwandb\u001b[0m: \u001b[32m\u001b[41mERROR\u001b[0m   File \"/home/zyxing/anaconda3/envs/dance/lib/python3.11/site-packages/scipy/sparse/linalg/_eigen/_svds.py\", line 44, in _iv\n",
      "\u001b[34m\u001b[1mwandb\u001b[0m: \u001b[32m\u001b[41mERROR\u001b[0m     raise ValueError(message)\n",
      "\u001b[34m\u001b[1mwandb\u001b[0m: \u001b[32m\u001b[41mERROR\u001b[0m ValueError: `k` must be an integer satisfying `0 < k < min(A.shape)`.\n",
      "\u001b[34m\u001b[1mwandb\u001b[0m: \u001b[32m\u001b[41mERROR\u001b[0m \n",
      "[INFO][2025-08-02 17:07:36,390][dance][wandb_sweep] \u001b[94m\n",
      "\n",
      "\t[*] Sweep ID: d07nyuuf\n",
      "\u001b[0m\n",
      "[INFO][2025-08-02 17:07:36,391][dance][wandb_sweep_agent] Spawning agent: sweep_id='d07nyuuf', entity='xzy11632', project='dance-dev', count=2\n"
     ]
    },
    {
     "name": "stdout",
     "output_type": "stream",
     "text": [
      "Create sweep with ID: d07nyuuf\n",
      "Sweep URL: https://wandb.ai/xzy11632/dance-dev/sweeps/d07nyuuf\n"
     ]
    },
    {
     "name": "stderr",
     "output_type": "stream",
     "text": [
      "\u001b[34m\u001b[1mwandb\u001b[0m: Agent Starting Run: 8aa5pebg with config:\n",
      "\u001b[34m\u001b[1mwandb\u001b[0m: \tparams.0.FilterGenesPercentile.max_val: 96\n",
      "\u001b[34m\u001b[1mwandb\u001b[0m: \tparams.0.FilterGenesPercentile.min_val: 1\n",
      "\u001b[34m\u001b[1mwandb\u001b[0m: \tparams.0.FilterGenesPercentile.mode: rv\n",
      "\u001b[34m\u001b[1mwandb\u001b[0m: \tparams.1.Log1P.base: 3.325957103817947\n",
      "\u001b[34m\u001b[1mwandb\u001b[0m: \tparams.2.FilterGenesRegression.method: seurat3\n",
      "\u001b[34m\u001b[1mwandb\u001b[0m: \tparams.2.FilterGenesRegression.num_genes: 4134\n",
      "\u001b[34m\u001b[1mwandb\u001b[0m: \tparams.3.CellPCA.n_components: 794\n",
      "\u001b[34m\u001b[1mwandb\u001b[0m: \tparams.3.CellPCA.svd_solver: full\n",
      "Failed to detect the name of this notebook, you can set it manually with the WANDB_NOTEBOOK_NAME environment variable to enable code saving.\n"
     ]
    },
    {
     "data": {
      "application/vnd.jupyter.widget-view+json": {
       "model_id": "3b9190a737ed422d8bb89a48ed662de7",
       "version_major": 2,
       "version_minor": 0
      },
      "text/plain": [
       "VBox(children=(Label(value='Waiting for wandb.init()...\\r'), FloatProgress(value=0.011112469165689415, max=1.0…"
      ]
     },
     "metadata": {},
     "output_type": "display_data"
    },
    {
     "data": {
      "text/html": [
       "wandb version 0.21.0 is available!  To upgrade, please run:\n",
       " $ pip install wandb --upgrade"
      ],
      "text/plain": [
       "<IPython.core.display.HTML object>"
      ]
     },
     "metadata": {},
     "output_type": "display_data"
    },
    {
     "data": {
      "text/html": [
       "Tracking run with wandb version 0.16.3"
      ],
      "text/plain": [
       "<IPython.core.display.HTML object>"
      ]
     },
     "metadata": {},
     "output_type": "display_data"
    },
    {
     "data": {
      "text/html": [
       "Run data is saved locally in <code>/home/zyxing/dance/examples/tuning/custom-methods/wandb/run-20250802_170740-8aa5pebg</code>"
      ],
      "text/plain": [
       "<IPython.core.display.HTML object>"
      ]
     },
     "metadata": {},
     "output_type": "display_data"
    },
    {
     "data": {
      "text/html": [
       "Syncing run <strong><a href='https://wandb.ai/xzy11632/dance-dev/runs/8aa5pebg' target=\"_blank\">wise-sweep-1</a></strong> to <a href='https://wandb.ai/xzy11632/dance-dev' target=\"_blank\">Weights & Biases</a> (<a href='https://wandb.me/run' target=\"_blank\">docs</a>)<br/>Sweep page: <a href='https://wandb.ai/xzy11632/dance-dev/sweeps/d07nyuuf' target=\"_blank\">https://wandb.ai/xzy11632/dance-dev/sweeps/d07nyuuf</a>"
      ],
      "text/plain": [
       "<IPython.core.display.HTML object>"
      ]
     },
     "metadata": {},
     "output_type": "display_data"
    },
    {
     "data": {
      "text/html": [
       " View project at <a href='https://wandb.ai/xzy11632/dance-dev' target=\"_blank\">https://wandb.ai/xzy11632/dance-dev</a>"
      ],
      "text/plain": [
       "<IPython.core.display.HTML object>"
      ]
     },
     "metadata": {},
     "output_type": "display_data"
    },
    {
     "data": {
      "text/html": [
       " View sweep at <a href='https://wandb.ai/xzy11632/dance-dev/sweeps/d07nyuuf' target=\"_blank\">https://wandb.ai/xzy11632/dance-dev/sweeps/d07nyuuf</a>"
      ],
      "text/plain": [
       "<IPython.core.display.HTML object>"
      ]
     },
     "metadata": {},
     "output_type": "display_data"
    },
    {
     "data": {
      "text/html": [
       " View run at <a href='https://wandb.ai/xzy11632/dance-dev/runs/8aa5pebg' target=\"_blank\">https://wandb.ai/xzy11632/dance-dev/runs/8aa5pebg</a>"
      ],
      "text/plain": [
       "<IPython.core.display.HTML object>"
      ]
     },
     "metadata": {},
     "output_type": "display_data"
    },
    {
     "name": "stderr",
     "output_type": "stream",
     "text": [
      "[INFO][2025-08-02 17:07:51,110][dance][set_seed] Setting global random seed to 10\n",
      "[INFO][2025-08-02 17:07:51,113][dance][_load_dfs] Loading data from ../temp_data/train/human/human_Brain328_data.csv\n",
      "[INFO][2025-08-02 17:07:51,512][dance][_load_dfs] Loading data from ../temp_data/test/human/human_Brain138_data.csv\n",
      "[INFO][2025-08-02 17:07:51,662][dance][_load_dfs] Loading data from ../temp_data/train/human/human_Brain328_celltype.csv\n",
      "[INFO][2025-08-02 17:07:51,666][dance][_load_dfs] Loading data from ../temp_data/test/human/human_Brain138_celltype.csv\n",
      "/home/zyxing/anaconda3/envs/dance/lib/python3.11/site-packages/anndata/_core/anndata.py:430: FutureWarning: The dtype argument is deprecated and will be removed in late 2024.\n",
      "  warnings.warn(\n",
      "[INFO][2025-08-02 17:07:51,839][dance][_load_raw_data] Loaded expression data: AnnData object with n_obs × n_vars = 466 × 22088\n",
      "[INFO][2025-08-02 17:07:51,840][dance][_load_raw_data] Number of training samples: 262\n",
      "[INFO][2025-08-02 17:07:51,841][dance][_load_raw_data] Number of valid samples: 66\n",
      "[INFO][2025-08-02 17:07:51,842][dance][_load_raw_data] Number of testing samples: 138\n",
      "[INFO][2025-08-02 17:07:51,843][dance][_load_raw_data] Cell-types (n=9):\n",
      "['OPC',\n",
      " 'astrocytes',\n",
      " 'endothelial',\n",
      " 'fetal_quiescent',\n",
      " 'fetal_replicating',\n",
      " 'hybrid',\n",
      " 'microglia',\n",
      " 'neurons',\n",
      " 'oligodendrocytes']\n",
      "[INFO][2025-08-02 17:07:51,846][dance][load_data] Raw data loaded:\n",
      "Data object that wraps (.data):\n",
      "AnnData object with n_obs × n_vars = 466 × 22088\n",
      "    uns: 'dance_config'\n",
      "    obsm: 'cell_type'\n",
      "[INFO][2025-08-02 17:07:51,846][dance][wrapped_func] Took 0:00:00.734421 to load and process data.\n",
      "[INFO][2025-08-02 17:07:51,848][dance][_sanitize_params] Params plan:\n",
      "\u001b[92m[{'max_val': 96, 'min_val': 1, 'mode': 'rv'},\n",
      " {'base': 3.325957103817947},\n",
      " {'method': 'seurat3', 'num_genes': 4134},\n",
      " {'n_components': 794, 'svd_solver': 'full'},\n",
      " None]\u001b[0m\n",
      "[WARNING][2025-08-02 17:07:51,858][dance.FilterGenesPercentile][__call__] n_counts will be added to the var of data\n",
      "[WARNING][2025-08-02 17:07:51,865][dance.FilterGenesPercentile][__call__] n_cells will be added to the var of data\n",
      "/home/zyxing/dance/dance/transforms/filter.py:490: RuntimeWarning: invalid value encountered in divide\n",
      "  gene_summary = np.nan_to_num(np.array(x.var(0) / x.mean(0)), posinf=0, neginf=0).ravel()\n",
      "/home/zyxing/dance/dance/transforms/filter.py:801: UserWarning: Expecting count data as input, but the input feature matrix does not appear to be count.Please make sure the input is indeed a count matrix.\n",
      "  warnings.warn(\"Expecting count data as input, but the input feature matrix does not appear to be count.\"\n",
      "[INFO][2025-08-02 17:07:52,123][dance][_filter_seurat3] Start generating cell features using Seurat v3.0\n",
      "[WARNING][2025-08-02 17:07:52,174][dance.CellPCA][__call__] n_components=794 must be between 0 and min(n_samples, n_features)=466 with svd_solver='full'\n",
      "[INFO][2025-08-02 17:07:52,523][dance.CellPCA][__call__] Generating cell PCA features (466, 4134) (k=466)\n",
      "[INFO][2025-08-02 17:07:52,525][dance.CellPCA][__call__] Top 10 explained variances: [0.1255051  0.04431326 0.02361289 0.02223185 0.01113846 0.00874915\n",
      " 0.0081517  0.0070169  0.00654266 0.00561051]\n",
      "[INFO][2025-08-02 17:07:52,525][dance.CellPCA][__call__] Total explained variance: 100.00%\n",
      "[INFO][2025-08-02 17:07:52,527][dance][set_config_from_dict] Setting config 'feature_channel' to 'feature.cell'\n",
      "[INFO][2025-08-02 17:07:52,527][dance][set_config_from_dict] Setting config 'label_channel' to 'cell_type'\n"
     ]
    },
    {
     "data": {
      "application/vnd.jupyter.widget-view+json": {
       "model_id": "2099128d645b427ab1ba001160e65925",
       "version_major": 2,
       "version_minor": 0
      },
      "text/plain": [
       "VBox(children=(Label(value='0.011 MB of 0.011 MB uploaded\\r'), FloatProgress(value=1.0, max=1.0)))"
      ]
     },
     "metadata": {},
     "output_type": "display_data"
    },
    {
     "data": {
      "text/html": [
       "<style>\n",
       "    table.wandb td:nth-child(1) { padding: 0 10px; text-align: left ; width: auto;} td:nth-child(2) {text-align: left ; width: 100%}\n",
       "    .wandb-row { display: flex; flex-direction: row; flex-wrap: wrap; justify-content: flex-start; width: 100% }\n",
       "    .wandb-col { display: flex; flex-direction: column; flex-basis: 100%; flex: 1; padding: 10px; }\n",
       "    </style>\n",
       "<div class=\"wandb-row\"><div class=\"wandb-col\"><h3>Run history:</h3><br/><table class=\"wandb\"><tr><td>acc</td><td>▁</td></tr><tr><td>test_acc</td><td>▁</td></tr><tr><td>train_acc</td><td>▁</td></tr></table><br/></div><div class=\"wandb-col\"><h3>Run summary:</h3><br/><table class=\"wandb\"><tr><td>acc</td><td>0.74242</td></tr><tr><td>test_acc</td><td>0.67391</td></tr><tr><td>train_acc</td><td>0.99237</td></tr></table><br/></div></div>"
      ],
      "text/plain": [
       "<IPython.core.display.HTML object>"
      ]
     },
     "metadata": {},
     "output_type": "display_data"
    },
    {
     "data": {
      "text/html": [
       " View run <strong style=\"color:#cdcd00\">wise-sweep-1</strong> at: <a href='https://wandb.ai/xzy11632/dance-dev/runs/8aa5pebg' target=\"_blank\">https://wandb.ai/xzy11632/dance-dev/runs/8aa5pebg</a><br/>Synced 6 W&B file(s), 0 media file(s), 0 artifact file(s) and 0 other file(s)"
      ],
      "text/plain": [
       "<IPython.core.display.HTML object>"
      ]
     },
     "metadata": {},
     "output_type": "display_data"
    },
    {
     "data": {
      "text/html": [
       "Find logs at: <code>./wandb/run-20250802_170740-8aa5pebg/logs</code>"
      ],
      "text/plain": [
       "<IPython.core.display.HTML object>"
      ]
     },
     "metadata": {},
     "output_type": "display_data"
    },
    {
     "name": "stderr",
     "output_type": "stream",
     "text": [
      "\u001b[34m\u001b[1mwandb\u001b[0m: Agent Starting Run: hb1f4jun with config:\n",
      "\u001b[34m\u001b[1mwandb\u001b[0m: \tparams.0.FilterGenesPercentile.max_val: 96\n",
      "\u001b[34m\u001b[1mwandb\u001b[0m: \tparams.0.FilterGenesPercentile.min_val: 10\n",
      "\u001b[34m\u001b[1mwandb\u001b[0m: \tparams.0.FilterGenesPercentile.mode: rv\n",
      "\u001b[34m\u001b[1mwandb\u001b[0m: \tparams.1.Log1P.base: 2.5186772625549763\n",
      "\u001b[34m\u001b[1mwandb\u001b[0m: \tparams.2.FilterGenesRegression.method: scmap\n",
      "\u001b[34m\u001b[1mwandb\u001b[0m: \tparams.2.FilterGenesRegression.num_genes: 9063\n",
      "\u001b[34m\u001b[1mwandb\u001b[0m: \tparams.3.CellPCA.n_components: 252\n",
      "\u001b[34m\u001b[1mwandb\u001b[0m: \tparams.3.CellPCA.svd_solver: arpack\n",
      "Failed to detect the name of this notebook, you can set it manually with the WANDB_NOTEBOOK_NAME environment variable to enable code saving.\n"
     ]
    },
    {
     "data": {
      "text/html": [
       "wandb version 0.21.0 is available!  To upgrade, please run:\n",
       " $ pip install wandb --upgrade"
      ],
      "text/plain": [
       "<IPython.core.display.HTML object>"
      ]
     },
     "metadata": {},
     "output_type": "display_data"
    },
    {
     "data": {
      "text/html": [
       "Tracking run with wandb version 0.16.3"
      ],
      "text/plain": [
       "<IPython.core.display.HTML object>"
      ]
     },
     "metadata": {},
     "output_type": "display_data"
    },
    {
     "data": {
      "text/html": [
       "Run data is saved locally in <code>/home/zyxing/dance/examples/tuning/custom-methods/wandb/run-20250802_170807-hb1f4jun</code>"
      ],
      "text/plain": [
       "<IPython.core.display.HTML object>"
      ]
     },
     "metadata": {},
     "output_type": "display_data"
    },
    {
     "data": {
      "text/html": [
       "Syncing run <strong><a href='https://wandb.ai/xzy11632/dance-dev/runs/hb1f4jun' target=\"_blank\">quiet-sweep-2</a></strong> to <a href='https://wandb.ai/xzy11632/dance-dev' target=\"_blank\">Weights & Biases</a> (<a href='https://wandb.me/run' target=\"_blank\">docs</a>)<br/>Sweep page: <a href='https://wandb.ai/xzy11632/dance-dev/sweeps/d07nyuuf' target=\"_blank\">https://wandb.ai/xzy11632/dance-dev/sweeps/d07nyuuf</a>"
      ],
      "text/plain": [
       "<IPython.core.display.HTML object>"
      ]
     },
     "metadata": {},
     "output_type": "display_data"
    },
    {
     "data": {
      "text/html": [
       " View project at <a href='https://wandb.ai/xzy11632/dance-dev' target=\"_blank\">https://wandb.ai/xzy11632/dance-dev</a>"
      ],
      "text/plain": [
       "<IPython.core.display.HTML object>"
      ]
     },
     "metadata": {},
     "output_type": "display_data"
    },
    {
     "data": {
      "text/html": [
       " View sweep at <a href='https://wandb.ai/xzy11632/dance-dev/sweeps/d07nyuuf' target=\"_blank\">https://wandb.ai/xzy11632/dance-dev/sweeps/d07nyuuf</a>"
      ],
      "text/plain": [
       "<IPython.core.display.HTML object>"
      ]
     },
     "metadata": {},
     "output_type": "display_data"
    },
    {
     "data": {
      "text/html": [
       " View run at <a href='https://wandb.ai/xzy11632/dance-dev/runs/hb1f4jun' target=\"_blank\">https://wandb.ai/xzy11632/dance-dev/runs/hb1f4jun</a>"
      ],
      "text/plain": [
       "<IPython.core.display.HTML object>"
      ]
     },
     "metadata": {},
     "output_type": "display_data"
    },
    {
     "name": "stderr",
     "output_type": "stream",
     "text": [
      "[INFO][2025-08-02 17:08:18,036][dance][set_seed] Setting global random seed to 10\n",
      "[INFO][2025-08-02 17:08:18,039][dance][_load_dfs] Loading data from ../temp_data/train/human/human_Brain328_data.csv\n",
      "[INFO][2025-08-02 17:08:18,431][dance][_load_dfs] Loading data from ../temp_data/test/human/human_Brain138_data.csv\n",
      "[INFO][2025-08-02 17:08:18,575][dance][_load_dfs] Loading data from ../temp_data/train/human/human_Brain328_celltype.csv\n",
      "[INFO][2025-08-02 17:08:18,579][dance][_load_dfs] Loading data from ../temp_data/test/human/human_Brain138_celltype.csv\n",
      "/home/zyxing/anaconda3/envs/dance/lib/python3.11/site-packages/anndata/_core/anndata.py:430: FutureWarning: The dtype argument is deprecated and will be removed in late 2024.\n",
      "  warnings.warn(\n",
      "[INFO][2025-08-02 17:08:18,753][dance][_load_raw_data] Loaded expression data: AnnData object with n_obs × n_vars = 466 × 22088\n",
      "[INFO][2025-08-02 17:08:18,755][dance][_load_raw_data] Number of training samples: 262\n",
      "[INFO][2025-08-02 17:08:18,755][dance][_load_raw_data] Number of valid samples: 66\n",
      "[INFO][2025-08-02 17:08:18,756][dance][_load_raw_data] Number of testing samples: 138\n",
      "[INFO][2025-08-02 17:08:18,757][dance][_load_raw_data] Cell-types (n=9):\n",
      "['OPC',\n",
      " 'astrocytes',\n",
      " 'endothelial',\n",
      " 'fetal_quiescent',\n",
      " 'fetal_replicating',\n",
      " 'hybrid',\n",
      " 'microglia',\n",
      " 'neurons',\n",
      " 'oligodendrocytes']\n",
      "[INFO][2025-08-02 17:08:18,759][dance][load_data] Raw data loaded:\n",
      "Data object that wraps (.data):\n",
      "AnnData object with n_obs × n_vars = 466 × 22088\n",
      "    uns: 'dance_config'\n",
      "    obsm: 'cell_type'\n",
      "[INFO][2025-08-02 17:08:18,760][dance][wrapped_func] Took 0:00:00.721880 to load and process data.\n",
      "[INFO][2025-08-02 17:08:18,762][dance][_sanitize_params] Params plan:\n",
      "\u001b[92m[{'max_val': 96, 'min_val': 10, 'mode': 'rv'},\n",
      " {'base': 2.5186772625549763},\n",
      " {'method': 'scmap', 'num_genes': 9063},\n",
      " {'n_components': 252, 'svd_solver': 'arpack'},\n",
      " None]\u001b[0m\n",
      "[WARNING][2025-08-02 17:08:18,771][dance.FilterGenesPercentile][__call__] n_counts will be added to the var of data\n",
      "[WARNING][2025-08-02 17:08:18,777][dance.FilterGenesPercentile][__call__] n_cells will be added to the var of data\n",
      "/home/zyxing/dance/dance/transforms/filter.py:490: RuntimeWarning: invalid value encountered in divide\n",
      "  gene_summary = np.nan_to_num(np.array(x.var(0) / x.mean(0)), posinf=0, neginf=0).ravel()\n",
      "/home/zyxing/dance/dance/transforms/filter.py:801: UserWarning: Expecting count data as input, but the input feature matrix does not appear to be count.Please make sure the input is indeed a count matrix.\n",
      "  warnings.warn(\"Expecting count data as input, but the input feature matrix does not appear to be count.\"\n",
      "[INFO][2025-08-02 17:08:19,025][dance][_filter_scmap] Start generating cell features using scmap\n",
      "[INFO][2025-08-02 17:08:20,038][dance.CellPCA][__call__] Generating cell PCA features (466, 9063) (k=252)\n",
      "[INFO][2025-08-02 17:08:20,039][dance.CellPCA][__call__] Top 10 explained variances: [0.11015671 0.03290899 0.01697178 0.01589983 0.00844212 0.00749661\n",
      " 0.00703612 0.00594467 0.00557877 0.0050588 ]\n",
      "[INFO][2025-08-02 17:08:20,040][dance.CellPCA][__call__] Total explained variance: 76.01%\n",
      "[INFO][2025-08-02 17:08:20,042][dance][set_config_from_dict] Setting config 'feature_channel' to 'feature.cell'\n",
      "[INFO][2025-08-02 17:08:20,042][dance][set_config_from_dict] Setting config 'label_channel' to 'cell_type'\n"
     ]
    },
    {
     "data": {
      "application/vnd.jupyter.widget-view+json": {
       "model_id": "e36c45602bea4dd49d1de30c2b237dbb",
       "version_major": 2,
       "version_minor": 0
      },
      "text/plain": [
       "VBox(children=(Label(value='0.011 MB of 0.011 MB uploaded\\r'), FloatProgress(value=1.0, max=1.0)))"
      ]
     },
     "metadata": {},
     "output_type": "display_data"
    },
    {
     "data": {
      "text/html": [
       "<style>\n",
       "    table.wandb td:nth-child(1) { padding: 0 10px; text-align: left ; width: auto;} td:nth-child(2) {text-align: left ; width: 100%}\n",
       "    .wandb-row { display: flex; flex-direction: row; flex-wrap: wrap; justify-content: flex-start; width: 100% }\n",
       "    .wandb-col { display: flex; flex-direction: column; flex-basis: 100%; flex: 1; padding: 10px; }\n",
       "    </style>\n",
       "<div class=\"wandb-row\"><div class=\"wandb-col\"><h3>Run history:</h3><br/><table class=\"wandb\"><tr><td>acc</td><td>▁</td></tr><tr><td>test_acc</td><td>▁</td></tr><tr><td>train_acc</td><td>▁</td></tr></table><br/></div><div class=\"wandb-col\"><h3>Run summary:</h3><br/><table class=\"wandb\"><tr><td>acc</td><td>0.77273</td></tr><tr><td>test_acc</td><td>0.63043</td></tr><tr><td>train_acc</td><td>0.97328</td></tr></table><br/></div></div>"
      ],
      "text/plain": [
       "<IPython.core.display.HTML object>"
      ]
     },
     "metadata": {},
     "output_type": "display_data"
    },
    {
     "data": {
      "text/html": [
       " View run <strong style=\"color:#cdcd00\">quiet-sweep-2</strong> at: <a href='https://wandb.ai/xzy11632/dance-dev/runs/hb1f4jun' target=\"_blank\">https://wandb.ai/xzy11632/dance-dev/runs/hb1f4jun</a><br/>Synced 6 W&B file(s), 0 media file(s), 0 artifact file(s) and 0 other file(s)"
      ],
      "text/plain": [
       "<IPython.core.display.HTML object>"
      ]
     },
     "metadata": {},
     "output_type": "display_data"
    },
    {
     "data": {
      "text/html": [
       "Find logs at: <code>./wandb/run-20250802_170807-hb1f4jun/logs</code>"
      ],
      "text/plain": [
       "<IPython.core.display.HTML object>"
      ]
     },
     "metadata": {},
     "output_type": "display_data"
    }
   ],
   "source": [
    "# Example main.py\n",
    "\n",
    "import argparse\n",
    "import gc\n",
    "import os\n",
    "import pprint\n",
    "import random\n",
    "import sys\n",
    "from pathlib import Path\n",
    "from typing import get_args\n",
    "\n",
    "from dance.registry import register_preprocessor\n",
    "from dance.transforms.base import BaseTransform\n",
    "import torch\n",
    "import wandb\n",
    "import numpy as np\n",
    "\n",
    "from dance import logger\n",
    "from dance.datasets.singlemodality import CellTypeAnnotationDataset  # your dataset\n",
    "from dance.pipeline import PipelinePlaner, get_step3_yaml, run_step3, save_summary_data\n",
    "from dance.utils import set_seed\n",
    "from dance.typing import LogLevel\n",
    "from sklearn.random_projection import GaussianRandomProjection\n",
    "root_path=str(Path(__file__).resolve().parent) if '__file__' in globals() else os.getcwd()\n",
    "\n",
    "# Import your custom SVM class\n",
    "# In reality, you'd do: from your_svm_file import SVM\n",
    "# from your_svm_file import SVM\n",
    "\n",
    "\n",
    "\n",
    "def main(args=None):\n",
    "    #Step 2: Parsing Arguments and configuring hyperparameters\n",
    "    parser = argparse.ArgumentParser(formatter_class=argparse.ArgumentDefaultsHelpFormatter)\n",
    "    parser.add_argument(\"--cache\", action=\"store_true\", help=\"Cache processed data.\")\n",
    "    parser.add_argument(\"--dense_dim\", type=int, default=400, help=\"dim of PCA\")\n",
    "    parser.add_argument(\"--gpu\", type=int, default=0, help=\"GPU id, set to -1 for CPU\")\n",
    "    parser.add_argument(\"--log_level\", type=str, default=\"INFO\", choices=get_args(LogLevel))\n",
    "    parser.add_argument(\"--species\", default=\"human\")\n",
    "    parser.add_argument(\"--test_dataset\", nargs=\"+\", default=[138], type=int, help=\"list of dataset id\")\n",
    "    parser.add_argument(\"--tissue\", default=\"Brain\")  # TODO: Add option for different tissue name for train/test\n",
    "    parser.add_argument(\"--train_dataset\", nargs=\"+\", default=[328], type=int, help=\"list of dataset id\")\n",
    "    parser.add_argument(\"--valid_dataset\", nargs=\"+\", default=None, type=int, help=\"list of dataset id\")\n",
    "    parser.add_argument(\"--tune_mode\", default=\"pipeline_params\", choices=[\"pipeline\", \"params\", \"pipeline_params\"])\n",
    "    parser.add_argument(\"--seed\", type=int, default=10)\n",
    "    parser.add_argument(\"--count\", type=int, default=2)\n",
    "    parser.add_argument(\"--sweep_id\", type=str, default=None)\n",
    "    parser.add_argument(\"--summary_file_path\", default=\"results/pipeline/best_test_acc.csv\", type=str)\n",
    "    parser.add_argument(\"--root_path\", default=root_path, type=str)\n",
    "    if args is None:\n",
    "        args = parser.parse_args()\n",
    "    else:\n",
    "        args = parser.parse_args(args)\n",
    "\n",
    "    # Construct the path to the tuning config file\n",
    "    file_root_path = Path(\n",
    "        args.root_path, \"_\".join([\n",
    "            \"-\".join([str(num) for num in dataset])\n",
    "            for dataset in [args.train_dataset, args.valid_dataset, args.test_dataset] if dataset is not None\n",
    "        ])).resolve()\n",
    "    logger.info(f\"\\n files is saved in {file_root_path}\")\n",
    "\n",
    "    # Instantiate pipeline planer from config file\n",
    "    pipeline_planer = PipelinePlaner.from_config_file(f\"{file_root_path}/{args.tune_mode}_tuning_config.yaml\")\n",
    "    os.environ[\"WANDB_AGENT_MAX_INITIAL_FAILURES\"] = \"2000\"\n",
    "\n",
    "    #Step 3: define evaluation function\n",
    "    def evaluate_pipeline(tune_mode=args.tune_mode, pipeline_planer=pipeline_planer):\n",
    "        \"\"\"\n",
    "        The evaluation function used by wandb_sweep_agent.\n",
    "        It:\n",
    "        1. Loads data.\n",
    "        2. Applies the pipeline.\n",
    "        3. Trains and scores the model.\n",
    "        4: Evaluate model\n",
    "        5. Logs metric(s) to wandb.\n",
    "        \"\"\"\n",
    "        wandb.init(settings=wandb.Settings(start_method='thread'))\n",
    "        set_seed(args.seed)\n",
    "\n",
    "        # Load dataset\n",
    "        data = CellTypeAnnotationDataset(train_dataset=args.train_dataset, test_dataset=args.test_dataset,\n",
    "                                         valid_dataset=args.valid_dataset, species=args.species, tissue=args.tissue,\n",
    "                                         data_dir=\"../temp_data\").load_data()\n",
    "\n",
    "        # Preprocessing pipeline\n",
    "        kwargs = {tune_mode: dict(wandb.config)}\n",
    "        preprocessing_pipeline = pipeline_planer.generate(**kwargs)\n",
    "        preprocessing_pipeline(data)\n",
    "\n",
    "        # Retrieve training / testing data\n",
    "        x_train, y_train = data.get_train_data()\n",
    "        y_train_converted = y_train.argmax(1)\n",
    "        x_valid, y_valid = data.get_val_data()\n",
    "        x_test, y_test = data.get_test_data()\n",
    "\n",
    "        #Initialize our custom SVM model and train\n",
    "        # from your_svm_file import SVM  # Place your SVM import here\n",
    "        model = SVM(args, random_state=args.seed)\n",
    "        model.fit(x_train, y_train_converted)\n",
    "\n",
    "        #Evaluate model\n",
    "        train_score = model.score(x_train, y_train)\n",
    "        score = model.score(x_valid, y_valid)\n",
    "        test_score = model.score(x_test, y_test)\n",
    "\n",
    "        #Log results to wandb\n",
    "        wandb.log({\"train_acc\": train_score, \"acc\": score, \"test_acc\": test_score})\n",
    "        wandb.finish()\n",
    "\n",
    "    # Step 4: Run the sweep\n",
    "    entity, project, sweep_id = pipeline_planer.wandb_sweep_agent(\n",
    "        evaluate_pipeline, sweep_id=args.sweep_id, count=args.count) \n",
    "\n",
    "    #Step 5: Save summary data (top results, etc.)\n",
    "    save_summary_data(entity, project, sweep_id, summary_file_path=args.summary_file_path, root_path=file_root_path)\n",
    "\n",
    "    # Optionally, handle pipeline + parameter search steps\n",
    "    if args.tune_mode == \"pipeline\" or args.tune_mode == \"pipeline_params\":\n",
    "        get_step3_yaml(result_load_path=f\"{args.summary_file_path}\", step2_pipeline_planer=pipeline_planer,\n",
    "                       conf_load_path=f\"{Path(args.root_path).resolve().parent}/step3_default_params.yaml\",\n",
    "                       root_path=file_root_path)\n",
    "        if args.tune_mode == \"pipeline_params\":\n",
    "            run_step3(file_root_path, evaluate_pipeline, tune_mode=\"params\", step2_pipeline_planer=pipeline_planer)\n",
    "if __name__ == \"__main__\":\n",
    "    import os\n",
    "    os.environ[\"http_proxy\"] = \"http://121.250.209.147:7890\"\n",
    "    os.environ[\"https_proxy\"] = \"http://121.250.209.147:7890\"\n",
    "    main([])\n"
   ]
  },
  {
   "cell_type": "markdown",
   "metadata": {},
   "source": [
    "## 3. Configuration Files\n",
    "\n",
    "The **configuration files** (e.g., `pipeline_params_tuning_config.yaml`, `pipeline_tuning_config.yaml`, `params_tuning_config.yaml`) guide the auto-search. Each file contains instructions for how to vary your preprocessing pipeline or model hyperparameters (or both). For example:"
   ]
  },
  {
   "cell_type": "markdown",
   "metadata": {},
   "source": [
    "#pipeline_params_tuning_config.yaml\n",
    "```yaml\n",
    "type: preprocessor\n",
    "tune_mode: pipeline_params\n",
    "pipeline_tuning_top_k: 2\n",
    "parameter_tuning_freq_n: 2\n",
    "pipeline:\n",
    "  - type: filter.gene\n",
    "    include:\n",
    "      - FilterGenesPercentile\n",
    "      - FilterGenesScanpyOrder\n",
    "      - FilterGenesPlaceHolder\n",
    "    default_params:\n",
    "      FilterGenesScanpyOrder:\n",
    "          order: [\"min_counts\", \"min_cells\", \"max_counts\", \"max_cells\"]\n",
    "          min_counts: 1\n",
    "          max_counts: 134732\n",
    "          min_cells: 1\n",
    "          max_cells: 401\n",
    "  - type: normalize\n",
    "    include:\n",
    "      - ScaleFeature\n",
    "      - ScTransform\n",
    "      - Log1P\n",
    "      - NormalizeTotal\n",
    "      - NormalizePlaceHolder\n",
    "    default_params:\n",
    "      ScTransform:\n",
    "        processes_num: 8\n",
    "  - type: filter.gene\n",
    "    include:\n",
    "      # - HighlyVariableGenesLogarithmizedByMeanAndDisp\n",
    "      - HighlyVariableGenesRawCount\n",
    "      - HighlyVariableGenesLogarithmizedByTopGenes\n",
    "      - FilterGenesTopK\n",
    "      - FilterGenesRegression\n",
    "      # - FilterGenesNumberPlaceHolder\n",
    "    default_params:\n",
    "      FilterGenesTopK:\n",
    "        num_genes: 100\n",
    "      FilterGenesRegression:\n",
    "        num_genes: 100\n",
    "      HighlyVariableGenesRawCount:\n",
    "        n_top_genes: 100\n",
    "      HighlyVariableGenesLogarithmizedByTopGenes:\n",
    "        n_top_genes: 100\n",
    "  - type: feature.cell\n",
    "    include:\n",
    "      - WeightedFeaturePCA\n",
    "      - WeightedFeatureSVD\n",
    "      - CellPCA\n",
    "      - CellSVD\n",
    "      - GaussRandProjFeature  # Registered custom preprocessing func\n",
    "      - FeatureCellPlaceHolder\n",
    "    params:\n",
    "      out: feature.cell\n",
    "      log_level: INFO\n",
    "  - type: misc\n",
    "    target: SetConfig\n",
    "    params:\n",
    "      config_dict:\n",
    "        feature_channel: feature.cell\n",
    "        label_channel: cell_type\n",
    "wandb:\n",
    "  entity: xzy11632\n",
    "  project: dance-dev\n",
    "  method: grid #try grid to provide a comprehensive search\n",
    "  metric:\n",
    "    name: acc  # val/acc\n",
    "    goal: maximize\n",
    "\n",
    "\n",
    "```"
   ]
  },
  {
   "cell_type": "markdown",
   "metadata": {},
   "source": [
    "**Tips**:\n",
    "\n",
    "1. In `tune_mode=pipeline`, the system will only tune the preprocessing pipeline.  \n",
    "2. In `tune_mode=params`, the system will only tune the model parameters.  \n",
    "3. In `tune_mode=pipeline_params`, the system will do a two-stage search: first for pipelines, then for model parameters.\n",
    "\n",
    "---\n",
    "\n",
    "## 4. Testing & Execution\n",
    "\n",
    "After setting everything up:\n",
    "\n",
    "```bash\n",
    "# Search only the best preprocessing pipeline:\n",
    "python main.py --tune_mode pipeline\n",
    "\n",
    "# Search only the best model hyperparameters:\n",
    "python main.py --tune_mode params\n",
    "\n",
    "# Joint two-stage search for both pipeline and parameters:\n",
    "python main.py --tune_mode pipeline_params\n",
    "\n",
    "Once this completes, you should see results logged into Weights & Biases (wandb). The save_summary_data function writes out a CSV of the top performing runs. If you selected pipeline_params, the script also generates a default param config for the second stage of the search, which is automatically run via run_step3."
   ]
  },
  {
   "cell_type": "markdown",
   "metadata": {},
   "source": [
    "## 5. Summary\n",
    "By following these steps:\n",
    "\n",
    "Inherit from the appropriate base class (in our case BaseClassificationMethod).\n",
    "Implement the fit, predict, and (optionally) preprocessing_pipeline methods.\n",
    "Integrate your custom model into the main.py script.\n",
    "Create and reference the necessary configuration (YAML) files.\n",
    "Run the pipeline using --tune_mode (pipeline|params|pipeline_params).\n",
    "…you can easily plug in any custom algorithm—ranging from simple classification methods like an SVM to deep learning methods with pretraining steps—into this auto-search framework.\n",
    "\n",
    "Happy coding and good luck with your hyperparameter searches!\n",
    "\n"
   ]
  },
  {
   "cell_type": "markdown",
   "metadata": {},
   "source": []
  }
 ],
 "metadata": {
  "kernelspec": {
   "display_name": "dance",
   "language": "python",
   "name": "python3"
  },
  "language_info": {
   "codemirror_mode": {
    "name": "ipython",
    "version": 3
   },
   "file_extension": ".py",
   "mimetype": "text/x-python",
   "name": "python",
   "nbconvert_exporter": "python",
   "pygments_lexer": "ipython3",
   "version": "3.11.8"
  }
 },
 "nbformat": 4,
 "nbformat_minor": 2
}
