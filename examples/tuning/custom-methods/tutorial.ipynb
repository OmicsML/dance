{
 "cells": [
  {
   "cell_type": "markdown",
   "metadata": {},
   "source": [
    "# Tutorial: Adding and Using a Custom Algorithm in the Auto-Search Framework\n",
    "\n",
    "In this notebook, we'll walk through how to integrate a new algorithm (specifically an SVM classifier) into the auto-search framework outlined in your documentation. We will:\n",
    "\n",
    "1. Inherit from the **BaseClassificationMethod** (or another suitable base) to define our custom method. Implement the required interfaces (`fit`, `predict`, and optionally `preprocessing_pipeline`).  \n",
    "2. Show how to run the hyperparameter search using the integrated method.  \n",
    "3. Provide an example `main.py`-like script that demonstrates how the auto-search process is orchestrated.\n",
    "\n",
    "## 1. Folder Structure & Requirements\n",
    "\n",
    "Before diving in, ensure you have the following directory structure (at least conceptually; your actual project structure can be more extensive):"
   ]
  },
  {
   "cell_type": "markdown",
   "metadata": {},
   "source": [
    "```\n",
    "examples/tuning/\n",
    "└── classification_svm/\n",
    "    ├── main.py\n",
    "    ├── tutorial.ipynb  \n",
    "    └── dataset_name/\n",
    "        ├── pipeline_params_tuning_config.yaml\n",
    "        └── config_yamls/\n",
    "            ├── 0_test_acc_params_tuning_config.yaml\n",
    "            ├── 1_test_acc_params_tuning_config.yaml\n",
    "            └── 2_test_acc_params_tuning_config.yaml\n",
    "```"
   ]
  },
  {
   "cell_type": "markdown",
   "metadata": {},
   "source": [
    "Where `cta_svm` is the directory we created for our new algorithm. The same pattern can apply for other methods, such as `clustering_kmeans`, `regression_linreg`, etc.\n",
    "\n",
    "We'll focus on the **SVM** example below.\n",
    "\n",
    "---"
   ]
  },
  {
   "cell_type": "markdown",
   "metadata": {},
   "source": [
    "## 2. Defining Our SVM Classifier\n",
    "\n",
    "Suppose we want to define a custom SVM method for classification.\n",
    "We'll inherit from BaseClassificationMethod and implement the required methods."
   ]
  },
  {
   "cell_type": "code",
   "execution_count": 1,
   "metadata": {},
   "outputs": [
    {
     "name": "stderr",
     "output_type": "stream",
     "text": [
      "/home/zyxing/dance/dance/utils/matrix.py:178: NumbaExperimentalFeatureWarning: First-class function type feature is experimental\n",
      "  for j in numba.prange(n):\n",
      "/home/zyxing/anaconda3/envs/dance/lib/python3.11/site-packages/numba/np/ufunc/parallel.py:371: NumbaWarning: The TBB threading layer requires TBB version 2021 update 6 or later i.e., TBB_INTERFACE_VERSION >= 12060. Found TBB_INTERFACE_VERSION = 12050. The TBB threading layer is disabled.\n",
      "  warnings.warn(problem)\n"
     ]
    }
   ],
   "source": [
    "from typing import Optional\n",
    "from dance.modules.base import BaseClassificationMethod\n",
    "from sklearn.svm import SVC\n",
    "import numpy as np\n",
    "\n",
    "from dance.transforms.cell_feature import WeightedFeaturePCA\n",
    "from dance.transforms.misc import Compose, SetConfig\n",
    "from dance.typing import LogLevel\n",
    "\n",
    "class SVM(BaseClassificationMethod):\n",
    "    \"\"\"The SVM cell-type classification model.\n",
    "\n",
    "    Parameters\n",
    "    ----------\n",
    "    args : argparse.Namespace\n",
    "        A Namespace contains arguments of SVM. See parser help document for more info.\n",
    "    prj_path: str\n",
    "        project path\n",
    "\n",
    "    \"\"\"\n",
    "\n",
    "    def __init__(self, args, prj_path=\"./\", random_state: Optional[int] = None):\n",
    "        self.args = args\n",
    "        self.random_state = random_state\n",
    "        self._mdl = SVC(random_state=random_state, probability=True)\n",
    "\n",
    "    @staticmethod\n",
    "    def preprocessing_pipeline(n_components: int = 400, log_level: LogLevel = \"INFO\"):\n",
    "        return Compose(\n",
    "            WeightedFeaturePCA(n_components=n_components, split_name=\"train\"),\n",
    "            SetConfig({\n",
    "                \"feature_channel\": \"WeightedFeaturePCA\",\n",
    "                \"label_channel\": \"cell_type\"\n",
    "            }),\n",
    "            log_level=log_level,\n",
    "        )\n",
    "\n",
    "    def fit(self, x: np.ndarray, y: np.ndarray):\n",
    "        \"\"\"Train the classifier.\n",
    "\n",
    "        Parameters\n",
    "        ----------\n",
    "        x\n",
    "            Training cell features.\n",
    "        y\n",
    "            Training labels.\n",
    "\n",
    "        \"\"\"\n",
    "        self._mdl.fit(x, y)\n",
    "\n",
    "    def predict(self, x: np.ndarray):\n",
    "        \"\"\"Predict cell labels.\n",
    "\n",
    "        Parameters\n",
    "        ----------\n",
    "        x\n",
    "            Samples to be predicted (samplex x features).\n",
    "\n",
    "        Returns\n",
    "        -------\n",
    "        y\n",
    "            Predicted labels of the input samples.\n",
    "\n",
    "        \"\"\"\n",
    "        return self._mdl.predict(x)\n"
   ]
  },
  {
   "cell_type": "markdown",
   "metadata": {},
   "source": [
    "## 3. Example `main.py` File\n",
    "\n",
    "Below is an example of how your `main.py` might look if you're adding SVM as one of the classification methods. This file orchestrates the entire pipeline:\n",
    "\n",
    "1. **Register** preprocessing functions through annotations (optional)\n",
    "2. **Parsing Arguments** and configuring hyperparameters.  \n",
    "3. **Defining** an evaluation function that:  \n",
    "   - Loads and preprocesses the data.  \n",
    "   - Initializes your model (the new SVM class).  \n",
    "   - Trains and scores the model.  \n",
    "   - Logs results to Weights & Biases (wandb).  \n",
    "4. **Running** the hyperparameter sweep agent (e.g., via `wandb_sweep_agent`).  \n",
    "5. **Saving** results and optionally generating a second-stage tuning config file.\n",
    "\n",
    "> **Note**: For demonstration, only relevant code is shown. Adjust as needed for your exact pipeline or data."
   ]
  },
  {
   "cell_type": "code",
   "execution_count": null,
   "metadata": {},
   "outputs": [],
   "source": [
    "\"\"\" \n",
    "Step 1: preprocessing functions can be registered using register_preprocessor. \n",
    "In this example, the GaussRandProjFeature preprocessing function is registered within the feature.cell pipeline. \n",
    "This registered function can later be specified in the configuration file.\n",
    "\"\"\"\n",
    "@register_preprocessor(\"feature\", \"cell\",overwrite=True)  # NOTE: register any custom preprocessing function to be used for tuning\n",
    "class GaussRandProjFeature(BaseTransform):\n",
    "    \"\"\"Custom preprocessing to extract cell feature via Gaussian random projection.\"\"\"\n",
    "\n",
    "    _DISPLAY_ATTRS = (\"n_components\", \"eps\")\n",
    "\n",
    "    def __init__(self, n_components: int = 400, eps: float = 0.1, **kwargs):\n",
    "        super().__init__(**kwargs)\n",
    "        self.n_components = n_components\n",
    "        self.eps = eps\n",
    "\n",
    "    def __call__(self, data):\n",
    "        feat = data.get_feature(return_type=\"numpy\")\n",
    "        grp = GaussianRandomProjection(n_components=self.n_components, eps=self.eps)\n",
    "\n",
    "        self.logger.info(f\"Start generateing cell feature via Gaussian random projection (d={self.n_components}).\")\n",
    "        data.data.obsm[self.out] = grp.fit_transform(feat)\n",
    "\n",
    "        return data\n"
   ]
  },
  {
   "cell_type": "code",
   "execution_count": 2,
   "metadata": {},
   "outputs": [
    {
     "name": "stderr",
     "output_type": "stream",
     "text": [
      "[INFO][2025-03-17 21:00:27,646][dance][main] \n",
      " files is saved in /home/zyxing/dance/examples/tuning/custom-methods/328_138\n",
      "[INFO][2025-03-17 21:00:27,675][dance][config] tune mode is set to pipeline_params, tune_mode will first be converted to pipeline\n",
      "Failed to detect the name of this notebook, you can set it manually with the WANDB_NOTEBOOK_NAME environment variable to enable code saving.\n",
      "[INFO][2025-03-17 21:00:30,318][dance][wandb_sweep] \u001b[94m\n",
      "\n",
      "\t[*] Sweep ID: 587g1m1t\n",
      "\u001b[0m\n",
      "[INFO][2025-03-17 21:00:30,319][dance][wandb_sweep_agent] Spawning agent: sweep_id='587g1m1t', entity='xzy11632', project='dance-dev', count=2\n"
     ]
    },
    {
     "name": "stdout",
     "output_type": "stream",
     "text": [
      "Create sweep with ID: 587g1m1t\n",
      "Sweep URL: https://wandb.ai/xzy11632/dance-dev/sweeps/587g1m1t\n"
     ]
    },
    {
     "name": "stderr",
     "output_type": "stream",
     "text": [
      "\u001b[34m\u001b[1mwandb\u001b[0m: Agent Starting Run: oki53cme with config:\n",
      "\u001b[34m\u001b[1mwandb\u001b[0m: \tpipeline.0.filter.gene: FilterGenesPercentile\n",
      "\u001b[34m\u001b[1mwandb\u001b[0m: \tpipeline.1.normalize: Log1P\n",
      "\u001b[34m\u001b[1mwandb\u001b[0m: \tpipeline.2.filter.gene: FilterGenesNumberPlaceHolder\n",
      "\u001b[34m\u001b[1mwandb\u001b[0m: \tpipeline.3.feature.cell: CellPCA\n",
      "Failed to detect the name of this notebook, you can set it manually with the WANDB_NOTEBOOK_NAME environment variable to enable code saving.\n",
      "\u001b[34m\u001b[1mwandb\u001b[0m: Currently logged in as: \u001b[33mxzy11632\u001b[0m. Use \u001b[1m`wandb login --relogin`\u001b[0m to force relogin\n"
     ]
    },
    {
     "data": {
      "text/html": [
       "wandb version 0.19.8 is available!  To upgrade, please run:\n",
       " $ pip install wandb --upgrade"
      ],
      "text/plain": [
       "<IPython.core.display.HTML object>"
      ]
     },
     "metadata": {},
     "output_type": "display_data"
    },
    {
     "data": {
      "text/html": [
       "Tracking run with wandb version 0.16.3"
      ],
      "text/plain": [
       "<IPython.core.display.HTML object>"
      ]
     },
     "metadata": {},
     "output_type": "display_data"
    },
    {
     "data": {
      "text/html": [
       "Run data is saved locally in <code>/home/zyxing/dance/examples/tuning/custom-methods/wandb/run-20250317_210034-oki53cme</code>"
      ],
      "text/plain": [
       "<IPython.core.display.HTML object>"
      ]
     },
     "metadata": {},
     "output_type": "display_data"
    },
    {
     "data": {
      "text/html": [
       "Syncing run <strong><a href='https://wandb.ai/xzy11632/dance-dev/runs/oki53cme' target=\"_blank\">copper-sweep-1</a></strong> to <a href='https://wandb.ai/xzy11632/dance-dev' target=\"_blank\">Weights & Biases</a> (<a href='https://wandb.me/run' target=\"_blank\">docs</a>)<br/>Sweep page: <a href='https://wandb.ai/xzy11632/dance-dev/sweeps/587g1m1t' target=\"_blank\">https://wandb.ai/xzy11632/dance-dev/sweeps/587g1m1t</a>"
      ],
      "text/plain": [
       "<IPython.core.display.HTML object>"
      ]
     },
     "metadata": {},
     "output_type": "display_data"
    },
    {
     "data": {
      "text/html": [
       " View project at <a href='https://wandb.ai/xzy11632/dance-dev' target=\"_blank\">https://wandb.ai/xzy11632/dance-dev</a>"
      ],
      "text/plain": [
       "<IPython.core.display.HTML object>"
      ]
     },
     "metadata": {},
     "output_type": "display_data"
    },
    {
     "data": {
      "text/html": [
       " View sweep at <a href='https://wandb.ai/xzy11632/dance-dev/sweeps/587g1m1t' target=\"_blank\">https://wandb.ai/xzy11632/dance-dev/sweeps/587g1m1t</a>"
      ],
      "text/plain": [
       "<IPython.core.display.HTML object>"
      ]
     },
     "metadata": {},
     "output_type": "display_data"
    },
    {
     "data": {
      "text/html": [
       " View run at <a href='https://wandb.ai/xzy11632/dance-dev/runs/oki53cme' target=\"_blank\">https://wandb.ai/xzy11632/dance-dev/runs/oki53cme</a>"
      ],
      "text/plain": [
       "<IPython.core.display.HTML object>"
      ]
     },
     "metadata": {},
     "output_type": "display_data"
    },
    {
     "name": "stderr",
     "output_type": "stream",
     "text": [
      "[INFO][2025-03-17 21:00:53,777][dance][set_seed] Setting global random seed to 10\n",
      "[INFO][2025-03-17 21:00:53,797][dance][_load_dfs] Loading data from ../temp_data/train/human/human_Brain328_data.csv\n",
      "[INFO][2025-03-17 21:00:54,410][dance][_load_dfs] Loading data from ../temp_data/test/human/human_Brain138_data.csv\n",
      "[INFO][2025-03-17 21:00:54,674][dance][_load_dfs] Loading data from ../temp_data/train/human/human_Brain328_celltype.csv\n",
      "[INFO][2025-03-17 21:00:54,680][dance][_load_dfs] Loading data from ../temp_data/test/human/human_Brain138_celltype.csv\n",
      "/home/zyxing/anaconda3/envs/dance/lib/python3.11/site-packages/anndata/_core/anndata.py:430: FutureWarning: The dtype argument is deprecated and will be removed in late 2024.\n",
      "  warnings.warn(\n",
      "[INFO][2025-03-17 21:00:55,226][dance][_load_raw_data] Loaded expression data: AnnData object with n_obs × n_vars = 466 × 22088\n",
      "[INFO][2025-03-17 21:00:55,230][dance][_load_raw_data] Number of training samples: 262\n",
      "[INFO][2025-03-17 21:00:55,232][dance][_load_raw_data] Number of valid samples: 66\n",
      "[INFO][2025-03-17 21:00:55,235][dance][_load_raw_data] Number of testing samples: 138\n",
      "[INFO][2025-03-17 21:00:55,266][dance][_load_raw_data] Cell-types (n=9):\n",
      "['OPC',\n",
      " 'astrocytes',\n",
      " 'endothelial',\n",
      " 'fetal_quiescent',\n",
      " 'fetal_replicating',\n",
      " 'hybrid',\n",
      " 'microglia',\n",
      " 'neurons',\n",
      " 'oligodendrocytes']\n",
      "[INFO][2025-03-17 21:00:55,272][dance][load_data] Raw data loaded:\n",
      "Data object that wraps (.data):\n",
      "AnnData object with n_obs × n_vars = 466 × 22088\n",
      "    uns: 'dance_config'\n",
      "    obsm: 'cell_type'\n",
      "[INFO][2025-03-17 21:00:55,286][dance][wrapped_func] Took 0:00:01.499483 to load and process data.\n",
      "[INFO][2025-03-17 21:00:55,288][dance][generate_config] The content in pipeline_params will be converted to pipeline\n",
      "[INFO][2025-03-17 21:00:55,293][dance][_sanitize_pipeline] Pipeline plan:\n",
      "\u001b[92m['FilterGenesPercentile',\n",
      " 'Log1P',\n",
      " 'FilterGenesNumberPlaceHolder',\n",
      " 'CellPCA',\n",
      " None]\u001b[0m\n",
      "[WARNING][2025-03-17 21:00:55,304][dance.FilterGenesPercentile][__call__] n_counts will be added to the var of data\n",
      "[WARNING][2025-03-17 21:00:55,314][dance.FilterGenesPercentile][__call__] n_cells will be added to the var of data\n",
      "[INFO][2025-03-17 21:01:34,726][dance.CellPCA][__call__] Generating cell PCA features (466, 21867) (k=400)\n",
      "[INFO][2025-03-17 21:01:34,741][dance.CellPCA][__call__] Top 10 explained variances: [0.11204966 0.03459482 0.01951908 0.01849965 0.01026512 0.00872076\n",
      " 0.00687905 0.00607501 0.00575275 0.00526155]\n",
      "[INFO][2025-03-17 21:01:34,742][dance.CellPCA][__call__] Total explained variance: 94.39%\n",
      "[INFO][2025-03-17 21:01:34,745][dance][set_config_from_dict] Setting config 'feature_channel' to 'feature.cell'\n",
      "[INFO][2025-03-17 21:01:34,745][dance][set_config_from_dict] Setting config 'label_channel' to 'cell_type'\n"
     ]
    },
    {
     "data": {
      "text/html": [
       "<style>\n",
       "    table.wandb td:nth-child(1) { padding: 0 10px; text-align: left ; width: auto;} td:nth-child(2) {text-align: left ; width: 100%}\n",
       "    .wandb-row { display: flex; flex-direction: row; flex-wrap: wrap; justify-content: flex-start; width: 100% }\n",
       "    .wandb-col { display: flex; flex-direction: column; flex-basis: 100%; flex: 1; padding: 10px; }\n",
       "    </style>\n",
       "<div class=\"wandb-row\"><div class=\"wandb-col\"><h3>Run history:</h3><br/><table class=\"wandb\"><tr><td>acc</td><td>▁</td></tr><tr><td>test_acc</td><td>▁</td></tr><tr><td>train_acc</td><td>▁</td></tr></table><br/></div><div class=\"wandb-col\"><h3>Run summary:</h3><br/><table class=\"wandb\"><tr><td>acc</td><td>0.75758</td></tr><tr><td>test_acc</td><td>0.66667</td></tr><tr><td>train_acc</td><td>0.98473</td></tr></table><br/></div></div>"
      ],
      "text/plain": [
       "<IPython.core.display.HTML object>"
      ]
     },
     "metadata": {},
     "output_type": "display_data"
    },
    {
     "data": {
      "text/html": [
       " View run <strong style=\"color:#cdcd00\">copper-sweep-1</strong> at: <a href='https://wandb.ai/xzy11632/dance-dev/runs/oki53cme' target=\"_blank\">https://wandb.ai/xzy11632/dance-dev/runs/oki53cme</a><br/>Synced 6 W&B file(s), 0 media file(s), 0 artifact file(s) and 0 other file(s)"
      ],
      "text/plain": [
       "<IPython.core.display.HTML object>"
      ]
     },
     "metadata": {},
     "output_type": "display_data"
    },
    {
     "data": {
      "text/html": [
       "Find logs at: <code>./wandb/run-20250317_210034-oki53cme/logs</code>"
      ],
      "text/plain": [
       "<IPython.core.display.HTML object>"
      ]
     },
     "metadata": {},
     "output_type": "display_data"
    },
    {
     "name": "stderr",
     "output_type": "stream",
     "text": [
      "\u001b[34m\u001b[1mwandb\u001b[0m: Sweep Agent: Waiting for job.\n",
      "\u001b[34m\u001b[1mwandb\u001b[0m: Job received.\n",
      "\u001b[34m\u001b[1mwandb\u001b[0m: Agent Starting Run: lqfxtcpm with config:\n",
      "\u001b[34m\u001b[1mwandb\u001b[0m: \tpipeline.0.filter.gene: FilterGenesPercentile\n",
      "\u001b[34m\u001b[1mwandb\u001b[0m: \tpipeline.1.normalize: Log1P\n",
      "\u001b[34m\u001b[1mwandb\u001b[0m: \tpipeline.2.filter.gene: FilterGenesNumberPlaceHolder\n",
      "\u001b[34m\u001b[1mwandb\u001b[0m: \tpipeline.3.feature.cell: CellSVD\n",
      "Failed to detect the name of this notebook, you can set it manually with the WANDB_NOTEBOOK_NAME environment variable to enable code saving.\n"
     ]
    },
    {
     "data": {
      "text/html": [
       "wandb version 0.19.8 is available!  To upgrade, please run:\n",
       " $ pip install wandb --upgrade"
      ],
      "text/plain": [
       "<IPython.core.display.HTML object>"
      ]
     },
     "metadata": {},
     "output_type": "display_data"
    },
    {
     "data": {
      "text/html": [
       "Tracking run with wandb version 0.16.3"
      ],
      "text/plain": [
       "<IPython.core.display.HTML object>"
      ]
     },
     "metadata": {},
     "output_type": "display_data"
    },
    {
     "data": {
      "text/html": [
       "Run data is saved locally in <code>/home/zyxing/dance/examples/tuning/custom-methods/wandb/run-20250317_210159-lqfxtcpm</code>"
      ],
      "text/plain": [
       "<IPython.core.display.HTML object>"
      ]
     },
     "metadata": {},
     "output_type": "display_data"
    },
    {
     "data": {
      "text/html": [
       "Syncing run <strong><a href='https://wandb.ai/xzy11632/dance-dev/runs/lqfxtcpm' target=\"_blank\">rosy-sweep-2</a></strong> to <a href='https://wandb.ai/xzy11632/dance-dev' target=\"_blank\">Weights & Biases</a> (<a href='https://wandb.me/run' target=\"_blank\">docs</a>)<br/>Sweep page: <a href='https://wandb.ai/xzy11632/dance-dev/sweeps/587g1m1t' target=\"_blank\">https://wandb.ai/xzy11632/dance-dev/sweeps/587g1m1t</a>"
      ],
      "text/plain": [
       "<IPython.core.display.HTML object>"
      ]
     },
     "metadata": {},
     "output_type": "display_data"
    },
    {
     "data": {
      "text/html": [
       " View project at <a href='https://wandb.ai/xzy11632/dance-dev' target=\"_blank\">https://wandb.ai/xzy11632/dance-dev</a>"
      ],
      "text/plain": [
       "<IPython.core.display.HTML object>"
      ]
     },
     "metadata": {},
     "output_type": "display_data"
    },
    {
     "data": {
      "text/html": [
       " View sweep at <a href='https://wandb.ai/xzy11632/dance-dev/sweeps/587g1m1t' target=\"_blank\">https://wandb.ai/xzy11632/dance-dev/sweeps/587g1m1t</a>"
      ],
      "text/plain": [
       "<IPython.core.display.HTML object>"
      ]
     },
     "metadata": {},
     "output_type": "display_data"
    },
    {
     "data": {
      "text/html": [
       " View run at <a href='https://wandb.ai/xzy11632/dance-dev/runs/lqfxtcpm' target=\"_blank\">https://wandb.ai/xzy11632/dance-dev/runs/lqfxtcpm</a>"
      ],
      "text/plain": [
       "<IPython.core.display.HTML object>"
      ]
     },
     "metadata": {},
     "output_type": "display_data"
    },
    {
     "name": "stderr",
     "output_type": "stream",
     "text": [
      "[INFO][2025-03-17 21:02:15,451][dance][set_seed] Setting global random seed to 10\n",
      "[INFO][2025-03-17 21:02:15,460][dance][_load_dfs] Loading data from ../temp_data/train/human/human_Brain328_data.csv\n",
      "[INFO][2025-03-17 21:02:16,140][dance][_load_dfs] Loading data from ../temp_data/test/human/human_Brain138_data.csv\n",
      "[INFO][2025-03-17 21:02:16,411][dance][_load_dfs] Loading data from ../temp_data/train/human/human_Brain328_celltype.csv\n",
      "[INFO][2025-03-17 21:02:16,417][dance][_load_dfs] Loading data from ../temp_data/test/human/human_Brain138_celltype.csv\n",
      "/home/zyxing/anaconda3/envs/dance/lib/python3.11/site-packages/anndata/_core/anndata.py:430: FutureWarning: The dtype argument is deprecated and will be removed in late 2024.\n",
      "  warnings.warn(\n",
      "[INFO][2025-03-17 21:02:16,746][dance][_load_raw_data] Loaded expression data: AnnData object with n_obs × n_vars = 466 × 22088\n",
      "[INFO][2025-03-17 21:02:16,748][dance][_load_raw_data] Number of training samples: 262\n",
      "[INFO][2025-03-17 21:02:16,750][dance][_load_raw_data] Number of valid samples: 66\n",
      "[INFO][2025-03-17 21:02:16,751][dance][_load_raw_data] Number of testing samples: 138\n",
      "[INFO][2025-03-17 21:02:16,753][dance][_load_raw_data] Cell-types (n=9):\n",
      "['OPC',\n",
      " 'astrocytes',\n",
      " 'endothelial',\n",
      " 'fetal_quiescent',\n",
      " 'fetal_replicating',\n",
      " 'hybrid',\n",
      " 'microglia',\n",
      " 'neurons',\n",
      " 'oligodendrocytes']\n",
      "[INFO][2025-03-17 21:02:16,757][dance][load_data] Raw data loaded:\n",
      "Data object that wraps (.data):\n",
      "AnnData object with n_obs × n_vars = 466 × 22088\n",
      "    uns: 'dance_config'\n",
      "    obsm: 'cell_type'\n",
      "[INFO][2025-03-17 21:02:16,762][dance][wrapped_func] Took 0:00:01.302677 to load and process data.\n",
      "[INFO][2025-03-17 21:02:16,763][dance][generate_config] The content in pipeline_params will be converted to pipeline\n",
      "[INFO][2025-03-17 21:02:16,768][dance][_sanitize_pipeline] Pipeline plan:\n",
      "\u001b[92m['FilterGenesPercentile',\n",
      " 'Log1P',\n",
      " 'FilterGenesNumberPlaceHolder',\n",
      " 'CellSVD',\n",
      " None]\u001b[0m\n",
      "[WARNING][2025-03-17 21:02:16,777][dance.FilterGenesPercentile][__call__] n_counts will be added to the var of data\n",
      "[WARNING][2025-03-17 21:02:16,787][dance.FilterGenesPercentile][__call__] n_cells will be added to the var of data\n",
      "[INFO][2025-03-17 21:03:24,984][dance.CellSVD][__call__] Generating cell SVD features (466, 21867) (k=400)\n",
      "[INFO][2025-03-17 21:03:24,989][dance.CellSVD][__call__] Top 10 explained variances: [0.09834389 0.03498171 0.02630389 0.01928738 0.01053023 0.0095353\n",
      " 0.0068708  0.00687904 0.00596419 0.00561348]\n",
      "[INFO][2025-03-17 21:03:24,991][dance.CellSVD][__call__] Total explained variance: 94.08%\n",
      "[INFO][2025-03-17 21:03:24,994][dance][set_config_from_dict] Setting config 'feature_channel' to 'feature.cell'\n",
      "[INFO][2025-03-17 21:03:24,996][dance][set_config_from_dict] Setting config 'label_channel' to 'cell_type'\n"
     ]
    },
    {
     "data": {
      "text/html": [
       "<style>\n",
       "    table.wandb td:nth-child(1) { padding: 0 10px; text-align: left ; width: auto;} td:nth-child(2) {text-align: left ; width: 100%}\n",
       "    .wandb-row { display: flex; flex-direction: row; flex-wrap: wrap; justify-content: flex-start; width: 100% }\n",
       "    .wandb-col { display: flex; flex-direction: column; flex-basis: 100%; flex: 1; padding: 10px; }\n",
       "    </style>\n",
       "<div class=\"wandb-row\"><div class=\"wandb-col\"><h3>Run history:</h3><br/><table class=\"wandb\"><tr><td>acc</td><td>▁</td></tr><tr><td>test_acc</td><td>▁</td></tr><tr><td>train_acc</td><td>▁</td></tr></table><br/></div><div class=\"wandb-col\"><h3>Run summary:</h3><br/><table class=\"wandb\"><tr><td>acc</td><td>0.74242</td></tr><tr><td>test_acc</td><td>0.72464</td></tr><tr><td>train_acc</td><td>0.9542</td></tr></table><br/></div></div>"
      ],
      "text/plain": [
       "<IPython.core.display.HTML object>"
      ]
     },
     "metadata": {},
     "output_type": "display_data"
    },
    {
     "data": {
      "text/html": [
       " View run <strong style=\"color:#cdcd00\">rosy-sweep-2</strong> at: <a href='https://wandb.ai/xzy11632/dance-dev/runs/lqfxtcpm' target=\"_blank\">https://wandb.ai/xzy11632/dance-dev/runs/lqfxtcpm</a><br/>Synced 6 W&B file(s), 0 media file(s), 0 artifact file(s) and 0 other file(s)"
      ],
      "text/plain": [
       "<IPython.core.display.HTML object>"
      ]
     },
     "metadata": {},
     "output_type": "display_data"
    },
    {
     "data": {
      "text/html": [
       "Find logs at: <code>./wandb/run-20250317_210159-lqfxtcpm/logs</code>"
      ],
      "text/plain": [
       "<IPython.core.display.HTML object>"
      ]
     },
     "metadata": {},
     "output_type": "display_data"
    },
    {
     "name": "stderr",
     "output_type": "stream",
     "text": [
      "[INFO][2025-03-17 21:03:37,025][dance][wandb_sweep] \u001b[94m\n",
      "\n",
      "\t[*] Sweep ID: ademwmvf\n",
      "\u001b[0m\n",
      "[INFO][2025-03-17 21:03:37,026][dance][wandb_sweep_agent] Spawning agent: sweep_id='ademwmvf', entity='xzy11632', project='dance-dev', count=2\n"
     ]
    },
    {
     "name": "stdout",
     "output_type": "stream",
     "text": [
      "Create sweep with ID: ademwmvf\n",
      "Sweep URL: https://wandb.ai/xzy11632/dance-dev/sweeps/ademwmvf\n"
     ]
    },
    {
     "name": "stderr",
     "output_type": "stream",
     "text": [
      "\u001b[34m\u001b[1mwandb\u001b[0m: Agent Starting Run: sokurao9 with config:\n",
      "\u001b[34m\u001b[1mwandb\u001b[0m: \tparams.0.FilterGenesPercentile.max_val: 96\n",
      "\u001b[34m\u001b[1mwandb\u001b[0m: \tparams.0.FilterGenesPercentile.min_val: 10\n",
      "\u001b[34m\u001b[1mwandb\u001b[0m: \tparams.0.FilterGenesPercentile.mode: sum\n",
      "\u001b[34m\u001b[1mwandb\u001b[0m: \tparams.1.Log1P.base: 1.3775438561063975\n",
      "\u001b[34m\u001b[1mwandb\u001b[0m: \tparams.3.CellSVD.n_components: 596\n",
      "Failed to detect the name of this notebook, you can set it manually with the WANDB_NOTEBOOK_NAME environment variable to enable code saving.\n"
     ]
    },
    {
     "data": {
      "text/html": [
       "wandb version 0.19.8 is available!  To upgrade, please run:\n",
       " $ pip install wandb --upgrade"
      ],
      "text/plain": [
       "<IPython.core.display.HTML object>"
      ]
     },
     "metadata": {},
     "output_type": "display_data"
    },
    {
     "data": {
      "text/html": [
       "Tracking run with wandb version 0.16.3"
      ],
      "text/plain": [
       "<IPython.core.display.HTML object>"
      ]
     },
     "metadata": {},
     "output_type": "display_data"
    },
    {
     "data": {
      "text/html": [
       "Run data is saved locally in <code>/home/zyxing/dance/examples/tuning/custom-methods/wandb/run-20250317_210341-sokurao9</code>"
      ],
      "text/plain": [
       "<IPython.core.display.HTML object>"
      ]
     },
     "metadata": {},
     "output_type": "display_data"
    },
    {
     "data": {
      "text/html": [
       "Syncing run <strong><a href='https://wandb.ai/xzy11632/dance-dev/runs/sokurao9' target=\"_blank\">major-sweep-1</a></strong> to <a href='https://wandb.ai/xzy11632/dance-dev' target=\"_blank\">Weights & Biases</a> (<a href='https://wandb.me/run' target=\"_blank\">docs</a>)<br/>Sweep page: <a href='https://wandb.ai/xzy11632/dance-dev/sweeps/ademwmvf' target=\"_blank\">https://wandb.ai/xzy11632/dance-dev/sweeps/ademwmvf</a>"
      ],
      "text/plain": [
       "<IPython.core.display.HTML object>"
      ]
     },
     "metadata": {},
     "output_type": "display_data"
    },
    {
     "data": {
      "text/html": [
       " View project at <a href='https://wandb.ai/xzy11632/dance-dev' target=\"_blank\">https://wandb.ai/xzy11632/dance-dev</a>"
      ],
      "text/plain": [
       "<IPython.core.display.HTML object>"
      ]
     },
     "metadata": {},
     "output_type": "display_data"
    },
    {
     "data": {
      "text/html": [
       " View sweep at <a href='https://wandb.ai/xzy11632/dance-dev/sweeps/ademwmvf' target=\"_blank\">https://wandb.ai/xzy11632/dance-dev/sweeps/ademwmvf</a>"
      ],
      "text/plain": [
       "<IPython.core.display.HTML object>"
      ]
     },
     "metadata": {},
     "output_type": "display_data"
    },
    {
     "data": {
      "text/html": [
       " View run at <a href='https://wandb.ai/xzy11632/dance-dev/runs/sokurao9' target=\"_blank\">https://wandb.ai/xzy11632/dance-dev/runs/sokurao9</a>"
      ],
      "text/plain": [
       "<IPython.core.display.HTML object>"
      ]
     },
     "metadata": {},
     "output_type": "display_data"
    },
    {
     "name": "stderr",
     "output_type": "stream",
     "text": [
      "[INFO][2025-03-17 21:03:59,518][dance][set_seed] Setting global random seed to 10\n",
      "[INFO][2025-03-17 21:03:59,521][dance][_load_dfs] Loading data from ../temp_data/train/human/human_Brain328_data.csv\n",
      "[INFO][2025-03-17 21:04:00,103][dance][_load_dfs] Loading data from ../temp_data/test/human/human_Brain138_data.csv\n",
      "[INFO][2025-03-17 21:04:00,328][dance][_load_dfs] Loading data from ../temp_data/train/human/human_Brain328_celltype.csv\n",
      "[INFO][2025-03-17 21:04:00,332][dance][_load_dfs] Loading data from ../temp_data/test/human/human_Brain138_celltype.csv\n",
      "/home/zyxing/anaconda3/envs/dance/lib/python3.11/site-packages/anndata/_core/anndata.py:430: FutureWarning: The dtype argument is deprecated and will be removed in late 2024.\n",
      "  warnings.warn(\n",
      "[INFO][2025-03-17 21:04:00,621][dance][_load_raw_data] Loaded expression data: AnnData object with n_obs × n_vars = 466 × 22088\n",
      "[INFO][2025-03-17 21:04:00,624][dance][_load_raw_data] Number of training samples: 262\n",
      "[INFO][2025-03-17 21:04:00,625][dance][_load_raw_data] Number of valid samples: 66\n",
      "[INFO][2025-03-17 21:04:00,626][dance][_load_raw_data] Number of testing samples: 138\n",
      "[INFO][2025-03-17 21:04:00,627][dance][_load_raw_data] Cell-types (n=9):\n",
      "['OPC',\n",
      " 'astrocytes',\n",
      " 'endothelial',\n",
      " 'fetal_quiescent',\n",
      " 'fetal_replicating',\n",
      " 'hybrid',\n",
      " 'microglia',\n",
      " 'neurons',\n",
      " 'oligodendrocytes']\n",
      "[INFO][2025-03-17 21:04:00,629][dance][load_data] Raw data loaded:\n",
      "Data object that wraps (.data):\n",
      "AnnData object with n_obs × n_vars = 466 × 22088\n",
      "    uns: 'dance_config'\n",
      "    obsm: 'cell_type'\n",
      "[INFO][2025-03-17 21:04:00,631][dance][wrapped_func] Took 0:00:01.110952 to load and process data.\n",
      "[INFO][2025-03-17 21:04:00,633][dance][_sanitize_params] Params plan:\n",
      "\u001b[92m[{'max_val': 96, 'min_val': 10, 'mode': 'sum'},\n",
      " {'base': 1.3775438561063975},\n",
      " None,\n",
      " {'n_components': 596},\n",
      " None]\u001b[0m\n",
      "[WARNING][2025-03-17 21:04:00,644][dance.FilterGenesPercentile][__call__] n_counts will be added to the var of data\n",
      "[WARNING][2025-03-17 21:04:00,654][dance.FilterGenesPercentile][__call__] n_cells will be added to the var of data\n",
      "[WARNING][2025-03-17 21:04:00,816][dance.CellSVD][__call__] n_components=596 must be between 0 and min(n_samples, n_features)=466 with svd_solver='full'\n",
      "[INFO][2025-03-17 21:05:06,175][dance.CellSVD][__call__] Generating cell SVD features (466, 19042) (k=466)\n",
      "[INFO][2025-03-17 21:05:06,179][dance.CellSVD][__call__] Top 10 explained variances: [0.09260346 0.03116987 0.02280884 0.016829   0.0098371  0.00915197\n",
      " 0.00676175 0.00632866 0.00578318 0.00543949]\n",
      "[INFO][2025-03-17 21:05:06,180][dance.CellSVD][__call__] Total explained variance: 100.00%\n",
      "[INFO][2025-03-17 21:05:06,182][dance][set_config_from_dict] Setting config 'feature_channel' to 'feature.cell'\n",
      "[INFO][2025-03-17 21:05:06,183][dance][set_config_from_dict] Setting config 'label_channel' to 'cell_type'\n"
     ]
    },
    {
     "data": {
      "text/html": [
       "<style>\n",
       "    table.wandb td:nth-child(1) { padding: 0 10px; text-align: left ; width: auto;} td:nth-child(2) {text-align: left ; width: 100%}\n",
       "    .wandb-row { display: flex; flex-direction: row; flex-wrap: wrap; justify-content: flex-start; width: 100% }\n",
       "    .wandb-col { display: flex; flex-direction: column; flex-basis: 100%; flex: 1; padding: 10px; }\n",
       "    </style>\n",
       "<div class=\"wandb-row\"><div class=\"wandb-col\"><h3>Run history:</h3><br/><table class=\"wandb\"><tr><td>acc</td><td>▁</td></tr><tr><td>test_acc</td><td>▁</td></tr><tr><td>train_acc</td><td>▁</td></tr></table><br/></div><div class=\"wandb-col\"><h3>Run summary:</h3><br/><table class=\"wandb\"><tr><td>acc</td><td>0.74242</td></tr><tr><td>test_acc</td><td>0.68116</td></tr><tr><td>train_acc</td><td>0.96947</td></tr></table><br/></div></div>"
      ],
      "text/plain": [
       "<IPython.core.display.HTML object>"
      ]
     },
     "metadata": {},
     "output_type": "display_data"
    },
    {
     "data": {
      "text/html": [
       " View run <strong style=\"color:#cdcd00\">major-sweep-1</strong> at: <a href='https://wandb.ai/xzy11632/dance-dev/runs/sokurao9' target=\"_blank\">https://wandb.ai/xzy11632/dance-dev/runs/sokurao9</a><br/>Synced 6 W&B file(s), 0 media file(s), 0 artifact file(s) and 0 other file(s)"
      ],
      "text/plain": [
       "<IPython.core.display.HTML object>"
      ]
     },
     "metadata": {},
     "output_type": "display_data"
    },
    {
     "data": {
      "text/html": [
       "Find logs at: <code>./wandb/run-20250317_210341-sokurao9/logs</code>"
      ],
      "text/plain": [
       "<IPython.core.display.HTML object>"
      ]
     },
     "metadata": {},
     "output_type": "display_data"
    },
    {
     "name": "stderr",
     "output_type": "stream",
     "text": [
      "\u001b[34m\u001b[1mwandb\u001b[0m: Agent Starting Run: jabimnwx with config:\n",
      "\u001b[34m\u001b[1mwandb\u001b[0m: \tparams.0.FilterGenesPercentile.max_val: 98\n",
      "\u001b[34m\u001b[1mwandb\u001b[0m: \tparams.0.FilterGenesPercentile.min_val: 1\n",
      "\u001b[34m\u001b[1mwandb\u001b[0m: \tparams.0.FilterGenesPercentile.mode: var\n",
      "\u001b[34m\u001b[1mwandb\u001b[0m: \tparams.1.Log1P.base: 7.391640619272521\n",
      "\u001b[34m\u001b[1mwandb\u001b[0m: \tparams.3.CellSVD.n_components: 793\n",
      "Failed to detect the name of this notebook, you can set it manually with the WANDB_NOTEBOOK_NAME environment variable to enable code saving.\n"
     ]
    },
    {
     "data": {
      "text/html": [
       "wandb version 0.19.8 is available!  To upgrade, please run:\n",
       " $ pip install wandb --upgrade"
      ],
      "text/plain": [
       "<IPython.core.display.HTML object>"
      ]
     },
     "metadata": {},
     "output_type": "display_data"
    },
    {
     "data": {
      "text/html": [
       "Tracking run with wandb version 0.16.3"
      ],
      "text/plain": [
       "<IPython.core.display.HTML object>"
      ]
     },
     "metadata": {},
     "output_type": "display_data"
    },
    {
     "data": {
      "text/html": [
       "Run data is saved locally in <code>/home/zyxing/dance/examples/tuning/custom-methods/wandb/run-20250317_210525-jabimnwx</code>"
      ],
      "text/plain": [
       "<IPython.core.display.HTML object>"
      ]
     },
     "metadata": {},
     "output_type": "display_data"
    },
    {
     "data": {
      "text/html": [
       "Syncing run <strong><a href='https://wandb.ai/xzy11632/dance-dev/runs/jabimnwx' target=\"_blank\">smart-sweep-2</a></strong> to <a href='https://wandb.ai/xzy11632/dance-dev' target=\"_blank\">Weights & Biases</a> (<a href='https://wandb.me/run' target=\"_blank\">docs</a>)<br/>Sweep page: <a href='https://wandb.ai/xzy11632/dance-dev/sweeps/ademwmvf' target=\"_blank\">https://wandb.ai/xzy11632/dance-dev/sweeps/ademwmvf</a>"
      ],
      "text/plain": [
       "<IPython.core.display.HTML object>"
      ]
     },
     "metadata": {},
     "output_type": "display_data"
    },
    {
     "data": {
      "text/html": [
       " View project at <a href='https://wandb.ai/xzy11632/dance-dev' target=\"_blank\">https://wandb.ai/xzy11632/dance-dev</a>"
      ],
      "text/plain": [
       "<IPython.core.display.HTML object>"
      ]
     },
     "metadata": {},
     "output_type": "display_data"
    },
    {
     "data": {
      "text/html": [
       " View sweep at <a href='https://wandb.ai/xzy11632/dance-dev/sweeps/ademwmvf' target=\"_blank\">https://wandb.ai/xzy11632/dance-dev/sweeps/ademwmvf</a>"
      ],
      "text/plain": [
       "<IPython.core.display.HTML object>"
      ]
     },
     "metadata": {},
     "output_type": "display_data"
    },
    {
     "data": {
      "text/html": [
       " View run at <a href='https://wandb.ai/xzy11632/dance-dev/runs/jabimnwx' target=\"_blank\">https://wandb.ai/xzy11632/dance-dev/runs/jabimnwx</a>"
      ],
      "text/plain": [
       "<IPython.core.display.HTML object>"
      ]
     },
     "metadata": {},
     "output_type": "display_data"
    },
    {
     "name": "stderr",
     "output_type": "stream",
     "text": [
      "[INFO][2025-03-17 21:05:41,606][dance][set_seed] Setting global random seed to 10\n",
      "[INFO][2025-03-17 21:05:41,609][dance][_load_dfs] Loading data from ../temp_data/train/human/human_Brain328_data.csv\n",
      "[INFO][2025-03-17 21:05:42,326][dance][_load_dfs] Loading data from ../temp_data/test/human/human_Brain138_data.csv\n",
      "[INFO][2025-03-17 21:05:42,648][dance][_load_dfs] Loading data from ../temp_data/train/human/human_Brain328_celltype.csv\n",
      "[INFO][2025-03-17 21:05:42,658][dance][_load_dfs] Loading data from ../temp_data/test/human/human_Brain138_celltype.csv\n",
      "/home/zyxing/anaconda3/envs/dance/lib/python3.11/site-packages/anndata/_core/anndata.py:430: FutureWarning: The dtype argument is deprecated and will be removed in late 2024.\n",
      "  warnings.warn(\n",
      "[INFO][2025-03-17 21:05:42,981][dance][_load_raw_data] Loaded expression data: AnnData object with n_obs × n_vars = 466 × 22088\n",
      "[INFO][2025-03-17 21:05:42,983][dance][_load_raw_data] Number of training samples: 262\n",
      "[INFO][2025-03-17 21:05:42,984][dance][_load_raw_data] Number of valid samples: 66\n",
      "[INFO][2025-03-17 21:05:42,985][dance][_load_raw_data] Number of testing samples: 138\n",
      "[INFO][2025-03-17 21:05:42,986][dance][_load_raw_data] Cell-types (n=9):\n",
      "['OPC',\n",
      " 'astrocytes',\n",
      " 'endothelial',\n",
      " 'fetal_quiescent',\n",
      " 'fetal_replicating',\n",
      " 'hybrid',\n",
      " 'microglia',\n",
      " 'neurons',\n",
      " 'oligodendrocytes']\n",
      "[INFO][2025-03-17 21:05:42,990][dance][load_data] Raw data loaded:\n",
      "Data object that wraps (.data):\n",
      "AnnData object with n_obs × n_vars = 466 × 22088\n",
      "    uns: 'dance_config'\n",
      "    obsm: 'cell_type'\n",
      "[INFO][2025-03-17 21:05:42,991][dance][wrapped_func] Took 0:00:01.383068 to load and process data.\n",
      "[INFO][2025-03-17 21:05:42,995][dance][_sanitize_params] Params plan:\n",
      "\u001b[92m[{'max_val': 98, 'min_val': 1, 'mode': 'var'},\n",
      " {'base': 7.391640619272521},\n",
      " None,\n",
      " {'n_components': 793},\n",
      " None]\u001b[0m\n",
      "[WARNING][2025-03-17 21:05:43,017][dance.FilterGenesPercentile][__call__] n_counts will be added to the var of data\n",
      "[WARNING][2025-03-17 21:05:43,025][dance.FilterGenesPercentile][__call__] n_cells will be added to the var of data\n",
      "[WARNING][2025-03-17 21:05:43,188][dance.CellSVD][__call__] n_components=793 must be between 0 and min(n_samples, n_features)=466 with svd_solver='full'\n",
      "[INFO][2025-03-17 21:06:56,727][dance.CellSVD][__call__] Generating cell SVD features (466, 21646) (k=466)\n",
      "[INFO][2025-03-17 21:06:56,734][dance.CellSVD][__call__] Top 10 explained variances: [0.09701207 0.03181387 0.02528181 0.01715348 0.01046506 0.00905687\n",
      " 0.0068036  0.00674922 0.00585023 0.00559793]\n",
      "[INFO][2025-03-17 21:06:56,736][dance.CellSVD][__call__] Total explained variance: 100.00%\n",
      "[INFO][2025-03-17 21:06:56,744][dance][set_config_from_dict] Setting config 'feature_channel' to 'feature.cell'\n",
      "[INFO][2025-03-17 21:06:56,746][dance][set_config_from_dict] Setting config 'label_channel' to 'cell_type'\n"
     ]
    },
    {
     "data": {
      "text/html": [
       "<style>\n",
       "    table.wandb td:nth-child(1) { padding: 0 10px; text-align: left ; width: auto;} td:nth-child(2) {text-align: left ; width: 100%}\n",
       "    .wandb-row { display: flex; flex-direction: row; flex-wrap: wrap; justify-content: flex-start; width: 100% }\n",
       "    .wandb-col { display: flex; flex-direction: column; flex-basis: 100%; flex: 1; padding: 10px; }\n",
       "    </style>\n",
       "<div class=\"wandb-row\"><div class=\"wandb-col\"><h3>Run history:</h3><br/><table class=\"wandb\"><tr><td>acc</td><td>▁</td></tr><tr><td>test_acc</td><td>▁</td></tr><tr><td>train_acc</td><td>▁</td></tr></table><br/></div><div class=\"wandb-col\"><h3>Run summary:</h3><br/><table class=\"wandb\"><tr><td>acc</td><td>0.74242</td></tr><tr><td>test_acc</td><td>0.71739</td></tr><tr><td>train_acc</td><td>0.96565</td></tr></table><br/></div></div>"
      ],
      "text/plain": [
       "<IPython.core.display.HTML object>"
      ]
     },
     "metadata": {},
     "output_type": "display_data"
    },
    {
     "data": {
      "text/html": [
       " View run <strong style=\"color:#cdcd00\">smart-sweep-2</strong> at: <a href='https://wandb.ai/xzy11632/dance-dev/runs/jabimnwx' target=\"_blank\">https://wandb.ai/xzy11632/dance-dev/runs/jabimnwx</a><br/>Synced 6 W&B file(s), 0 media file(s), 0 artifact file(s) and 0 other file(s)"
      ],
      "text/plain": [
       "<IPython.core.display.HTML object>"
      ]
     },
     "metadata": {},
     "output_type": "display_data"
    },
    {
     "data": {
      "text/html": [
       "Find logs at: <code>./wandb/run-20250317_210525-jabimnwx/logs</code>"
      ],
      "text/plain": [
       "<IPython.core.display.HTML object>"
      ]
     },
     "metadata": {},
     "output_type": "display_data"
    },
    {
     "name": "stderr",
     "output_type": "stream",
     "text": [
      "[INFO][2025-03-17 21:07:09,470][dance][wandb_sweep] \u001b[94m\n",
      "\n",
      "\t[*] Sweep ID: plec8rpj\n",
      "\u001b[0m\n",
      "[INFO][2025-03-17 21:07:09,471][dance][wandb_sweep_agent] Spawning agent: sweep_id='plec8rpj', entity='xzy11632', project='dance-dev', count=2\n"
     ]
    },
    {
     "name": "stdout",
     "output_type": "stream",
     "text": [
      "Create sweep with ID: plec8rpj\n",
      "Sweep URL: https://wandb.ai/xzy11632/dance-dev/sweeps/plec8rpj\n"
     ]
    },
    {
     "name": "stderr",
     "output_type": "stream",
     "text": [
      "\u001b[34m\u001b[1mwandb\u001b[0m: Agent Starting Run: n6p6gz1w with config:\n",
      "\u001b[34m\u001b[1mwandb\u001b[0m: \tparams.0.FilterGenesPercentile.max_val: 99\n",
      "\u001b[34m\u001b[1mwandb\u001b[0m: \tparams.0.FilterGenesPercentile.min_val: 5\n",
      "\u001b[34m\u001b[1mwandb\u001b[0m: \tparams.0.FilterGenesPercentile.mode: rv\n",
      "\u001b[34m\u001b[1mwandb\u001b[0m: \tparams.1.Log1P.base: 6.471279777242389\n",
      "\u001b[34m\u001b[1mwandb\u001b[0m: \tparams.3.CellPCA.n_components: 403\n",
      "Failed to detect the name of this notebook, you can set it manually with the WANDB_NOTEBOOK_NAME environment variable to enable code saving.\n"
     ]
    },
    {
     "data": {
      "text/html": [
       "wandb version 0.19.8 is available!  To upgrade, please run:\n",
       " $ pip install wandb --upgrade"
      ],
      "text/plain": [
       "<IPython.core.display.HTML object>"
      ]
     },
     "metadata": {},
     "output_type": "display_data"
    },
    {
     "data": {
      "text/html": [
       "Tracking run with wandb version 0.16.3"
      ],
      "text/plain": [
       "<IPython.core.display.HTML object>"
      ]
     },
     "metadata": {},
     "output_type": "display_data"
    },
    {
     "data": {
      "text/html": [
       "Run data is saved locally in <code>/home/zyxing/dance/examples/tuning/custom-methods/wandb/run-20250317_210713-n6p6gz1w</code>"
      ],
      "text/plain": [
       "<IPython.core.display.HTML object>"
      ]
     },
     "metadata": {},
     "output_type": "display_data"
    },
    {
     "data": {
      "text/html": [
       "Syncing run <strong><a href='https://wandb.ai/xzy11632/dance-dev/runs/n6p6gz1w' target=\"_blank\">cool-sweep-1</a></strong> to <a href='https://wandb.ai/xzy11632/dance-dev' target=\"_blank\">Weights & Biases</a> (<a href='https://wandb.me/run' target=\"_blank\">docs</a>)<br/>Sweep page: <a href='https://wandb.ai/xzy11632/dance-dev/sweeps/plec8rpj' target=\"_blank\">https://wandb.ai/xzy11632/dance-dev/sweeps/plec8rpj</a>"
      ],
      "text/plain": [
       "<IPython.core.display.HTML object>"
      ]
     },
     "metadata": {},
     "output_type": "display_data"
    },
    {
     "data": {
      "text/html": [
       " View project at <a href='https://wandb.ai/xzy11632/dance-dev' target=\"_blank\">https://wandb.ai/xzy11632/dance-dev</a>"
      ],
      "text/plain": [
       "<IPython.core.display.HTML object>"
      ]
     },
     "metadata": {},
     "output_type": "display_data"
    },
    {
     "data": {
      "text/html": [
       " View sweep at <a href='https://wandb.ai/xzy11632/dance-dev/sweeps/plec8rpj' target=\"_blank\">https://wandb.ai/xzy11632/dance-dev/sweeps/plec8rpj</a>"
      ],
      "text/plain": [
       "<IPython.core.display.HTML object>"
      ]
     },
     "metadata": {},
     "output_type": "display_data"
    },
    {
     "data": {
      "text/html": [
       " View run at <a href='https://wandb.ai/xzy11632/dance-dev/runs/n6p6gz1w' target=\"_blank\">https://wandb.ai/xzy11632/dance-dev/runs/n6p6gz1w</a>"
      ],
      "text/plain": [
       "<IPython.core.display.HTML object>"
      ]
     },
     "metadata": {},
     "output_type": "display_data"
    },
    {
     "name": "stderr",
     "output_type": "stream",
     "text": [
      "[INFO][2025-03-17 21:07:32,510][dance][set_seed] Setting global random seed to 10\n",
      "[INFO][2025-03-17 21:07:32,524][dance][_load_dfs] Loading data from ../temp_data/train/human/human_Brain328_data.csv\n",
      "[INFO][2025-03-17 21:07:33,061][dance][_load_dfs] Loading data from ../temp_data/test/human/human_Brain138_data.csv\n",
      "[INFO][2025-03-17 21:07:33,343][dance][_load_dfs] Loading data from ../temp_data/train/human/human_Brain328_celltype.csv\n",
      "[INFO][2025-03-17 21:07:33,352][dance][_load_dfs] Loading data from ../temp_data/test/human/human_Brain138_celltype.csv\n",
      "/home/zyxing/anaconda3/envs/dance/lib/python3.11/site-packages/anndata/_core/anndata.py:430: FutureWarning: The dtype argument is deprecated and will be removed in late 2024.\n",
      "  warnings.warn(\n",
      "[INFO][2025-03-17 21:07:33,703][dance][_load_raw_data] Loaded expression data: AnnData object with n_obs × n_vars = 466 × 22088\n",
      "[INFO][2025-03-17 21:07:33,710][dance][_load_raw_data] Number of training samples: 262\n",
      "[INFO][2025-03-17 21:07:33,713][dance][_load_raw_data] Number of valid samples: 66\n",
      "[INFO][2025-03-17 21:07:33,716][dance][_load_raw_data] Number of testing samples: 138\n",
      "[INFO][2025-03-17 21:07:33,720][dance][_load_raw_data] Cell-types (n=9):\n",
      "['OPC',\n",
      " 'astrocytes',\n",
      " 'endothelial',\n",
      " 'fetal_quiescent',\n",
      " 'fetal_replicating',\n",
      " 'hybrid',\n",
      " 'microglia',\n",
      " 'neurons',\n",
      " 'oligodendrocytes']\n",
      "[INFO][2025-03-17 21:07:33,725][dance][load_data] Raw data loaded:\n",
      "Data object that wraps (.data):\n",
      "AnnData object with n_obs × n_vars = 466 × 22088\n",
      "    uns: 'dance_config'\n",
      "    obsm: 'cell_type'\n",
      "[INFO][2025-03-17 21:07:33,730][dance][wrapped_func] Took 0:00:01.206940 to load and process data.\n",
      "[INFO][2025-03-17 21:07:33,741][dance][_sanitize_params] Params plan:\n",
      "\u001b[92m[{'max_val': 99, 'min_val': 5, 'mode': 'rv'},\n",
      " {'base': 6.471279777242389},\n",
      " None,\n",
      " {'n_components': 403},\n",
      " None]\u001b[0m\n",
      "[WARNING][2025-03-17 21:07:33,754][dance.FilterGenesPercentile][__call__] n_counts will be added to the var of data\n",
      "[WARNING][2025-03-17 21:07:33,762][dance.FilterGenesPercentile][__call__] n_cells will be added to the var of data\n",
      "/home/zyxing/dance/dance/transforms/filter.py:484: RuntimeWarning: invalid value encountered in divide\n",
      "  gene_summary = np.nan_to_num(np.array(x.var(0) / x.mean(0)), posinf=0, neginf=0).ravel()\n",
      "[INFO][2025-03-17 21:07:53,020][dance.CellPCA][__call__] Generating cell PCA features (466, 20993) (k=403)\n",
      "[INFO][2025-03-17 21:07:53,024][dance.CellPCA][__call__] Top 10 explained variances: [0.11490636 0.03396809 0.0196853  0.01812711 0.01042063 0.00856957\n",
      " 0.00677457 0.00609458 0.00565793 0.00515131]\n",
      "[INFO][2025-03-17 21:07:53,025][dance.CellPCA][__call__] Total explained variance: 94.65%\n",
      "[INFO][2025-03-17 21:07:53,030][dance][set_config_from_dict] Setting config 'feature_channel' to 'feature.cell'\n",
      "[INFO][2025-03-17 21:07:53,033][dance][set_config_from_dict] Setting config 'label_channel' to 'cell_type'\n"
     ]
    },
    {
     "data": {
      "text/html": [
       "<style>\n",
       "    table.wandb td:nth-child(1) { padding: 0 10px; text-align: left ; width: auto;} td:nth-child(2) {text-align: left ; width: 100%}\n",
       "    .wandb-row { display: flex; flex-direction: row; flex-wrap: wrap; justify-content: flex-start; width: 100% }\n",
       "    .wandb-col { display: flex; flex-direction: column; flex-basis: 100%; flex: 1; padding: 10px; }\n",
       "    </style>\n",
       "<div class=\"wandb-row\"><div class=\"wandb-col\"><h3>Run history:</h3><br/><table class=\"wandb\"><tr><td>acc</td><td>▁</td></tr><tr><td>test_acc</td><td>▁</td></tr><tr><td>train_acc</td><td>▁</td></tr></table><br/></div><div class=\"wandb-col\"><h3>Run summary:</h3><br/><table class=\"wandb\"><tr><td>acc</td><td>0.75758</td></tr><tr><td>test_acc</td><td>0.66667</td></tr><tr><td>train_acc</td><td>0.98473</td></tr></table><br/></div></div>"
      ],
      "text/plain": [
       "<IPython.core.display.HTML object>"
      ]
     },
     "metadata": {},
     "output_type": "display_data"
    },
    {
     "data": {
      "text/html": [
       " View run <strong style=\"color:#cdcd00\">cool-sweep-1</strong> at: <a href='https://wandb.ai/xzy11632/dance-dev/runs/n6p6gz1w' target=\"_blank\">https://wandb.ai/xzy11632/dance-dev/runs/n6p6gz1w</a><br/>Synced 6 W&B file(s), 0 media file(s), 0 artifact file(s) and 0 other file(s)"
      ],
      "text/plain": [
       "<IPython.core.display.HTML object>"
      ]
     },
     "metadata": {},
     "output_type": "display_data"
    },
    {
     "data": {
      "text/html": [
       "Find logs at: <code>./wandb/run-20250317_210713-n6p6gz1w/logs</code>"
      ],
      "text/plain": [
       "<IPython.core.display.HTML object>"
      ]
     },
     "metadata": {},
     "output_type": "display_data"
    },
    {
     "name": "stderr",
     "output_type": "stream",
     "text": [
      "\u001b[34m\u001b[1mwandb\u001b[0m: Sweep Agent: Waiting for job.\n",
      "\u001b[34m\u001b[1mwandb\u001b[0m: Job received.\n",
      "\u001b[34m\u001b[1mwandb\u001b[0m: Agent Starting Run: 5m0mns4m with config:\n",
      "\u001b[34m\u001b[1mwandb\u001b[0m: \tparams.0.FilterGenesPercentile.max_val: 95\n",
      "\u001b[34m\u001b[1mwandb\u001b[0m: \tparams.0.FilterGenesPercentile.min_val: 8\n",
      "\u001b[34m\u001b[1mwandb\u001b[0m: \tparams.0.FilterGenesPercentile.mode: sum\n",
      "\u001b[34m\u001b[1mwandb\u001b[0m: \tparams.1.Log1P.base: 5.006953206617199\n",
      "\u001b[34m\u001b[1mwandb\u001b[0m: \tparams.3.CellPCA.n_components: 481\n",
      "Failed to detect the name of this notebook, you can set it manually with the WANDB_NOTEBOOK_NAME environment variable to enable code saving.\n"
     ]
    },
    {
     "data": {
      "text/html": [
       "wandb version 0.19.8 is available!  To upgrade, please run:\n",
       " $ pip install wandb --upgrade"
      ],
      "text/plain": [
       "<IPython.core.display.HTML object>"
      ]
     },
     "metadata": {},
     "output_type": "display_data"
    },
    {
     "data": {
      "text/html": [
       "Tracking run with wandb version 0.16.3"
      ],
      "text/plain": [
       "<IPython.core.display.HTML object>"
      ]
     },
     "metadata": {},
     "output_type": "display_data"
    },
    {
     "data": {
      "text/html": [
       "Run data is saved locally in <code>/home/zyxing/dance/examples/tuning/custom-methods/wandb/run-20250317_210812-5m0mns4m</code>"
      ],
      "text/plain": [
       "<IPython.core.display.HTML object>"
      ]
     },
     "metadata": {},
     "output_type": "display_data"
    },
    {
     "data": {
      "text/html": [
       "Syncing run <strong><a href='https://wandb.ai/xzy11632/dance-dev/runs/5m0mns4m' target=\"_blank\">dainty-sweep-2</a></strong> to <a href='https://wandb.ai/xzy11632/dance-dev' target=\"_blank\">Weights & Biases</a> (<a href='https://wandb.me/run' target=\"_blank\">docs</a>)<br/>Sweep page: <a href='https://wandb.ai/xzy11632/dance-dev/sweeps/plec8rpj' target=\"_blank\">https://wandb.ai/xzy11632/dance-dev/sweeps/plec8rpj</a>"
      ],
      "text/plain": [
       "<IPython.core.display.HTML object>"
      ]
     },
     "metadata": {},
     "output_type": "display_data"
    },
    {
     "data": {
      "text/html": [
       " View project at <a href='https://wandb.ai/xzy11632/dance-dev' target=\"_blank\">https://wandb.ai/xzy11632/dance-dev</a>"
      ],
      "text/plain": [
       "<IPython.core.display.HTML object>"
      ]
     },
     "metadata": {},
     "output_type": "display_data"
    },
    {
     "data": {
      "text/html": [
       " View sweep at <a href='https://wandb.ai/xzy11632/dance-dev/sweeps/plec8rpj' target=\"_blank\">https://wandb.ai/xzy11632/dance-dev/sweeps/plec8rpj</a>"
      ],
      "text/plain": [
       "<IPython.core.display.HTML object>"
      ]
     },
     "metadata": {},
     "output_type": "display_data"
    },
    {
     "data": {
      "text/html": [
       " View run at <a href='https://wandb.ai/xzy11632/dance-dev/runs/5m0mns4m' target=\"_blank\">https://wandb.ai/xzy11632/dance-dev/runs/5m0mns4m</a>"
      ],
      "text/plain": [
       "<IPython.core.display.HTML object>"
      ]
     },
     "metadata": {},
     "output_type": "display_data"
    },
    {
     "name": "stderr",
     "output_type": "stream",
     "text": [
      "[INFO][2025-03-17 21:08:25,030][dance][set_seed] Setting global random seed to 10\n",
      "[INFO][2025-03-17 21:08:25,039][dance][_load_dfs] Loading data from ../temp_data/train/human/human_Brain328_data.csv\n",
      "[INFO][2025-03-17 21:08:25,650][dance][_load_dfs] Loading data from ../temp_data/test/human/human_Brain138_data.csv\n",
      "[INFO][2025-03-17 21:08:25,859][dance][_load_dfs] Loading data from ../temp_data/train/human/human_Brain328_celltype.csv\n",
      "[INFO][2025-03-17 21:08:25,863][dance][_load_dfs] Loading data from ../temp_data/test/human/human_Brain138_celltype.csv\n",
      "/home/zyxing/anaconda3/envs/dance/lib/python3.11/site-packages/anndata/_core/anndata.py:430: FutureWarning: The dtype argument is deprecated and will be removed in late 2024.\n",
      "  warnings.warn(\n",
      "[INFO][2025-03-17 21:08:26,361][dance][_load_raw_data] Loaded expression data: AnnData object with n_obs × n_vars = 466 × 22088\n",
      "[INFO][2025-03-17 21:08:26,362][dance][_load_raw_data] Number of training samples: 262\n",
      "[INFO][2025-03-17 21:08:26,363][dance][_load_raw_data] Number of valid samples: 66\n",
      "[INFO][2025-03-17 21:08:26,364][dance][_load_raw_data] Number of testing samples: 138\n",
      "[INFO][2025-03-17 21:08:26,365][dance][_load_raw_data] Cell-types (n=9):\n",
      "['OPC',\n",
      " 'astrocytes',\n",
      " 'endothelial',\n",
      " 'fetal_quiescent',\n",
      " 'fetal_replicating',\n",
      " 'hybrid',\n",
      " 'microglia',\n",
      " 'neurons',\n",
      " 'oligodendrocytes']\n",
      "[INFO][2025-03-17 21:08:26,368][dance][load_data] Raw data loaded:\n",
      "Data object that wraps (.data):\n",
      "AnnData object with n_obs × n_vars = 466 × 22088\n",
      "    uns: 'dance_config'\n",
      "    obsm: 'cell_type'\n",
      "[INFO][2025-03-17 21:08:26,369][dance][wrapped_func] Took 0:00:01.330753 to load and process data.\n",
      "[INFO][2025-03-17 21:08:26,371][dance][_sanitize_params] Params plan:\n",
      "\u001b[92m[{'max_val': 95, 'min_val': 8, 'mode': 'sum'},\n",
      " {'base': 5.006953206617199},\n",
      " None,\n",
      " {'n_components': 481},\n",
      " None]\u001b[0m\n",
      "[WARNING][2025-03-17 21:08:26,379][dance.FilterGenesPercentile][__call__] n_counts will be added to the var of data\n",
      "[WARNING][2025-03-17 21:08:26,387][dance.FilterGenesPercentile][__call__] n_cells will be added to the var of data\n",
      "[WARNING][2025-03-17 21:08:26,489][dance.CellPCA][__call__] n_components=481 must be between 0 and min(n_samples, n_features)=466 with svd_solver='full'\n",
      "[INFO][2025-03-17 21:08:35,099][dance.CellPCA][__call__] Generating cell PCA features (466, 19748) (k=466)\n",
      "[INFO][2025-03-17 21:08:35,101][dance.CellPCA][__call__] Top 10 explained variances: [0.10177083 0.03016299 0.01645755 0.01588438 0.00938027 0.008497\n",
      " 0.00674654 0.00586688 0.00575898 0.0053378 ]\n",
      "[INFO][2025-03-17 21:08:35,102][dance.CellPCA][__call__] Total explained variance: 100.00%\n",
      "[INFO][2025-03-17 21:08:35,104][dance][set_config_from_dict] Setting config 'feature_channel' to 'feature.cell'\n",
      "[INFO][2025-03-17 21:08:35,104][dance][set_config_from_dict] Setting config 'label_channel' to 'cell_type'\n"
     ]
    },
    {
     "data": {
      "text/html": [
       "<style>\n",
       "    table.wandb td:nth-child(1) { padding: 0 10px; text-align: left ; width: auto;} td:nth-child(2) {text-align: left ; width: 100%}\n",
       "    .wandb-row { display: flex; flex-direction: row; flex-wrap: wrap; justify-content: flex-start; width: 100% }\n",
       "    .wandb-col { display: flex; flex-direction: column; flex-basis: 100%; flex: 1; padding: 10px; }\n",
       "    </style>\n",
       "<div class=\"wandb-row\"><div class=\"wandb-col\"><h3>Run history:</h3><br/><table class=\"wandb\"><tr><td>acc</td><td>▁</td></tr><tr><td>test_acc</td><td>▁</td></tr><tr><td>train_acc</td><td>▁</td></tr></table><br/></div><div class=\"wandb-col\"><h3>Run summary:</h3><br/><table class=\"wandb\"><tr><td>acc</td><td>0.74242</td></tr><tr><td>test_acc</td><td>0.61594</td></tr><tr><td>train_acc</td><td>0.98855</td></tr></table><br/></div></div>"
      ],
      "text/plain": [
       "<IPython.core.display.HTML object>"
      ]
     },
     "metadata": {},
     "output_type": "display_data"
    },
    {
     "data": {
      "text/html": [
       " View run <strong style=\"color:#cdcd00\">dainty-sweep-2</strong> at: <a href='https://wandb.ai/xzy11632/dance-dev/runs/5m0mns4m' target=\"_blank\">https://wandb.ai/xzy11632/dance-dev/runs/5m0mns4m</a><br/>Synced 6 W&B file(s), 0 media file(s), 0 artifact file(s) and 0 other file(s)"
      ],
      "text/plain": [
       "<IPython.core.display.HTML object>"
      ]
     },
     "metadata": {},
     "output_type": "display_data"
    },
    {
     "data": {
      "text/html": [
       "Find logs at: <code>./wandb/run-20250317_210812-5m0mns4m/logs</code>"
      ],
      "text/plain": [
       "<IPython.core.display.HTML object>"
      ]
     },
     "metadata": {},
     "output_type": "display_data"
    },
    {
     "name": "stderr",
     "output_type": "stream",
     "text": [
      "[INFO][2025-03-17 21:08:46,719][dance][wandb_sweep] \u001b[94m\n",
      "\n",
      "\t[*] Sweep ID: 9xgapd2h\n",
      "\u001b[0m\n",
      "[INFO][2025-03-17 21:08:46,720][dance][wandb_sweep_agent] Spawning agent: sweep_id='9xgapd2h', entity='xzy11632', project='dance-dev', count=2\n"
     ]
    },
    {
     "name": "stdout",
     "output_type": "stream",
     "text": [
      "Create sweep with ID: 9xgapd2h\n",
      "Sweep URL: https://wandb.ai/xzy11632/dance-dev/sweeps/9xgapd2h\n"
     ]
    },
    {
     "name": "stderr",
     "output_type": "stream",
     "text": [
      "\u001b[34m\u001b[1mwandb\u001b[0m: Agent Starting Run: 8js1gufr with config:\n",
      "\u001b[34m\u001b[1mwandb\u001b[0m: \tparams.1.Log1P.base: 3.465082573147817\n",
      "\u001b[34m\u001b[1mwandb\u001b[0m: \tparams.2.HighlyVariableGenesRawCount.n_top_genes: 6044\n",
      "\u001b[34m\u001b[1mwandb\u001b[0m: \tparams.2.HighlyVariableGenesRawCount.span: 0.43474090294821666\n",
      "\u001b[34m\u001b[1mwandb\u001b[0m: \tparams.3.CellSVD.n_components: 0.8102359590111601\n",
      "Failed to detect the name of this notebook, you can set it manually with the WANDB_NOTEBOOK_NAME environment variable to enable code saving.\n"
     ]
    },
    {
     "data": {
      "text/html": [
       "wandb version 0.19.8 is available!  To upgrade, please run:\n",
       " $ pip install wandb --upgrade"
      ],
      "text/plain": [
       "<IPython.core.display.HTML object>"
      ]
     },
     "metadata": {},
     "output_type": "display_data"
    },
    {
     "data": {
      "text/html": [
       "Tracking run with wandb version 0.16.3"
      ],
      "text/plain": [
       "<IPython.core.display.HTML object>"
      ]
     },
     "metadata": {},
     "output_type": "display_data"
    },
    {
     "data": {
      "text/html": [
       "Run data is saved locally in <code>/home/zyxing/dance/examples/tuning/custom-methods/wandb/run-20250317_210850-8js1gufr</code>"
      ],
      "text/plain": [
       "<IPython.core.display.HTML object>"
      ]
     },
     "metadata": {},
     "output_type": "display_data"
    },
    {
     "data": {
      "text/html": [
       "Syncing run <strong><a href='https://wandb.ai/xzy11632/dance-dev/runs/8js1gufr' target=\"_blank\">likely-sweep-1</a></strong> to <a href='https://wandb.ai/xzy11632/dance-dev' target=\"_blank\">Weights & Biases</a> (<a href='https://wandb.me/run' target=\"_blank\">docs</a>)<br/>Sweep page: <a href='https://wandb.ai/xzy11632/dance-dev/sweeps/9xgapd2h' target=\"_blank\">https://wandb.ai/xzy11632/dance-dev/sweeps/9xgapd2h</a>"
      ],
      "text/plain": [
       "<IPython.core.display.HTML object>"
      ]
     },
     "metadata": {},
     "output_type": "display_data"
    },
    {
     "data": {
      "text/html": [
       " View project at <a href='https://wandb.ai/xzy11632/dance-dev' target=\"_blank\">https://wandb.ai/xzy11632/dance-dev</a>"
      ],
      "text/plain": [
       "<IPython.core.display.HTML object>"
      ]
     },
     "metadata": {},
     "output_type": "display_data"
    },
    {
     "data": {
      "text/html": [
       " View sweep at <a href='https://wandb.ai/xzy11632/dance-dev/sweeps/9xgapd2h' target=\"_blank\">https://wandb.ai/xzy11632/dance-dev/sweeps/9xgapd2h</a>"
      ],
      "text/plain": [
       "<IPython.core.display.HTML object>"
      ]
     },
     "metadata": {},
     "output_type": "display_data"
    },
    {
     "data": {
      "text/html": [
       " View run at <a href='https://wandb.ai/xzy11632/dance-dev/runs/8js1gufr' target=\"_blank\">https://wandb.ai/xzy11632/dance-dev/runs/8js1gufr</a>"
      ],
      "text/plain": [
       "<IPython.core.display.HTML object>"
      ]
     },
     "metadata": {},
     "output_type": "display_data"
    },
    {
     "name": "stderr",
     "output_type": "stream",
     "text": [
      "[INFO][2025-03-17 21:09:02,643][dance][set_seed] Setting global random seed to 10\n",
      "[INFO][2025-03-17 21:09:02,647][dance][_load_dfs] Loading data from ../temp_data/train/human/human_Brain328_data.csv\n",
      "[INFO][2025-03-17 21:09:03,001][dance][_load_dfs] Loading data from ../temp_data/test/human/human_Brain138_data.csv\n",
      "[INFO][2025-03-17 21:09:03,147][dance][_load_dfs] Loading data from ../temp_data/train/human/human_Brain328_celltype.csv\n",
      "[INFO][2025-03-17 21:09:03,154][dance][_load_dfs] Loading data from ../temp_data/test/human/human_Brain138_celltype.csv\n",
      "/home/zyxing/anaconda3/envs/dance/lib/python3.11/site-packages/anndata/_core/anndata.py:430: FutureWarning: The dtype argument is deprecated and will be removed in late 2024.\n",
      "  warnings.warn(\n",
      "[INFO][2025-03-17 21:09:03,346][dance][_load_raw_data] Loaded expression data: AnnData object with n_obs × n_vars = 466 × 22088\n",
      "[INFO][2025-03-17 21:09:03,347][dance][_load_raw_data] Number of training samples: 262\n",
      "[INFO][2025-03-17 21:09:03,348][dance][_load_raw_data] Number of valid samples: 66\n",
      "[INFO][2025-03-17 21:09:03,348][dance][_load_raw_data] Number of testing samples: 138\n",
      "[INFO][2025-03-17 21:09:03,349][dance][_load_raw_data] Cell-types (n=9):\n",
      "['OPC',\n",
      " 'astrocytes',\n",
      " 'endothelial',\n",
      " 'fetal_quiescent',\n",
      " 'fetal_replicating',\n",
      " 'hybrid',\n",
      " 'microglia',\n",
      " 'neurons',\n",
      " 'oligodendrocytes']\n",
      "[INFO][2025-03-17 21:09:03,351][dance][load_data] Raw data loaded:\n",
      "Data object that wraps (.data):\n",
      "AnnData object with n_obs × n_vars = 466 × 22088\n",
      "    uns: 'dance_config'\n",
      "    obsm: 'cell_type'\n",
      "[INFO][2025-03-17 21:09:03,352][dance][wrapped_func] Took 0:00:00.705912 to load and process data.\n",
      "[INFO][2025-03-17 21:09:03,354][dance][_sanitize_params] Params plan:\n",
      "\u001b[92m[None,\n",
      " {'base': 3.465082573147817},\n",
      " {'n_top_genes': 6044, 'span': 0.43474090294821666},\n",
      " {'n_components': 0.8102359590111601},\n",
      " None]\u001b[0m\n",
      "[WARNING][2025-03-17 21:09:03,382][dance.FilterGenesPlaceHolder][__call__] n_counts will be added to the var of data\n",
      "[WARNING][2025-03-17 21:09:03,384][dance.FilterGenesPlaceHolder][__call__] n_cells will be added to the var of data\n",
      "/home/zyxing/anaconda3/envs/dance/lib/python3.11/site-packages/scanpy/preprocessing/_highly_variable_genes.py:74: UserWarning: `flavor='seurat_v3'` expects raw count data, but non-integers were found.\n",
      "  warnings.warn(\n",
      "[INFO][2025-03-17 21:09:16,813][dance][set_config_from_dict] Setting config 'feature_channel' to 'feature.cell'\n",
      "[INFO][2025-03-17 21:09:16,814][dance][set_config_from_dict] Setting config 'label_channel' to 'cell_type'\n"
     ]
    },
    {
     "data": {
      "text/html": [
       "<style>\n",
       "    table.wandb td:nth-child(1) { padding: 0 10px; text-align: left ; width: auto;} td:nth-child(2) {text-align: left ; width: 100%}\n",
       "    .wandb-row { display: flex; flex-direction: row; flex-wrap: wrap; justify-content: flex-start; width: 100% }\n",
       "    .wandb-col { display: flex; flex-direction: column; flex-basis: 100%; flex: 1; padding: 10px; }\n",
       "    </style>\n",
       "<div class=\"wandb-row\"><div class=\"wandb-col\"><h3>Run history:</h3><br/><table class=\"wandb\"><tr><td>acc</td><td>▁</td></tr><tr><td>test_acc</td><td>▁</td></tr><tr><td>train_acc</td><td>▁</td></tr></table><br/></div><div class=\"wandb-col\"><h3>Run summary:</h3><br/><table class=\"wandb\"><tr><td>acc</td><td>0.81818</td></tr><tr><td>test_acc</td><td>0.78986</td></tr><tr><td>train_acc</td><td>0.94656</td></tr></table><br/></div></div>"
      ],
      "text/plain": [
       "<IPython.core.display.HTML object>"
      ]
     },
     "metadata": {},
     "output_type": "display_data"
    },
    {
     "data": {
      "text/html": [
       " View run <strong style=\"color:#cdcd00\">likely-sweep-1</strong> at: <a href='https://wandb.ai/xzy11632/dance-dev/runs/8js1gufr' target=\"_blank\">https://wandb.ai/xzy11632/dance-dev/runs/8js1gufr</a><br/>Synced 6 W&B file(s), 0 media file(s), 0 artifact file(s) and 0 other file(s)"
      ],
      "text/plain": [
       "<IPython.core.display.HTML object>"
      ]
     },
     "metadata": {},
     "output_type": "display_data"
    },
    {
     "data": {
      "text/html": [
       "Find logs at: <code>./wandb/run-20250317_210850-8js1gufr/logs</code>"
      ],
      "text/plain": [
       "<IPython.core.display.HTML object>"
      ]
     },
     "metadata": {},
     "output_type": "display_data"
    },
    {
     "name": "stderr",
     "output_type": "stream",
     "text": [
      "\u001b[34m\u001b[1mwandb\u001b[0m: Agent Starting Run: gxnxq9sv with config:\n",
      "\u001b[34m\u001b[1mwandb\u001b[0m: \tparams.1.Log1P.base: 6.211063043443259\n",
      "\u001b[34m\u001b[1mwandb\u001b[0m: \tparams.2.HighlyVariableGenesRawCount.n_top_genes: 5649\n",
      "\u001b[34m\u001b[1mwandb\u001b[0m: \tparams.2.HighlyVariableGenesRawCount.span: 0.5029128130548325\n",
      "\u001b[34m\u001b[1mwandb\u001b[0m: \tparams.3.CellSVD.n_components: 0.9298952108695964\n",
      "Failed to detect the name of this notebook, you can set it manually with the WANDB_NOTEBOOK_NAME environment variable to enable code saving.\n"
     ]
    },
    {
     "data": {
      "text/html": [
       "wandb version 0.19.8 is available!  To upgrade, please run:\n",
       " $ pip install wandb --upgrade"
      ],
      "text/plain": [
       "<IPython.core.display.HTML object>"
      ]
     },
     "metadata": {},
     "output_type": "display_data"
    },
    {
     "data": {
      "text/html": [
       "Tracking run with wandb version 0.16.3"
      ],
      "text/plain": [
       "<IPython.core.display.HTML object>"
      ]
     },
     "metadata": {},
     "output_type": "display_data"
    },
    {
     "data": {
      "text/html": [
       "Run data is saved locally in <code>/home/zyxing/dance/examples/tuning/custom-methods/wandb/run-20250317_210929-gxnxq9sv</code>"
      ],
      "text/plain": [
       "<IPython.core.display.HTML object>"
      ]
     },
     "metadata": {},
     "output_type": "display_data"
    },
    {
     "data": {
      "text/html": [
       "Syncing run <strong><a href='https://wandb.ai/xzy11632/dance-dev/runs/gxnxq9sv' target=\"_blank\">peach-sweep-2</a></strong> to <a href='https://wandb.ai/xzy11632/dance-dev' target=\"_blank\">Weights & Biases</a> (<a href='https://wandb.me/run' target=\"_blank\">docs</a>)<br/>Sweep page: <a href='https://wandb.ai/xzy11632/dance-dev/sweeps/9xgapd2h' target=\"_blank\">https://wandb.ai/xzy11632/dance-dev/sweeps/9xgapd2h</a>"
      ],
      "text/plain": [
       "<IPython.core.display.HTML object>"
      ]
     },
     "metadata": {},
     "output_type": "display_data"
    },
    {
     "data": {
      "text/html": [
       " View project at <a href='https://wandb.ai/xzy11632/dance-dev' target=\"_blank\">https://wandb.ai/xzy11632/dance-dev</a>"
      ],
      "text/plain": [
       "<IPython.core.display.HTML object>"
      ]
     },
     "metadata": {},
     "output_type": "display_data"
    },
    {
     "data": {
      "text/html": [
       " View sweep at <a href='https://wandb.ai/xzy11632/dance-dev/sweeps/9xgapd2h' target=\"_blank\">https://wandb.ai/xzy11632/dance-dev/sweeps/9xgapd2h</a>"
      ],
      "text/plain": [
       "<IPython.core.display.HTML object>"
      ]
     },
     "metadata": {},
     "output_type": "display_data"
    },
    {
     "data": {
      "text/html": [
       " View run at <a href='https://wandb.ai/xzy11632/dance-dev/runs/gxnxq9sv' target=\"_blank\">https://wandb.ai/xzy11632/dance-dev/runs/gxnxq9sv</a>"
      ],
      "text/plain": [
       "<IPython.core.display.HTML object>"
      ]
     },
     "metadata": {},
     "output_type": "display_data"
    },
    {
     "name": "stderr",
     "output_type": "stream",
     "text": [
      "[INFO][2025-03-17 21:09:41,492][dance][set_seed] Setting global random seed to 10\n",
      "[INFO][2025-03-17 21:09:41,496][dance][_load_dfs] Loading data from ../temp_data/train/human/human_Brain328_data.csv\n",
      "[INFO][2025-03-17 21:09:41,919][dance][_load_dfs] Loading data from ../temp_data/test/human/human_Brain138_data.csv\n",
      "[INFO][2025-03-17 21:09:42,109][dance][_load_dfs] Loading data from ../temp_data/train/human/human_Brain328_celltype.csv\n",
      "[INFO][2025-03-17 21:09:42,114][dance][_load_dfs] Loading data from ../temp_data/test/human/human_Brain138_celltype.csv\n",
      "/home/zyxing/anaconda3/envs/dance/lib/python3.11/site-packages/anndata/_core/anndata.py:430: FutureWarning: The dtype argument is deprecated and will be removed in late 2024.\n",
      "  warnings.warn(\n",
      "[INFO][2025-03-17 21:09:42,307][dance][_load_raw_data] Loaded expression data: AnnData object with n_obs × n_vars = 466 × 22088\n",
      "[INFO][2025-03-17 21:09:42,309][dance][_load_raw_data] Number of training samples: 262\n",
      "[INFO][2025-03-17 21:09:42,309][dance][_load_raw_data] Number of valid samples: 66\n",
      "[INFO][2025-03-17 21:09:42,310][dance][_load_raw_data] Number of testing samples: 138\n",
      "[INFO][2025-03-17 21:09:42,310][dance][_load_raw_data] Cell-types (n=9):\n",
      "['OPC',\n",
      " 'astrocytes',\n",
      " 'endothelial',\n",
      " 'fetal_quiescent',\n",
      " 'fetal_replicating',\n",
      " 'hybrid',\n",
      " 'microglia',\n",
      " 'neurons',\n",
      " 'oligodendrocytes']\n",
      "[INFO][2025-03-17 21:09:42,312][dance][load_data] Raw data loaded:\n",
      "Data object that wraps (.data):\n",
      "AnnData object with n_obs × n_vars = 466 × 22088\n",
      "    uns: 'dance_config'\n",
      "    obsm: 'cell_type'\n",
      "[INFO][2025-03-17 21:09:42,313][dance][wrapped_func] Took 0:00:00.817244 to load and process data.\n",
      "[INFO][2025-03-17 21:09:42,314][dance][_sanitize_params] Params plan:\n",
      "\u001b[92m[None,\n",
      " {'base': 6.211063043443259},\n",
      " {'n_top_genes': 5649, 'span': 0.5029128130548325},\n",
      " {'n_components': 0.9298952108695964},\n",
      " None]\u001b[0m\n",
      "[WARNING][2025-03-17 21:09:42,339][dance.FilterGenesPlaceHolder][__call__] n_counts will be added to the var of data\n",
      "[WARNING][2025-03-17 21:09:42,341][dance.FilterGenesPlaceHolder][__call__] n_cells will be added to the var of data\n",
      "/home/zyxing/anaconda3/envs/dance/lib/python3.11/site-packages/scanpy/preprocessing/_highly_variable_genes.py:74: UserWarning: `flavor='seurat_v3'` expects raw count data, but non-integers were found.\n",
      "  warnings.warn(\n",
      "[INFO][2025-03-17 21:10:01,203][dance][set_config_from_dict] Setting config 'feature_channel' to 'feature.cell'\n",
      "[INFO][2025-03-17 21:10:01,208][dance][set_config_from_dict] Setting config 'label_channel' to 'cell_type'\n"
     ]
    },
    {
     "data": {
      "text/html": [
       "<style>\n",
       "    table.wandb td:nth-child(1) { padding: 0 10px; text-align: left ; width: auto;} td:nth-child(2) {text-align: left ; width: 100%}\n",
       "    .wandb-row { display: flex; flex-direction: row; flex-wrap: wrap; justify-content: flex-start; width: 100% }\n",
       "    .wandb-col { display: flex; flex-direction: column; flex-basis: 100%; flex: 1; padding: 10px; }\n",
       "    </style>\n",
       "<div class=\"wandb-row\"><div class=\"wandb-col\"><h3>Run history:</h3><br/><table class=\"wandb\"><tr><td>acc</td><td>▁</td></tr><tr><td>test_acc</td><td>▁</td></tr><tr><td>train_acc</td><td>▁</td></tr></table><br/></div><div class=\"wandb-col\"><h3>Run summary:</h3><br/><table class=\"wandb\"><tr><td>acc</td><td>0.80303</td></tr><tr><td>test_acc</td><td>0.78261</td></tr><tr><td>train_acc</td><td>0.95038</td></tr></table><br/></div></div>"
      ],
      "text/plain": [
       "<IPython.core.display.HTML object>"
      ]
     },
     "metadata": {},
     "output_type": "display_data"
    },
    {
     "data": {
      "text/html": [
       " View run <strong style=\"color:#cdcd00\">peach-sweep-2</strong> at: <a href='https://wandb.ai/xzy11632/dance-dev/runs/gxnxq9sv' target=\"_blank\">https://wandb.ai/xzy11632/dance-dev/runs/gxnxq9sv</a><br/>Synced 6 W&B file(s), 0 media file(s), 0 artifact file(s) and 0 other file(s)"
      ],
      "text/plain": [
       "<IPython.core.display.HTML object>"
      ]
     },
     "metadata": {},
     "output_type": "display_data"
    },
    {
     "data": {
      "text/html": [
       "Find logs at: <code>./wandb/run-20250317_210929-gxnxq9sv/logs</code>"
      ],
      "text/plain": [
       "<IPython.core.display.HTML object>"
      ]
     },
     "metadata": {},
     "output_type": "display_data"
    }
   ],
   "source": [
    "# Example main.py\n",
    "\n",
    "import argparse\n",
    "import gc\n",
    "import os\n",
    "import pprint\n",
    "import random\n",
    "import sys\n",
    "from pathlib import Path\n",
    "from typing import get_args\n",
    "\n",
    "from dance.registry import register_preprocessor\n",
    "from dance.transforms.base import BaseTransform\n",
    "import torch\n",
    "import wandb\n",
    "import numpy as np\n",
    "\n",
    "from dance import logger\n",
    "from dance.datasets.singlemodality import CellTypeAnnotationDataset  # your dataset\n",
    "from dance.pipeline import PipelinePlaner, get_step3_yaml, run_step3, save_summary_data\n",
    "from dance.utils import set_seed\n",
    "from dance.typing import LogLevel\n",
    "from sklearn.random_projection import GaussianRandomProjection\n",
    "root_path=str(Path(__file__).resolve().parent) if '__file__' in globals() else os.getcwd()\n",
    "\n",
    "# Import your custom SVM class\n",
    "# In reality, you'd do: from your_svm_file import SVM\n",
    "# from your_svm_file import SVM\n",
    "\n",
    "\n",
    "\n",
    "def main(args=None):\n",
    "    #Step 2: Parsing Arguments and configuring hyperparameters\n",
    "    parser = argparse.ArgumentParser(formatter_class=argparse.ArgumentDefaultsHelpFormatter)\n",
    "    parser.add_argument(\"--cache\", action=\"store_true\", help=\"Cache processed data.\")\n",
    "    parser.add_argument(\"--dense_dim\", type=int, default=400, help=\"dim of PCA\")\n",
    "    parser.add_argument(\"--gpu\", type=int, default=0, help=\"GPU id, set to -1 for CPU\")\n",
    "    parser.add_argument(\"--log_level\", type=str, default=\"INFO\", choices=get_args(LogLevel))\n",
    "    parser.add_argument(\"--species\", default=\"human\")\n",
    "    parser.add_argument(\"--test_dataset\", nargs=\"+\", default=[138], type=int, help=\"list of dataset id\")\n",
    "    parser.add_argument(\"--tissue\", default=\"Brain\")  # TODO: Add option for different tissue name for train/test\n",
    "    parser.add_argument(\"--train_dataset\", nargs=\"+\", default=[328], type=int, help=\"list of dataset id\")\n",
    "    parser.add_argument(\"--valid_dataset\", nargs=\"+\", default=None, type=int, help=\"list of dataset id\")\n",
    "    parser.add_argument(\"--tune_mode\", default=\"pipeline_params\", choices=[\"pipeline\", \"params\", \"pipeline_params\"])\n",
    "    parser.add_argument(\"--seed\", type=int, default=10)\n",
    "    parser.add_argument(\"--count\", type=int, default=2)\n",
    "    parser.add_argument(\"--sweep_id\", type=str, default=None)\n",
    "    parser.add_argument(\"--summary_file_path\", default=\"results/pipeline/best_test_acc.csv\", type=str)\n",
    "    parser.add_argument(\"--root_path\", default=root_path, type=str)\n",
    "    if args is None:\n",
    "        args = parser.parse_args()\n",
    "    else:\n",
    "        args = parser.parse_args(args)\n",
    "\n",
    "    # Construct the path to the tuning config file\n",
    "    file_root_path = Path(\n",
    "        args.root_path, \"_\".join([\n",
    "            \"-\".join([str(num) for num in dataset])\n",
    "            for dataset in [args.train_dataset, args.valid_dataset, args.test_dataset] if dataset is not None\n",
    "        ])).resolve()\n",
    "    logger.info(f\"\\n files is saved in {file_root_path}\")\n",
    "\n",
    "    # Instantiate pipeline planer from config file\n",
    "    pipeline_planer = PipelinePlaner.from_config_file(f\"{file_root_path}/{args.tune_mode}_tuning_config.yaml\")\n",
    "    os.environ[\"WANDB_AGENT_MAX_INITIAL_FAILURES\"] = \"2000\"\n",
    "\n",
    "    #Step 3: define evaluation function\n",
    "    def evaluate_pipeline(tune_mode=args.tune_mode, pipeline_planer=pipeline_planer):\n",
    "        \"\"\"\n",
    "        The evaluation function used by wandb_sweep_agent.\n",
    "        It:\n",
    "        1. Loads data.\n",
    "        2. Applies the pipeline.\n",
    "        3. Trains and scores the model.\n",
    "        4: Evaluate model\n",
    "        5. Logs metric(s) to wandb.\n",
    "        \"\"\"\n",
    "        wandb.init(settings=wandb.Settings(start_method='thread'))\n",
    "        set_seed(args.seed)\n",
    "\n",
    "        # Load dataset\n",
    "        data = CellTypeAnnotationDataset(train_dataset=args.train_dataset, test_dataset=args.test_dataset,\n",
    "                                         valid_dataset=args.valid_dataset, species=args.species, tissue=args.tissue,\n",
    "                                         data_dir=\"../temp_data\").load_data()\n",
    "\n",
    "        # Preprocessing pipeline\n",
    "        kwargs = {tune_mode: dict(wandb.config)}\n",
    "        preprocessing_pipeline = pipeline_planer.generate(**kwargs)\n",
    "        preprocessing_pipeline(data)\n",
    "\n",
    "        # Retrieve training / testing data\n",
    "        x_train, y_train = data.get_train_data()\n",
    "        y_train_converted = y_train.argmax(1)\n",
    "        x_valid, y_valid = data.get_val_data()\n",
    "        x_test, y_test = data.get_test_data()\n",
    "\n",
    "        #Initialize our custom SVM model and train\n",
    "        # from your_svm_file import SVM  # Place your SVM import here\n",
    "        model = SVM(args, random_state=args.seed)\n",
    "        model.fit(x_train, y_train_converted)\n",
    "\n",
    "        #Evaluate model\n",
    "        train_score = model.score(x_train, y_train)\n",
    "        score = model.score(x_valid, y_valid)\n",
    "        test_score = model.score(x_test, y_test)\n",
    "\n",
    "        #Log results to wandb\n",
    "        wandb.log({\"train_acc\": train_score, \"acc\": score, \"test_acc\": test_score})\n",
    "        wandb.finish()\n",
    "\n",
    "    # Step 4: Run the sweep\n",
    "    entity, project, sweep_id = pipeline_planer.wandb_sweep_agent(\n",
    "        evaluate_pipeline, sweep_id=args.sweep_id, count=args.count) \n",
    "\n",
    "    #Step 5: Save summary data (top results, etc.)\n",
    "    save_summary_data(entity, project, sweep_id, summary_file_path=args.summary_file_path, root_path=file_root_path)\n",
    "\n",
    "    # Optionally, handle pipeline + parameter search steps\n",
    "    if args.tune_mode == \"pipeline\" or args.tune_mode == \"pipeline_params\":\n",
    "        get_step3_yaml(result_load_path=f\"{args.summary_file_path}\", step2_pipeline_planer=pipeline_planer,\n",
    "                       conf_load_path=f\"{Path(args.root_path).resolve().parent}/step3_default_params.yaml\",\n",
    "                       root_path=file_root_path)\n",
    "        if args.tune_mode == \"pipeline_params\":\n",
    "            run_step3(file_root_path, evaluate_pipeline, tune_mode=\"params\", step2_pipeline_planer=pipeline_planer)\n",
    "if __name__ == \"__main__\":\n",
    "    main([])\n"
   ]
  },
  {
   "cell_type": "markdown",
   "metadata": {},
   "source": [
    "## 3. Configuration Files\n",
    "\n",
    "The **configuration files** (e.g., `pipeline_params_tuning_config.yaml`, `pipeline_tuning_config.yaml`, `params_tuning_config.yaml`) guide the auto-search. Each file contains instructions for how to vary your preprocessing pipeline or model hyperparameters (or both). For example:"
   ]
  },
  {
   "cell_type": "markdown",
   "metadata": {},
   "source": [
    "#pipeline_params_tuning_config.yaml\n",
    "```yaml\n",
    "type: preprocessor\n",
    "tune_mode: pipeline_params\n",
    "pipeline_tuning_top_k: 3\n",
    "parameter_tuning_freq_n: 20\n",
    "pipeline:\n",
    "  - type: filter.gene\n",
    "    include:\n",
    "      - FilterGenesPercentile\n",
    "      - FilterGenesScanpyOrder\n",
    "      - FilterGenesPlaceHolder\n",
    "    default_params:\n",
    "      FilterGenesScanpyOrder:\n",
    "          order: [\"min_counts\", \"min_cells\", \"max_counts\", \"max_cells\"]\n",
    "          min_counts: 1\n",
    "          max_counts: 134732\n",
    "          min_cells: 1\n",
    "          max_cells: 401\n",
    "  - type: normalize\n",
    "    include:\n",
    "      - ScaleFeature\n",
    "      - ScTransform\n",
    "      - Log1P\n",
    "      - NormalizeTotal\n",
    "      - NormalizePlaceHolder\n",
    "    default_params:\n",
    "      ScTransform:\n",
    "        processes_num: 8\n",
    "  - type: filter.gene\n",
    "    include:\n",
    "      - HighlyVariableGenesLogarithmizedByMeanAndDisp\n",
    "      - HighlyVariableGenesRawCount\n",
    "      - HighlyVariableGenesLogarithmizedByTopGenes\n",
    "      - FilterGenesTopK\n",
    "      - FilterGenesRegression\n",
    "      - FilterGenesNumberPlaceHolder\n",
    "    default_params:\n",
    "      FilterGenesTopK:\n",
    "        num_genes: 2208\n",
    "      FilterGenesRegression:\n",
    "        num_genes: 2208\n",
    "      HighlyVariableGenesRawCount:\n",
    "        n_top_genes: 2208\n",
    "      HighlyVariableGenesLogarithmizedByTopGenes:\n",
    "        n_top_genes: 2208\n",
    "  - type: feature.cell\n",
    "    include:\n",
    "      - WeightedFeaturePCA\n",
    "      - WeightedFeatureSVD\n",
    "      - CellPCA\n",
    "      - CellSVD\n",
    "      - GaussRandProjFeature  # Registered custom preprocessing func\n",
    "      - FeatureCellPlaceHolder\n",
    "    params:\n",
    "      out: feature.cell\n",
    "      log_level: INFO\n",
    "    default_params:\n",
    "      WeightedFeaturePCA:\n",
    "        split_name: train\n",
    "      WeightedFeatureSVD:\n",
    "        split_name: train\n",
    "  - type: misc\n",
    "    target: SetConfig\n",
    "    params:\n",
    "      config_dict:\n",
    "        feature_channel: feature.cell\n",
    "        label_channel: cell_type\n",
    "wandb:\n",
    "  entity: xzy11632\n",
    "  project: dance-dev\n",
    "  method: grid #try grid to provide a comprehensive search\n",
    "  metric:\n",
    "    name: acc  # val/acc\n",
    "    goal: maximize\n",
    "\n",
    "```"
   ]
  },
  {
   "cell_type": "markdown",
   "metadata": {},
   "source": [
    "**Tips**:\n",
    "\n",
    "1. In `tune_mode=pipeline`, the system will only tune the preprocessing pipeline.  \n",
    "2. In `tune_mode=params`, the system will only tune the model parameters.  \n",
    "3. In `tune_mode=pipeline_params`, the system will do a two-stage search: first for pipelines, then for model parameters.\n",
    "\n",
    "---\n",
    "\n",
    "## 4. Testing & Execution\n",
    "\n",
    "After setting everything up:\n",
    "\n",
    "```bash\n",
    "# Search only the best preprocessing pipeline:\n",
    "python main.py --tune_mode pipeline\n",
    "\n",
    "# Search only the best model hyperparameters:\n",
    "python main.py --tune_mode params\n",
    "\n",
    "# Joint two-stage search for both pipeline and parameters:\n",
    "python main.py --tune_mode pipeline_params\n",
    "\n",
    "Once this completes, you should see results logged into Weights & Biases (wandb). The save_summary_data function writes out a CSV of the top performing runs. If you selected pipeline_params, the script also generates a default param config for the second stage of the search, which is automatically run via run_step3."
   ]
  },
  {
   "cell_type": "markdown",
   "metadata": {},
   "source": [
    "## 5. Summary\n",
    "By following these steps:\n",
    "\n",
    "Inherit from the appropriate base class (in our case BaseClassificationMethod).\n",
    "Implement the fit, predict, and (optionally) preprocessing_pipeline methods.\n",
    "Integrate your custom model into the main.py script.\n",
    "Create and reference the necessary configuration (YAML) files.\n",
    "Run the pipeline using --tune_mode (pipeline|params|pipeline_params).\n",
    "…you can easily plug in any custom algorithm—ranging from simple classification methods like an SVM to deep learning methods with pretraining steps—into this auto-search framework.\n",
    "\n",
    "Happy coding and good luck with your hyperparameter searches!\n",
    "\n"
   ]
  },
  {
   "cell_type": "markdown",
   "metadata": {},
   "source": []
  }
 ],
 "metadata": {
  "kernelspec": {
   "display_name": "dance",
   "language": "python",
   "name": "python3"
  },
  "language_info": {
   "codemirror_mode": {
    "name": "ipython",
    "version": 3
   },
   "file_extension": ".py",
   "mimetype": "text/x-python",
   "name": "python",
   "nbconvert_exporter": "python",
   "pygments_lexer": "ipython3",
   "version": "3.11.8"
  }
 },
 "nbformat": 4,
 "nbformat_minor": 2
}
